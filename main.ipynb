{
 "cells": [
  {
   "cell_type": "code",
   "execution_count": 1,
   "metadata": {},
   "outputs": [
    {
     "name": "stdout",
     "output_type": "stream",
     "text": [
      "WARNING:tensorflow:From l:\\Experimentos\\anomaly-flow\\.env\\lib\\site-packages\\keras\\src\\losses.py:2976: The name tf.losses.sparse_softmax_cross_entropy is deprecated. Please use tf.compat.v1.losses.sparse_softmax_cross_entropy instead.\n",
      "\n"
     ]
    },
    {
     "name": "stderr",
     "output_type": "stream",
     "text": [
      "l:\\Experimentos\\anomaly-flow\\.env\\lib\\site-packages\\tqdm\\auto.py:21: TqdmWarning: IProgress not found. Please update jupyter and ipywidgets. See https://ipywidgets.readthedocs.io/en/stable/user_install.html\n",
      "  from .autonotebook import tqdm as notebook_tqdm\n"
     ]
    },
    {
     "name": "stdout",
     "output_type": "stream",
     "text": [
      "WARNING:tensorflow:From l:\\Experimentos\\anomaly-flow\\.env\\lib\\site-packages\\keras\\src\\backend.py:873: The name tf.get_default_graph is deprecated. Please use tf.compat.v1.get_default_graph instead.\n",
      "\n"
     ]
    }
   ],
   "source": [
    "import os\n",
    "\n",
    "os.environ['TF_CPP_MIN_LOG_LEVEL'] = '2'\n",
    "\n",
    "from anomaly_flow.data.netflow import NetFlowV2\n",
    "from anomaly_flow.train.trainer_flow_nids import GANomaly\n",
    "from pathlib import Path\n",
    "import tensorflow as tf \n",
    "import json\n",
    "from anomaly_flow.data.synthetic_data import generate_synthetic_data\n",
    "from anomaly_flow.view.distribution_plot import generate_dist_plot"
   ]
  },
  {
   "cell_type": "code",
   "execution_count": 2,
   "metadata": {},
   "outputs": [],
   "source": [
    "os.environ['CUDA_VISIBLE_DEVICES'] = \"0\"\n",
    "\n",
    "hps = dict()\n",
    "\n",
    "with open('hps.json', 'r', encoding='utf-8') as file:\n",
    "    hps = json.load(file)"
   ]
  },
  {
   "cell_type": "code",
   "execution_count": 3,
   "metadata": {},
   "outputs": [
    {
     "name": "stdout",
     "output_type": "stream",
     "text": [
      "Loading dataset NF-ToN-IoT-v2-DDoS-downsample...\n",
      "Loaded dataset NF-ToN-IoT-v2-DDoS-downsample [OK]\n",
      "Initialized Columns Split Preprocessing.\n",
      "Using cached file: 0c64a61de3189470f64df188bc55130f.\n",
      "Finished Columns Split Preprocessing. [OK]\n",
      "Experiments using the following columns: \n",
      "PROTOCOL\n",
      "IN_BYTES\n",
      "IN_PKTS\n",
      "OUT_BYTES\n",
      "OUT_PKTS\n",
      "FLOW_DURATION_MILLISECONDS\n",
      "DURATION_IN\n",
      "DURATION_OUT\n",
      "MIN_TTL\n",
      "MAX_TTL\n",
      "LONGEST_FLOW_PKT\n",
      "SHORTEST_FLOW_PKT\n",
      "MIN_IP_PKT_LEN\n",
      "MAX_IP_PKT_LEN\n",
      "SRC_TO_DST_SECOND_BYTES\n",
      "DST_TO_SRC_SECOND_BYTES\n",
      "RETRANSMITTED_IN_BYTES\n",
      "RETRANSMITTED_IN_PKTS\n",
      "RETRANSMITTED_OUT_BYTES\n",
      "RETRANSMITTED_OUT_PKTS\n",
      "SRC_TO_DST_AVG_THROUGHPUT\n",
      "DST_TO_SRC_AVG_THROUGHPUT\n",
      "NUM_PKTS_UP_TO_128_BYTES\n",
      "NUM_PKTS_128_TO_256_BYTES\n",
      "NUM_PKTS_256_TO_512_BYTES\n",
      "NUM_PKTS_512_TO_1024_BYTES\n",
      "NUM_PKTS_1024_TO_1514_BYTES\n",
      "TCP_WIN_MAX_IN\n",
      "TCP_WIN_MAX_OUT\n",
      "ICMP_TYPE\n",
      "ICMP_IPV4_TYPE\n",
      "DNS_QUERY_ID\n",
      "DNS_QUERY_TYPE\n",
      "DNS_TTL_ANSWER\n",
      "URGENT_POINTER\n",
      "ACKNOWLEDGEMENT\n",
      "PUSH\n",
      "RESET\n",
      "SYNCHRONISATION\n",
      "FIN\n",
      "CLIENT_URGENT_POINTER\n",
      "CLIENT_ACKNOWLEDGEMENT\n",
      "CLIENT_PUSH\n",
      "CLIENT_RESET\n",
      "CLIENT_SYNCHRONISATION\n",
      "CLIENT_FIN\n",
      "SERVER_URGENT_POINTER\n",
      "SERVER_ACKNOWLEDGEMENT\n",
      "SERVER_PUSH\n",
      "SERVER_RESET\n",
      "SERVER_SYNCHRONISATION\n",
      "SERVER_FIN\n"
     ]
    }
   ],
   "source": [
    "dataset_name = \"NF-CSE-CIC-IDS2018-v2-DDoS-downsample\"\n",
    "netflow_dataset = NetFlowV2(dataset_name)\n",
    "\n",
    "netflow_dataset.configure(\n",
    "    hps[\"batch_size\"], 52, 1,\n",
    "    hps[\"shuffle_buffer_size\"], True, True\n",
    ")"
   ]
  },
  {
   "cell_type": "code",
   "execution_count": 4,
   "metadata": {},
   "outputs": [
    {
     "name": "stdout",
     "output_type": "stream",
     "text": [
      "Model: \"discriminator\"\n",
      "_________________________________________________________________\n",
      " Layer (type)                Output Shape              Param #   \n",
      "=================================================================\n",
      " sequential (Sequential)     (None, 256)               710400    \n",
      "                                                                 \n",
      " dense_3 (Dense)             multiple                  256       \n",
      "                                                                 \n",
      "=================================================================\n",
      "Total params: 710656 (2.71 MB)\n",
      "Trainable params: 710656 (2.71 MB)\n",
      "Non-trainable params: 0 (0.00 Byte)\n",
      "_________________________________________________________________\n",
      "Model: \"encoder\"\n",
      "_________________________________________________________________\n",
      " Layer (type)                Output Shape              Param #   \n",
      "=================================================================\n",
      " dense_8 (Dense)             (None, 1024)              54272     \n",
      "                                                                 \n",
      " leaky_re_lu_6 (LeakyReLU)   (None, 1024)              0         \n",
      "                                                                 \n",
      " dense_9 (Dense)             (None, 512)               524800    \n",
      "                                                                 \n",
      " batch_normalization_2 (Bat  (None, 512)               2048      \n",
      " chNormalization)                                                \n",
      "                                                                 \n",
      " leaky_re_lu_7 (LeakyReLU)   (None, 512)               0         \n",
      "                                                                 \n",
      " dense_10 (Dense)            (None, 256)               131328    \n",
      "                                                                 \n",
      " batch_normalization_3 (Bat  (None, 256)               1024      \n",
      " chNormalization)                                                \n",
      "                                                                 \n",
      " leaky_re_lu_8 (LeakyReLU)   (None, 256)               0         \n",
      "                                                                 \n",
      " dense_11 (Dense)            (None, 128)               32896     \n",
      "                                                                 \n",
      "=================================================================\n",
      "Total params: 746368 (2.85 MB)\n",
      "Trainable params: 744832 (2.84 MB)\n",
      "Non-trainable params: 1536 (6.00 KB)\n",
      "_________________________________________________________________\n",
      "Model: \"decoder\"\n",
      "_________________________________________________________________\n",
      " Layer (type)                Output Shape              Param #   \n",
      "=================================================================\n",
      " dense_4 (Dense)             (None, 256)               33024     \n",
      "                                                                 \n",
      " leaky_re_lu_3 (LeakyReLU)   (None, 256)               0         \n",
      "                                                                 \n",
      " dense_5 (Dense)             (None, 512)               131584    \n",
      "                                                                 \n",
      " leaky_re_lu_4 (LeakyReLU)   (None, 512)               0         \n",
      "                                                                 \n",
      " batch_normalization (Batch  (None, 512)               2048      \n",
      " Normalization)                                                  \n",
      "                                                                 \n",
      " dense_6 (Dense)             (None, 1024)              525312    \n",
      "                                                                 \n",
      " batch_normalization_1 (Bat  (None, 1024)              4096      \n",
      " chNormalization)                                                \n",
      "                                                                 \n",
      " leaky_re_lu_5 (LeakyReLU)   (None, 1024)              0         \n",
      "                                                                 \n",
      " dense_7 (Dense)             (None, 52)                53300     \n",
      "                                                                 \n",
      "=================================================================\n",
      "Total params: 749364 (2.86 MB)\n",
      "Trainable params: 746292 (2.85 MB)\n",
      "Non-trainable params: 3072 (12.00 KB)\n",
      "_________________________________________________________________\n",
      "Step  50 . d_loss:  1.27933371 , g_loss:  14.1137276 , e_loss:  0.0109066879 lr:  0.0002\n",
      "Step  100 . d_loss:  1.29917693 , g_loss:  8.50565529 , e_loss:  0.00651668897 lr:  0.0002\n",
      "Step  150 . d_loss:  1.31874311 , g_loss:  6.37337112 , e_loss:  0.004886284 lr:  0.0002\n",
      "Step  200 . d_loss:  1.33334208 , g_loss:  5.25068378 , e_loss:  0.00402372237 lr:  0.0002\n",
      "Step  250 . d_loss:  1.34269226 , g_loss:  4.54945 , e_loss:  0.00347877829 lr:  0.0002\n",
      "Step  300 . d_loss:  1.34923232 , g_loss:  4.07173347 , e_loss:  0.00312004518 lr:  0.0002\n",
      "Step  350 . d_loss:  1.35368109 , g_loss:  3.71931529 , e_loss:  0.00283353846 lr:  0.0002\n",
      "Step  400 . d_loss:  1.35790217 , g_loss:  3.45136452 , e_loss:  0.0026039076 lr:  0.0002\n",
      "Step  450 . d_loss:  1.36113703 , g_loss:  3.24086261 , e_loss:  0.00240359828 lr:  0.0002\n",
      "Step  500 . d_loss:  1.36354458 , g_loss:  3.06912065 , e_loss:  0.00224054721 lr:  0.0002\n",
      "Step  550 . d_loss:  1.36568964 , g_loss:  2.92681074 , e_loss:  0.00210196385 lr:  0.0002\n",
      "Step  600 . d_loss:  1.3674289 , g_loss:  2.80607939 , e_loss:  0.00197811611 lr:  0.0002\n",
      "Step  650 . d_loss:  1.36891842 , g_loss:  2.70489693 , e_loss:  0.00187539984 lr:  0.0002\n",
      "Step  700 . d_loss:  1.37014842 , g_loss:  2.61637688 , e_loss:  0.00178172369 lr:  0.0002\n",
      "Step  750 . d_loss:  1.37119007 , g_loss:  2.53838706 , e_loss:  0.0016972404 lr:  0.0002\n",
      "Step  800 . d_loss:  1.37214065 , g_loss:  2.47011709 , e_loss:  0.00162151014 lr:  0.0002\n",
      "Step  850 . d_loss:  1.3730104 , g_loss:  2.4091177 , e_loss:  0.00155123009 lr:  0.0002\n",
      "Step  900 . d_loss:  1.37376118 , g_loss:  2.35480666 , e_loss:  0.00149330264 lr:  0.0002\n",
      "Step  950 . d_loss:  1.37444615 , g_loss:  2.30496836 , e_loss:  0.00143553247 lr:  0.0002\n",
      "Step  1000 . d_loss:  1.37504065 , g_loss:  2.26053548 , e_loss:  0.00138555281 lr:  0.0002\n",
      "Step  1050 . d_loss:  1.37557387 , g_loss:  2.21972156 , e_loss:  0.00134026178 lr:  0.0002\n",
      "Step  1100 . d_loss:  1.37606263 , g_loss:  2.18311477 , e_loss:  0.00130037603 lr:  0.0002\n",
      "Step  1150 . d_loss:  1.37653112 , g_loss:  2.14965463 , e_loss:  0.00126357679 lr:  0.0002\n",
      "Step  1200 . d_loss:  1.37693536 , g_loss:  2.11873603 , e_loss:  0.00122959598 lr:  0.0002\n",
      "Step  1250 . d_loss:  1.37731516 , g_loss:  2.09025717 , e_loss:  0.00119721773 lr:  0.0002\n",
      "Step  1300 . d_loss:  1.37764621 , g_loss:  2.06313848 , e_loss:  0.00116392446 lr:  0.0002\n",
      "Step  1350 . d_loss:  1.37796509 , g_loss:  2.03841877 , e_loss:  0.00113514054 lr:  0.0002\n",
      "Step  1400 . d_loss:  1.37827301 , g_loss:  2.0149529 , e_loss:  0.00110584754 lr:  0.0002\n",
      "Step  1450 . d_loss:  1.37854552 , g_loss:  1.99310088 , e_loss:  0.00107902673 lr:  0.0002\n",
      "Step  1500 . d_loss:  1.37880433 , g_loss:  1.97286034 , e_loss:  0.00105508009 lr:  0.0002\n",
      "Step  1550 . d_loss:  1.37903821 , g_loss:  1.95375431 , e_loss:  0.00103257049 lr:  0.0002\n",
      "Step  1600 . d_loss:  1.37925518 , g_loss:  1.9355545 , e_loss:  0.00100975565 lr:  0.0002\n",
      "Step  1650 . d_loss:  1.37946177 , g_loss:  1.91879785 , e_loss:  0.000990505912 lr:  0.0002\n",
      "Step  1700 . d_loss:  1.37965524 , g_loss:  1.90275037 , e_loss:  0.00097071944 lr:  0.0002\n",
      "Step  1750 . d_loss:  1.37985241 , g_loss:  1.88743889 , e_loss:  0.000950798916 lr:  0.0002\n",
      "Step  1800 . d_loss:  1.38003337 , g_loss:  1.87287819 , e_loss:  0.000934429641 lr:  0.0002\n",
      "Step  1850 . d_loss:  1.38020134 , g_loss:  1.85938692 , e_loss:  0.000917927246 lr:  0.0002\n",
      "Step  1900 . d_loss:  1.38036466 , g_loss:  1.84651244 , e_loss:  0.000902978412 lr:  0.0002\n",
      "Step  1950 . d_loss:  1.38051116 , g_loss:  1.83421016 , e_loss:  0.000888144 lr:  0.0002\n",
      "Step  2000 . d_loss:  1.38065052 , g_loss:  1.82218218 , e_loss:  0.000873053446 lr:  0.0002\n",
      "Step  2050 . d_loss:  1.38078928 , g_loss:  1.81088 , e_loss:  0.000858665851 lr:  0.0002\n",
      "Step  2100 . d_loss:  1.38091826 , g_loss:  1.80001771 , e_loss:  0.000844233786 lr:  0.0002\n",
      "Step  2150 . d_loss:  1.38104606 , g_loss:  1.78961337 , e_loss:  0.000830302655 lr:  0.0002\n",
      "Step  2200 . d_loss:  1.38115776 , g_loss:  1.77974677 , e_loss:  0.000818450062 lr:  0.0002\n",
      "Step  2250 . d_loss:  1.3812772 , g_loss:  1.77002645 , e_loss:  0.000806100492 lr:  0.0002\n",
      "Step  2300 . d_loss:  1.38139558 , g_loss:  1.76084816 , e_loss:  0.000794244173 lr:  0.0002\n",
      "Step  2350 . d_loss:  1.38149846 , g_loss:  1.75209582 , e_loss:  0.000782894902 lr:  0.0002\n",
      "Step  2400 . d_loss:  1.38159394 , g_loss:  1.74378443 , e_loss:  0.000772193074 lr:  0.0002\n",
      "Step  2450 . d_loss:  1.38168693 , g_loss:  1.73591912 , e_loss:  0.000762556796 lr:  0.0002\n",
      "Step  2500 . d_loss:  1.38177955 , g_loss:  1.72809076 , e_loss:  0.000752791471 lr:  0.0002\n",
      "Step  2550 . d_loss:  1.38186491 , g_loss:  1.72076464 , e_loss:  0.000744075398 lr:  0.0002\n",
      "Step  2600 . d_loss:  1.38194382 , g_loss:  1.71349537 , e_loss:  0.000734728 lr:  0.0002\n",
      "Step  2650 . d_loss:  1.38202596 , g_loss:  1.70653987 , e_loss:  0.00072613504 lr:  0.0002\n",
      "Step  2700 . d_loss:  1.38210642 , g_loss:  1.69984484 , e_loss:  0.000717080547 lr:  0.0002\n",
      "Step  2750 . d_loss:  1.38218284 , g_loss:  1.69328356 , e_loss:  0.000708574662 lr:  0.0002\n",
      "Step  2800 . d_loss:  1.38225138 , g_loss:  1.68698907 , e_loss:  0.000700680888 lr:  0.0002\n",
      "Step  2850 . d_loss:  1.38231373 , g_loss:  1.68067777 , e_loss:  0.000692276051 lr:  0.0002\n",
      "Step  2900 . d_loss:  1.38239121 , g_loss:  1.67473638 , e_loss:  0.000684822968 lr:  0.0002\n",
      "Step  2950 . d_loss:  1.38245654 , g_loss:  1.6690079 , e_loss:  0.000677054748 lr:  0.0002\n",
      "Step  3000 . d_loss:  1.38252366 , g_loss:  1.66348732 , e_loss:  0.000669699046 lr:  0.0002\n",
      "Step  3050 . d_loss:  1.38258433 , g_loss:  1.65805733 , e_loss:  0.000661947939 lr:  0.0002\n",
      "Step  3100 . d_loss:  1.38264179 , g_loss:  1.65283263 , e_loss:  0.000655275537 lr:  0.0002\n",
      "Step  3150 . d_loss:  1.38270187 , g_loss:  1.64775157 , e_loss:  0.00064810965 lr:  0.0002\n",
      "Step  3200 . d_loss:  1.38275218 , g_loss:  1.64299238 , e_loss:  0.000642341911 lr:  0.0002\n",
      "Step  3250 . d_loss:  1.38280189 , g_loss:  1.63805854 , e_loss:  0.000636034878 lr:  0.0002\n",
      "Step  3300 . d_loss:  1.38285351 , g_loss:  1.63327479 , e_loss:  0.000629821 lr:  0.0002\n",
      "Step  3350 . d_loss:  1.38290429 , g_loss:  1.62865448 , e_loss:  0.000623810396 lr:  0.0002\n",
      "Step  3400 . d_loss:  1.38295484 , g_loss:  1.6244247 , e_loss:  0.000619417 lr:  0.0002\n",
      "Step  3450 . d_loss:  1.383003 , g_loss:  1.62014902 , e_loss:  0.000614198623 lr:  0.0002\n",
      "Step  3500 . d_loss:  1.38305068 , g_loss:  1.61613214 , e_loss:  0.000609112729 lr:  0.0002\n",
      "Step  3550 . d_loss:  1.38309598 , g_loss:  1.61205876 , e_loss:  0.0006034135 lr:  0.0002\n",
      "Step  3600 . d_loss:  1.38313878 , g_loss:  1.60806179 , e_loss:  0.000597807171 lr:  0.0002\n",
      "Step  3650 . d_loss:  1.38318026 , g_loss:  1.60415912 , e_loss:  0.000592790719 lr:  0.0002\n",
      "Step  3700 . d_loss:  1.38322186 , g_loss:  1.60031855 , e_loss:  0.000587619201 lr:  0.0002\n",
      "Step  3750 . d_loss:  1.38326252 , g_loss:  1.59666586 , e_loss:  0.000582999084 lr:  0.0002\n",
      "Step  3800 . d_loss:  1.38330269 , g_loss:  1.59308839 , e_loss:  0.000578640727 lr:  0.0002\n",
      "Step  3850 . d_loss:  1.38334155 , g_loss:  1.58951068 , e_loss:  0.000573341676 lr:  0.0002\n",
      "Step  3900 . d_loss:  1.38337624 , g_loss:  1.58618295 , e_loss:  0.000569395605 lr:  0.0002\n",
      "Step  3950 . d_loss:  1.38340688 , g_loss:  1.58282661 , e_loss:  0.000564465474 lr:  0.0002\n",
      "Step  4000 . d_loss:  1.38344216 , g_loss:  1.57948327 , e_loss:  0.000559659093 lr:  0.0002\n",
      "Step  4050 . d_loss:  1.38347387 , g_loss:  1.57621729 , e_loss:  0.000555633276 lr:  0.0002\n",
      "Step  4100 . d_loss:  1.38351023 , g_loss:  1.57306015 , e_loss:  0.000551062287 lr:  0.0002\n",
      "Step  4150 . d_loss:  1.38354135 , g_loss:  1.57002759 , e_loss:  0.000547362259 lr:  0.0002\n",
      "Step  4200 . d_loss:  1.38357329 , g_loss:  1.56693733 , e_loss:  0.000543190457 lr:  0.0002\n",
      "Step  4250 . d_loss:  1.38360465 , g_loss:  1.56401694 , e_loss:  0.000539239496 lr:  0.0002\n",
      "Step  4300 . d_loss:  1.38363302 , g_loss:  1.56111789 , e_loss:  0.000535793661 lr:  0.0002\n",
      "Step  4350 . d_loss:  1.38366091 , g_loss:  1.55821252 , e_loss:  0.00053155 lr:  0.0002\n",
      "Step  4400 . d_loss:  1.38369083 , g_loss:  1.55554879 , e_loss:  0.000528322766 lr:  0.0002\n",
      "Step  4450 . d_loss:  1.38371527 , g_loss:  1.5529213 , e_loss:  0.000525301963 lr:  0.0002\n",
      "Step  4500 . d_loss:  1.383744 , g_loss:  1.55019271 , e_loss:  0.000521257345 lr:  0.0002\n",
      "Step  4550 . d_loss:  1.38376832 , g_loss:  1.54760134 , e_loss:  0.000517982873 lr:  0.0002\n",
      "0 Epoch completed\n",
      "NF-ToN-IoT-v2-DDoS-downsample: \n",
      "Validation f1-score: 0.7673637551399921\n",
      "Validation f2-score: 0.8918496933201171\n",
      "Validation accuracy: 0.7426308881952327\n",
      "Validation Current AUC RC: 0.4255451560020447\n",
      "Best AUC-RC on validation set:  0.425545156\n",
      "WARNING:tensorflow:Compiled the loaded model, but the compiled metrics have yet to be built. `model.compile_metrics` will be empty until you train or evaluate the model.\n",
      "INFO:tensorflow:Assets written to: log\\NF-ToN-IoT-v2-DDoS-downsample\\results\\auc_rc\\generator\\assets\n"
     ]
    },
    {
     "name": "stderr",
     "output_type": "stream",
     "text": [
      "INFO:tensorflow:Assets written to: log\\NF-ToN-IoT-v2-DDoS-downsample\\results\\auc_rc\\generator\\assets\n"
     ]
    },
    {
     "name": "stdout",
     "output_type": "stream",
     "text": [
      "WARNING:tensorflow:Compiled the loaded model, but the compiled metrics have yet to be built. `model.compile_metrics` will be empty until you train or evaluate the model.\n"
     ]
    },
    {
     "name": "stderr",
     "output_type": "stream",
     "text": [
      "WARNING:tensorflow:Compiled the loaded model, but the compiled metrics have yet to be built. `model.compile_metrics` will be empty until you train or evaluate the model.\n"
     ]
    },
    {
     "name": "stdout",
     "output_type": "stream",
     "text": [
      "INFO:tensorflow:Assets written to: log\\NF-ToN-IoT-v2-DDoS-downsample\\results\\auc_rc\\encoder\\assets\n"
     ]
    },
    {
     "name": "stderr",
     "output_type": "stream",
     "text": [
      "INFO:tensorflow:Assets written to: log\\NF-ToN-IoT-v2-DDoS-downsample\\results\\auc_rc\\encoder\\assets\n"
     ]
    },
    {
     "name": "stdout",
     "output_type": "stream",
     "text": [
      "INFO:tensorflow:Assets written to: log\\NF-ToN-IoT-v2-DDoS-downsample\\results\\auc_rc\\discriminator\\assets\n"
     ]
    },
    {
     "name": "stderr",
     "output_type": "stream",
     "text": [
      "INFO:tensorflow:Assets written to: log\\NF-ToN-IoT-v2-DDoS-downsample\\results\\auc_rc\\discriminator\\assets\n"
     ]
    },
    {
     "name": "stdout",
     "output_type": "stream",
     "text": [
      "Validation Current AUC ROC: 0.595815122127533\n",
      "Best AUC-ROC on validation set:  0.595815122\n",
      "Model: \"decoder\"\n",
      "_________________________________________________________________\n",
      " Layer (type)                Output Shape              Param #   \n",
      "=================================================================\n",
      " dense_4 (Dense)             (None, 256)               33024     \n",
      "                                                                 \n",
      " leaky_re_lu_3 (LeakyReLU)   (None, 256)               0         \n",
      "                                                                 \n",
      " dense_5 (Dense)             (None, 512)               131584    \n",
      "                                                                 \n",
      " leaky_re_lu_4 (LeakyReLU)   (None, 512)               0         \n",
      "                                                                 \n",
      " batch_normalization (Batch  (None, 512)               2048      \n",
      " Normalization)                                                  \n",
      "                                                                 \n",
      " dense_6 (Dense)             (None, 1024)              525312    \n",
      "                                                                 \n",
      " batch_normalization_1 (Bat  (None, 1024)              4096      \n",
      " chNormalization)                                                \n",
      "                                                                 \n",
      " leaky_re_lu_5 (LeakyReLU)   (None, 1024)              0         \n",
      "                                                                 \n",
      " dense_7 (Dense)             (None, 52)                53300     \n",
      "                                                                 \n",
      "=================================================================\n",
      "Total params: 749364 (2.86 MB)\n",
      "Trainable params: 746292 (2.85 MB)\n",
      "Non-trainable params: 3072 (12.00 KB)\n",
      "_________________________________________________________________\n",
      "WARNING:tensorflow:Compiled the loaded model, but the compiled metrics have yet to be built. `model.compile_metrics` will be empty until you train or evaluate the model.\n"
     ]
    },
    {
     "name": "stderr",
     "output_type": "stream",
     "text": [
      "WARNING:tensorflow:Compiled the loaded model, but the compiled metrics have yet to be built. `model.compile_metrics` will be empty until you train or evaluate the model.\n"
     ]
    },
    {
     "name": "stdout",
     "output_type": "stream",
     "text": [
      "INFO:tensorflow:Assets written to: log\\NF-ToN-IoT-v2-DDoS-downsample\\results\\auc_roc\\generator\\assets\n"
     ]
    },
    {
     "name": "stderr",
     "output_type": "stream",
     "text": [
      "INFO:tensorflow:Assets written to: log\\NF-ToN-IoT-v2-DDoS-downsample\\results\\auc_roc\\generator\\assets\n"
     ]
    },
    {
     "name": "stdout",
     "output_type": "stream",
     "text": [
      "Model: \"encoder\"\n",
      "_________________________________________________________________\n",
      " Layer (type)                Output Shape              Param #   \n",
      "=================================================================\n",
      " dense_8 (Dense)             (None, 1024)              54272     \n",
      "                                                                 \n",
      " leaky_re_lu_6 (LeakyReLU)   (None, 1024)              0         \n",
      "                                                                 \n",
      " dense_9 (Dense)             (None, 512)               524800    \n",
      "                                                                 \n",
      " batch_normalization_2 (Bat  (None, 512)               2048      \n",
      " chNormalization)                                                \n",
      "                                                                 \n",
      " leaky_re_lu_7 (LeakyReLU)   (None, 512)               0         \n",
      "                                                                 \n",
      " dense_10 (Dense)            (None, 256)               131328    \n",
      "                                                                 \n",
      " batch_normalization_3 (Bat  (None, 256)               1024      \n",
      " chNormalization)                                                \n",
      "                                                                 \n",
      " leaky_re_lu_8 (LeakyReLU)   (None, 256)               0         \n",
      "                                                                 \n",
      " dense_11 (Dense)            (None, 128)               32896     \n",
      "                                                                 \n",
      "=================================================================\n",
      "Total params: 746368 (2.85 MB)\n",
      "Trainable params: 744832 (2.84 MB)\n",
      "Non-trainable params: 1536 (6.00 KB)\n",
      "_________________________________________________________________\n",
      "WARNING:tensorflow:Compiled the loaded model, but the compiled metrics have yet to be built. `model.compile_metrics` will be empty until you train or evaluate the model.\n"
     ]
    },
    {
     "name": "stderr",
     "output_type": "stream",
     "text": [
      "WARNING:tensorflow:Compiled the loaded model, but the compiled metrics have yet to be built. `model.compile_metrics` will be empty until you train or evaluate the model.\n"
     ]
    },
    {
     "name": "stdout",
     "output_type": "stream",
     "text": [
      "INFO:tensorflow:Assets written to: log\\NF-ToN-IoT-v2-DDoS-downsample\\results\\auc_roc\\encoder\\assets\n"
     ]
    },
    {
     "name": "stderr",
     "output_type": "stream",
     "text": [
      "INFO:tensorflow:Assets written to: log\\NF-ToN-IoT-v2-DDoS-downsample\\results\\auc_roc\\encoder\\assets\n"
     ]
    },
    {
     "name": "stdout",
     "output_type": "stream",
     "text": [
      "Model: \"discriminator\"\n",
      "_________________________________________________________________\n",
      " Layer (type)                Output Shape              Param #   \n",
      "=================================================================\n",
      " sequential (Sequential)     (None, 256)               710400    \n",
      "                                                                 \n",
      " dense_3 (Dense)             multiple                  256       \n",
      "                                                                 \n",
      "=================================================================\n",
      "Total params: 710656 (2.71 MB)\n",
      "Trainable params: 710656 (2.71 MB)\n",
      "Non-trainable params: 0 (0.00 Byte)\n",
      "_________________________________________________________________\n",
      "INFO:tensorflow:Assets written to: log\\NF-ToN-IoT-v2-DDoS-downsample\\results\\auc_roc\\discriminator\\assets\n"
     ]
    },
    {
     "name": "stderr",
     "output_type": "stream",
     "text": [
      "INFO:tensorflow:Assets written to: log\\NF-ToN-IoT-v2-DDoS-downsample\\results\\auc_roc\\discriminator\\assets\n"
     ]
    },
    {
     "name": "stdout",
     "output_type": "stream",
     "text": [
      "Step  4600 . d_loss:  1.38581383 , g_loss:  1.32058132 , e_loss:  0.000226741511 lr:  0.0002\n",
      "Step  4650 . d_loss:  1.38605845 , g_loss:  1.31136942 , e_loss:  0.000201376897 lr:  0.0002\n",
      "Step  4700 . d_loss:  1.38602412 , g_loss:  1.30978334 , e_loss:  0.000189705621 lr:  0.0002\n",
      "Step  4750 . d_loss:  1.38598156 , g_loss:  1.31064165 , e_loss:  0.000181282245 lr:  0.0002\n",
      "Step  4800 . d_loss:  1.38583553 , g_loss:  1.31081927 , e_loss:  0.000186139179 lr:  0.0002\n",
      "Step  4850 . d_loss:  1.38574409 , g_loss:  1.31158984 , e_loss:  0.000194620763 lr:  0.0002\n",
      "Step  4900 . d_loss:  1.38577068 , g_loss:  1.31144667 , e_loss:  0.000193525 lr:  0.0002\n",
      "Step  4950 . d_loss:  1.38571715 , g_loss:  1.31089103 , e_loss:  0.000193585627 lr:  0.0002\n",
      "Step  5000 . d_loss:  1.38565481 , g_loss:  1.31152248 , e_loss:  0.000193871267 lr:  0.0002\n",
      "Step  5050 . d_loss:  1.3856169 , g_loss:  1.31128168 , e_loss:  0.00019706598 lr:  0.0002\n",
      "Step  5100 . d_loss:  1.38554871 , g_loss:  1.31100321 , e_loss:  0.00019883168 lr:  0.0002\n",
      "Step  5150 . d_loss:  1.3855294 , g_loss:  1.31015325 , e_loss:  0.000196730631 lr:  0.0002\n",
      "Step  5200 . d_loss:  1.38542902 , g_loss:  1.31042922 , e_loss:  0.000199613292 lr:  0.0002\n",
      "Step  5250 . d_loss:  1.3853029 , g_loss:  1.31075525 , e_loss:  0.000205036762 lr:  0.0002\n",
      "Step  5300 . d_loss:  1.38522255 , g_loss:  1.3107003 , e_loss:  0.000204289565 lr:  0.0002\n",
      "Step  5350 . d_loss:  1.38514781 , g_loss:  1.31078744 , e_loss:  0.000201456729 lr:  0.0002\n",
      "Step  5400 . d_loss:  1.38512707 , g_loss:  1.31043708 , e_loss:  0.000198888025 lr:  0.0002\n",
      "Step  5450 . d_loss:  1.3850832 , g_loss:  1.3101896 , e_loss:  0.000199218295 lr:  0.0002\n",
      "Step  5500 . d_loss:  1.3850528 , g_loss:  1.30968368 , e_loss:  0.000196908499 lr:  0.0002\n",
      "Step  5550 . d_loss:  1.38504612 , g_loss:  1.30954087 , e_loss:  0.000195529938 lr:  0.0002\n",
      "Step  5600 . d_loss:  1.38497591 , g_loss:  1.30927467 , e_loss:  0.000196201 lr:  0.0002\n",
      "Step  5650 . d_loss:  1.3849138 , g_loss:  1.30900717 , e_loss:  0.000195657092 lr:  0.0002\n",
      "Step  5700 . d_loss:  1.38487065 , g_loss:  1.30876517 , e_loss:  0.000195603599 lr:  0.0002\n",
      "Step  5750 . d_loss:  1.38480687 , g_loss:  1.30860865 , e_loss:  0.000196959518 lr:  0.0002\n",
      "Step  5800 . d_loss:  1.38473487 , g_loss:  1.30855429 , e_loss:  0.000197796762 lr:  0.0002\n",
      "Step  5850 . d_loss:  1.38473105 , g_loss:  1.30808687 , e_loss:  0.000195511879 lr:  0.0002\n",
      "Step  5900 . d_loss:  1.38472712 , g_loss:  1.30775976 , e_loss:  0.000193355969 lr:  0.0002\n",
      "Step  5950 . d_loss:  1.38469791 , g_loss:  1.30754137 , e_loss:  0.000192001113 lr:  0.0002\n",
      "Step  6000 . d_loss:  1.38464212 , g_loss:  1.30718875 , e_loss:  0.000190620369 lr:  0.0002\n",
      "Step  6050 . d_loss:  1.3846184 , g_loss:  1.30690682 , e_loss:  0.000189395898 lr:  0.0002\n",
      "Step  6100 . d_loss:  1.38454807 , g_loss:  1.30669844 , e_loss:  0.000188748236 lr:  0.0002\n",
      "Step  6150 . d_loss:  1.38456881 , g_loss:  1.30639958 , e_loss:  0.000187540398 lr:  0.0002\n",
      "Step  6200 . d_loss:  1.38463247 , g_loss:  1.30611825 , e_loss:  0.000187467 lr:  0.0002\n",
      "Step  6250 . d_loss:  1.38467216 , g_loss:  1.30592167 , e_loss:  0.00018604497 lr:  0.0002\n",
      "Step  6300 . d_loss:  1.38472712 , g_loss:  1.30541444 , e_loss:  0.000184281846 lr:  0.0002\n",
      "Step  6350 . d_loss:  1.38476682 , g_loss:  1.30515969 , e_loss:  0.000184096149 lr:  0.0002\n",
      "Step  6400 . d_loss:  1.38480771 , g_loss:  1.3050952 , e_loss:  0.000183814846 lr:  0.0002\n",
      "Step  6450 . d_loss:  1.38484204 , g_loss:  1.30492687 , e_loss:  0.000183841039 lr:  0.0002\n",
      "Step  6500 . d_loss:  1.3848778 , g_loss:  1.30479479 , e_loss:  0.000183865894 lr:  0.0002\n",
      "Step  6550 . d_loss:  1.38490987 , g_loss:  1.30471098 , e_loss:  0.000183825192 lr:  0.0002\n",
      "Step  6600 . d_loss:  1.38493693 , g_loss:  1.304456 , e_loss:  0.000183750133 lr:  0.0002\n",
      "Step  6650 . d_loss:  1.38496494 , g_loss:  1.30418062 , e_loss:  0.000182312753 lr:  0.0002\n",
      "Step  6700 . d_loss:  1.38499057 , g_loss:  1.30394268 , e_loss:  0.000181347656 lr:  0.0002\n",
      "Step  6750 . d_loss:  1.3850143 , g_loss:  1.30376685 , e_loss:  0.000181136056 lr:  0.0002\n",
      "Step  6800 . d_loss:  1.38503981 , g_loss:  1.3034308 , e_loss:  0.000180423245 lr:  0.0002\n",
      "Step  6850 . d_loss:  1.38507104 , g_loss:  1.30315757 , e_loss:  0.000179595139 lr:  0.0002\n",
      "Step  6900 . d_loss:  1.38509846 , g_loss:  1.30288827 , e_loss:  0.000178617542 lr:  0.0002\n",
      "Step  6950 . d_loss:  1.3851248 , g_loss:  1.3027612 , e_loss:  0.00017796125 lr:  0.0002\n",
      "Step  7000 . d_loss:  1.38515174 , g_loss:  1.30256486 , e_loss:  0.000177269772 lr:  0.0002\n",
      "Step  7050 . d_loss:  1.3851707 , g_loss:  1.30242503 , e_loss:  0.000176905392 lr:  0.0002\n",
      "Step  7100 . d_loss:  1.3851881 , g_loss:  1.3023752 , e_loss:  0.000177491878 lr:  0.0002\n",
      "Step  7150 . d_loss:  1.38521028 , g_loss:  1.30218387 , e_loss:  0.000177259542 lr:  0.0002\n",
      "Step  7200 . d_loss:  1.38523126 , g_loss:  1.30191684 , e_loss:  0.000176332935 lr:  0.0002\n",
      "Step  7250 . d_loss:  1.3852433 , g_loss:  1.30189455 , e_loss:  0.000176262212 lr:  0.0002\n",
      "Step  7300 . d_loss:  1.38525903 , g_loss:  1.30176866 , e_loss:  0.000175551759 lr:  0.0002\n",
      "Step  7350 . d_loss:  1.38527036 , g_loss:  1.30166328 , e_loss:  0.000175682333 lr:  0.0002\n",
      "Step  7400 . d_loss:  1.38528335 , g_loss:  1.3015095 , e_loss:  0.000175197289 lr:  0.0002\n",
      "Step  7450 . d_loss:  1.38529563 , g_loss:  1.30126905 , e_loss:  0.000174891058 lr:  0.0002\n",
      "Step  7500 . d_loss:  1.3853091 , g_loss:  1.30115807 , e_loss:  0.000174722009 lr:  0.0002\n",
      "Step  7550 . d_loss:  1.38531733 , g_loss:  1.30096328 , e_loss:  0.00017436099 lr:  0.0002\n",
      "Step  7600 . d_loss:  1.38532722 , g_loss:  1.30076456 , e_loss:  0.000173385255 lr:  0.0002\n",
      "Step  7650 . d_loss:  1.38534188 , g_loss:  1.30057847 , e_loss:  0.000173041015 lr:  0.0002\n",
      "Step  7700 . d_loss:  1.38534546 , g_loss:  1.30039895 , e_loss:  0.000172306391 lr:  0.0002\n",
      "Step  7750 . d_loss:  1.38535416 , g_loss:  1.30039442 , e_loss:  0.00017238 lr:  0.0002\n",
      "Step  7800 . d_loss:  1.38535392 , g_loss:  1.30028713 , e_loss:  0.000172358399 lr:  0.0002\n",
      "Step  7850 . d_loss:  1.38536239 , g_loss:  1.30003595 , e_loss:  0.000172508429 lr:  0.0002\n",
      "Step  7900 . d_loss:  1.38536513 , g_loss:  1.29978859 , e_loss:  0.00017180237 lr:  0.0002\n",
      "Step  7950 . d_loss:  1.38536978 , g_loss:  1.29970193 , e_loss:  0.000172622778 lr:  0.0002\n",
      "Step  8000 . d_loss:  1.38537514 , g_loss:  1.29965508 , e_loss:  0.000173028748 lr:  0.0002\n",
      "Step  8050 . d_loss:  1.38538289 , g_loss:  1.29954731 , e_loss:  0.000173160675 lr:  0.0002\n",
      "Step  8100 . d_loss:  1.38537335 , g_loss:  1.29932892 , e_loss:  0.0001725193 lr:  0.0002\n",
      "Step  8150 . d_loss:  1.38537419 , g_loss:  1.29919672 , e_loss:  0.000172047614 lr:  0.0002\n",
      "Step  8200 . d_loss:  1.38536799 , g_loss:  1.29902351 , e_loss:  0.000171593128 lr:  0.0002\n",
      "Step  8250 . d_loss:  1.3853699 , g_loss:  1.29892266 , e_loss:  0.000171646563 lr:  0.0002\n",
      "Step  8300 . d_loss:  1.3853606 , g_loss:  1.29882383 , e_loss:  0.000171602049 lr:  0.0002\n",
      "Step  8350 . d_loss:  1.38532507 , g_loss:  1.29880643 , e_loss:  0.000172074666 lr:  0.0002\n",
      "Step  8400 . d_loss:  1.38529611 , g_loss:  1.29864585 , e_loss:  0.000171585634 lr:  0.0002\n",
      "Step  8450 . d_loss:  1.38527513 , g_loss:  1.29858112 , e_loss:  0.000171610896 lr:  0.0002\n",
      "Step  8500 . d_loss:  1.38525891 , g_loss:  1.29850209 , e_loss:  0.000171227191 lr:  0.0002\n",
      "Step  8550 . d_loss:  1.38524604 , g_loss:  1.29835093 , e_loss:  0.000170653482 lr:  0.0002\n",
      "Step  8600 . d_loss:  1.38521695 , g_loss:  1.29815888 , e_loss:  0.000170539395 lr:  0.0002\n",
      "Step  8650 . d_loss:  1.38517141 , g_loss:  1.29794204 , e_loss:  0.000169814622 lr:  0.0002\n",
      "Step  8700 . d_loss:  1.38514853 , g_loss:  1.29778743 , e_loss:  0.000169691149 lr:  0.0002\n",
      "Step  8750 . d_loss:  1.38511777 , g_loss:  1.29761374 , e_loss:  0.000169690989 lr:  0.0002\n",
      "Step  8800 . d_loss:  1.38507605 , g_loss:  1.29750705 , e_loss:  0.000169251216 lr:  0.0002\n",
      "Step  8850 . d_loss:  1.38503313 , g_loss:  1.2973882 , e_loss:  0.000169498409 lr:  0.0002\n",
      "Step  8900 . d_loss:  1.3850112 , g_loss:  1.29723251 , e_loss:  0.000169183026 lr:  0.0002\n",
      "Step  8950 . d_loss:  1.3849678 , g_loss:  1.29714978 , e_loss:  0.00016916504 lr:  0.0002\n",
      "Step  9000 . d_loss:  1.38493192 , g_loss:  1.29700148 , e_loss:  0.000169018589 lr:  0.0002\n",
      "Step  9050 . d_loss:  1.38491321 , g_loss:  1.29685354 , e_loss:  0.000168928775 lr:  0.0002\n",
      "Step  9100 . d_loss:  1.38487172 , g_loss:  1.29668939 , e_loss:  0.000169132371 lr:  0.0002\n",
      "1 Epoch completed\n",
      "NF-ToN-IoT-v2-DDoS-downsample: \n",
      "Validation f1-score: 0.7722844676996076\n",
      "Validation f2-score: 0.89106794660267\n",
      "Validation accuracy: 0.7514631810442679\n",
      "Validation Current AUC RC: 0.4455208480358124\n",
      "Best AUC-RC on validation set:  0.445520848\n",
      "WARNING:tensorflow:Compiled the loaded model, but the compiled metrics have yet to be built. `model.compile_metrics` will be empty until you train or evaluate the model.\n"
     ]
    },
    {
     "name": "stderr",
     "output_type": "stream",
     "text": [
      "WARNING:tensorflow:Compiled the loaded model, but the compiled metrics have yet to be built. `model.compile_metrics` will be empty until you train or evaluate the model.\n"
     ]
    },
    {
     "name": "stdout",
     "output_type": "stream",
     "text": [
      "INFO:tensorflow:Assets written to: log\\NF-ToN-IoT-v2-DDoS-downsample\\results\\auc_rc\\generator\\assets\n"
     ]
    },
    {
     "name": "stderr",
     "output_type": "stream",
     "text": [
      "INFO:tensorflow:Assets written to: log\\NF-ToN-IoT-v2-DDoS-downsample\\results\\auc_rc\\generator\\assets\n"
     ]
    },
    {
     "name": "stdout",
     "output_type": "stream",
     "text": [
      "WARNING:tensorflow:Compiled the loaded model, but the compiled metrics have yet to be built. `model.compile_metrics` will be empty until you train or evaluate the model.\n"
     ]
    },
    {
     "name": "stderr",
     "output_type": "stream",
     "text": [
      "WARNING:tensorflow:Compiled the loaded model, but the compiled metrics have yet to be built. `model.compile_metrics` will be empty until you train or evaluate the model.\n"
     ]
    },
    {
     "name": "stdout",
     "output_type": "stream",
     "text": [
      "INFO:tensorflow:Assets written to: log\\NF-ToN-IoT-v2-DDoS-downsample\\results\\auc_rc\\encoder\\assets\n"
     ]
    },
    {
     "name": "stderr",
     "output_type": "stream",
     "text": [
      "INFO:tensorflow:Assets written to: log\\NF-ToN-IoT-v2-DDoS-downsample\\results\\auc_rc\\encoder\\assets\n"
     ]
    },
    {
     "name": "stdout",
     "output_type": "stream",
     "text": [
      "INFO:tensorflow:Assets written to: log\\NF-ToN-IoT-v2-DDoS-downsample\\results\\auc_rc\\discriminator\\assets\n"
     ]
    },
    {
     "name": "stderr",
     "output_type": "stream",
     "text": [
      "INFO:tensorflow:Assets written to: log\\NF-ToN-IoT-v2-DDoS-downsample\\results\\auc_rc\\discriminator\\assets\n"
     ]
    },
    {
     "name": "stdout",
     "output_type": "stream",
     "text": [
      "Validation Current AUC ROC: 0.6311425566673279\n",
      "Best AUC-ROC on validation set:  0.631142557\n",
      "Model: \"decoder\"\n",
      "_________________________________________________________________\n",
      " Layer (type)                Output Shape              Param #   \n",
      "=================================================================\n",
      " dense_4 (Dense)             (None, 256)               33024     \n",
      "                                                                 \n",
      " leaky_re_lu_3 (LeakyReLU)   (None, 256)               0         \n",
      "                                                                 \n",
      " dense_5 (Dense)             (None, 512)               131584    \n",
      "                                                                 \n",
      " leaky_re_lu_4 (LeakyReLU)   (None, 512)               0         \n",
      "                                                                 \n",
      " batch_normalization (Batch  (None, 512)               2048      \n",
      " Normalization)                                                  \n",
      "                                                                 \n",
      " dense_6 (Dense)             (None, 1024)              525312    \n",
      "                                                                 \n",
      " batch_normalization_1 (Bat  (None, 1024)              4096      \n",
      " chNormalization)                                                \n",
      "                                                                 \n",
      " leaky_re_lu_5 (LeakyReLU)   (None, 1024)              0         \n",
      "                                                                 \n",
      " dense_7 (Dense)             (None, 52)                53300     \n",
      "                                                                 \n",
      "=================================================================\n",
      "Total params: 749364 (2.86 MB)\n",
      "Trainable params: 746292 (2.85 MB)\n",
      "Non-trainable params: 3072 (12.00 KB)\n",
      "_________________________________________________________________\n",
      "WARNING:tensorflow:Compiled the loaded model, but the compiled metrics have yet to be built. `model.compile_metrics` will be empty until you train or evaluate the model.\n"
     ]
    },
    {
     "name": "stderr",
     "output_type": "stream",
     "text": [
      "WARNING:tensorflow:Compiled the loaded model, but the compiled metrics have yet to be built. `model.compile_metrics` will be empty until you train or evaluate the model.\n"
     ]
    },
    {
     "name": "stdout",
     "output_type": "stream",
     "text": [
      "INFO:tensorflow:Assets written to: log\\NF-ToN-IoT-v2-DDoS-downsample\\results\\auc_roc\\generator\\assets\n"
     ]
    },
    {
     "name": "stderr",
     "output_type": "stream",
     "text": [
      "INFO:tensorflow:Assets written to: log\\NF-ToN-IoT-v2-DDoS-downsample\\results\\auc_roc\\generator\\assets\n"
     ]
    },
    {
     "name": "stdout",
     "output_type": "stream",
     "text": [
      "Model: \"encoder\"\n",
      "_________________________________________________________________\n",
      " Layer (type)                Output Shape              Param #   \n",
      "=================================================================\n",
      " dense_8 (Dense)             (None, 1024)              54272     \n",
      "                                                                 \n",
      " leaky_re_lu_6 (LeakyReLU)   (None, 1024)              0         \n",
      "                                                                 \n",
      " dense_9 (Dense)             (None, 512)               524800    \n",
      "                                                                 \n",
      " batch_normalization_2 (Bat  (None, 512)               2048      \n",
      " chNormalization)                                                \n",
      "                                                                 \n",
      " leaky_re_lu_7 (LeakyReLU)   (None, 512)               0         \n",
      "                                                                 \n",
      " dense_10 (Dense)            (None, 256)               131328    \n",
      "                                                                 \n",
      " batch_normalization_3 (Bat  (None, 256)               1024      \n",
      " chNormalization)                                                \n",
      "                                                                 \n",
      " leaky_re_lu_8 (LeakyReLU)   (None, 256)               0         \n",
      "                                                                 \n",
      " dense_11 (Dense)            (None, 128)               32896     \n",
      "                                                                 \n",
      "=================================================================\n",
      "Total params: 746368 (2.85 MB)\n",
      "Trainable params: 744832 (2.84 MB)\n",
      "Non-trainable params: 1536 (6.00 KB)\n",
      "_________________________________________________________________\n",
      "WARNING:tensorflow:Compiled the loaded model, but the compiled metrics have yet to be built. `model.compile_metrics` will be empty until you train or evaluate the model.\n"
     ]
    },
    {
     "name": "stderr",
     "output_type": "stream",
     "text": [
      "WARNING:tensorflow:Compiled the loaded model, but the compiled metrics have yet to be built. `model.compile_metrics` will be empty until you train or evaluate the model.\n"
     ]
    },
    {
     "name": "stdout",
     "output_type": "stream",
     "text": [
      "INFO:tensorflow:Assets written to: log\\NF-ToN-IoT-v2-DDoS-downsample\\results\\auc_roc\\encoder\\assets\n"
     ]
    },
    {
     "name": "stderr",
     "output_type": "stream",
     "text": [
      "INFO:tensorflow:Assets written to: log\\NF-ToN-IoT-v2-DDoS-downsample\\results\\auc_roc\\encoder\\assets\n"
     ]
    },
    {
     "name": "stdout",
     "output_type": "stream",
     "text": [
      "Model: \"discriminator\"\n",
      "_________________________________________________________________\n",
      " Layer (type)                Output Shape              Param #   \n",
      "=================================================================\n",
      " sequential (Sequential)     (None, 256)               710400    \n",
      "                                                                 \n",
      " dense_3 (Dense)             multiple                  256       \n",
      "                                                                 \n",
      "=================================================================\n",
      "Total params: 710656 (2.71 MB)\n",
      "Trainable params: 710656 (2.71 MB)\n",
      "Non-trainable params: 0 (0.00 Byte)\n",
      "_________________________________________________________________\n",
      "INFO:tensorflow:Assets written to: log\\NF-ToN-IoT-v2-DDoS-downsample\\results\\auc_roc\\discriminator\\assets\n"
     ]
    },
    {
     "name": "stderr",
     "output_type": "stream",
     "text": [
      "INFO:tensorflow:Assets written to: log\\NF-ToN-IoT-v2-DDoS-downsample\\results\\auc_roc\\discriminator\\assets\n"
     ]
    },
    {
     "name": "stdout",
     "output_type": "stream",
     "text": [
      "Step  9150 . d_loss:  1.38195407 , g_loss:  1.29799807 , e_loss:  0.000175786612 lr:  0.0002\n",
      "Step  9200 . d_loss:  1.38251758 , g_loss:  1.28935087 , e_loss:  0.000167696242 lr:  0.0002\n",
      "Step  9250 . d_loss:  1.38252842 , g_loss:  1.28573442 , e_loss:  0.000152526336 lr:  0.0002\n",
      "Step  9300 . d_loss:  1.38323891 , g_loss:  1.28451931 , e_loss:  0.000141924684 lr:  0.0002\n",
      "Step  9350 . d_loss:  1.38290346 , g_loss:  1.28429759 , e_loss:  0.00014032051 lr:  0.0002\n",
      "Step  9400 . d_loss:  1.38246119 , g_loss:  1.28480446 , e_loss:  0.000149402098 lr:  0.0002\n",
      "Step  9450 . d_loss:  1.3825978 , g_loss:  1.28468978 , e_loss:  0.000152384091 lr:  0.0002\n",
      "Step  9500 . d_loss:  1.38244772 , g_loss:  1.28445983 , e_loss:  0.000152453373 lr:  0.0002\n",
      "Step  9550 . d_loss:  1.38245928 , g_loss:  1.28418791 , e_loss:  0.000152693057 lr:  0.0002\n",
      "Step  9600 . d_loss:  1.38248742 , g_loss:  1.28423309 , e_loss:  0.000152544148 lr:  0.0002\n",
      "Step  9650 . d_loss:  1.38248241 , g_loss:  1.28447032 , e_loss:  0.000156172 lr:  0.0002\n",
      "Step  9700 . d_loss:  1.38252163 , g_loss:  1.28386271 , e_loss:  0.000155502014 lr:  0.0002\n",
      "Step  9750 . d_loss:  1.38247931 , g_loss:  1.28373075 , e_loss:  0.000156876675 lr:  0.0002\n",
      "Step  9800 . d_loss:  1.38240921 , g_loss:  1.28395295 , e_loss:  0.000158951792 lr:  0.0002\n",
      "Step  9850 . d_loss:  1.38221633 , g_loss:  1.28403926 , e_loss:  0.000160268464 lr:  0.0002\n",
      "Step  9900 . d_loss:  1.38225067 , g_loss:  1.28373015 , e_loss:  0.00015747892 lr:  0.0002\n",
      "Step  9950 . d_loss:  1.38217711 , g_loss:  1.28351378 , e_loss:  0.000153949761 lr:  0.0002\n",
      "Step  10000 . d_loss:  1.38217378 , g_loss:  1.28366423 , e_loss:  0.00015465141 lr:  0.0002\n",
      "Step  10050 . d_loss:  1.38216794 , g_loss:  1.28319538 , e_loss:  0.000152031876 lr:  0.0002\n",
      "Step  10100 . d_loss:  1.38223243 , g_loss:  1.28289127 , e_loss:  0.000150173029 lr:  0.0002\n",
      "Step  10150 . d_loss:  1.38224649 , g_loss:  1.28268242 , e_loss:  0.000150773194 lr:  0.0002\n",
      "Step  10200 . d_loss:  1.38216972 , g_loss:  1.28246498 , e_loss:  0.000149382264 lr:  0.0002\n",
      "Step  10250 . d_loss:  1.3821708 , g_loss:  1.28229713 , e_loss:  0.000149750704 lr:  0.0002\n",
      "Step  10300 . d_loss:  1.38212371 , g_loss:  1.28228211 , e_loss:  0.000149776271 lr:  0.0002\n",
      "Step  10350 . d_loss:  1.38205659 , g_loss:  1.28251076 , e_loss:  0.000150322579 lr:  0.0002\n",
      "Step  10400 . d_loss:  1.38205445 , g_loss:  1.28232384 , e_loss:  0.000149978208 lr:  0.0002\n",
      "Step  10450 . d_loss:  1.38209546 , g_loss:  1.28218806 , e_loss:  0.000147838204 lr:  0.0002\n",
      "Step  10500 . d_loss:  1.38208449 , g_loss:  1.28200805 , e_loss:  0.000146775783 lr:  0.0002\n",
      "Step  10550 . d_loss:  1.38206983 , g_loss:  1.28175735 , e_loss:  0.000145098777 lr:  0.0002\n",
      "Step  10600 . d_loss:  1.38207459 , g_loss:  1.28157592 , e_loss:  0.000144323727 lr:  0.0002\n",
      "Step  10650 . d_loss:  1.38213456 , g_loss:  1.28141499 , e_loss:  0.000143934783 lr:  0.0002\n",
      "Step  10700 . d_loss:  1.3821727 , g_loss:  1.28120327 , e_loss:  0.000143158482 lr:  0.0002\n",
      "Step  10750 . d_loss:  1.3821969 , g_loss:  1.2810055 , e_loss:  0.000142014163 lr:  0.0002\n",
      "Step  10800 . d_loss:  1.38226855 , g_loss:  1.28111362 , e_loss:  0.0001420318 lr:  0.0002\n",
      "Step  10850 . d_loss:  1.38252544 , g_loss:  1.28106701 , e_loss:  0.000140917822 lr:  0.0002\n",
      "Step  10900 . d_loss:  1.38263 , g_loss:  1.28087759 , e_loss:  0.000140843797 lr:  0.0002\n",
      "Step  10950 . d_loss:  1.38273513 , g_loss:  1.28078818 , e_loss:  0.000140315708 lr:  0.0002\n",
      "Step  11000 . d_loss:  1.38283634 , g_loss:  1.28075218 , e_loss:  0.00013985869 lr:  0.0002\n",
      "Step  11050 . d_loss:  1.3829267 , g_loss:  1.28065848 , e_loss:  0.000139472861 lr:  0.0002\n",
      "Step  11100 . d_loss:  1.38301146 , g_loss:  1.28064573 , e_loss:  0.000139711759 lr:  0.0002\n",
      "Step  11150 . d_loss:  1.38309407 , g_loss:  1.28042376 , e_loss:  0.000138374206 lr:  0.0002\n",
      "Step  11200 . d_loss:  1.38317084 , g_loss:  1.28035831 , e_loss:  0.000137534109 lr:  0.0002\n",
      "Step  11250 . d_loss:  1.38324547 , g_loss:  1.28021455 , e_loss:  0.000136457107 lr:  0.0002\n",
      "Step  11300 . d_loss:  1.38331723 , g_loss:  1.28009653 , e_loss:  0.000136122122 lr:  0.0002\n",
      "Step  11350 . d_loss:  1.38338065 , g_loss:  1.27980399 , e_loss:  0.000134866932 lr:  0.0002\n",
      "Step  11400 . d_loss:  1.38344455 , g_loss:  1.27961767 , e_loss:  0.000134494388 lr:  0.0002\n",
      "Step  11450 . d_loss:  1.38350463 , g_loss:  1.27951491 , e_loss:  0.000133678157 lr:  0.0002\n",
      "Step  11500 . d_loss:  1.38356388 , g_loss:  1.27945065 , e_loss:  0.000133184658 lr:  0.0002\n",
      "Step  11550 . d_loss:  1.3836211 , g_loss:  1.27928233 , e_loss:  0.000132105211 lr:  0.0002\n",
      "Step  11600 . d_loss:  1.38367546 , g_loss:  1.27915907 , e_loss:  0.000131775567 lr:  0.0002\n",
      "Step  11650 . d_loss:  1.38372517 , g_loss:  1.27913404 , e_loss:  0.000132065776 lr:  0.0002\n",
      "Step  11700 . d_loss:  1.38377476 , g_loss:  1.27914381 , e_loss:  0.000132548463 lr:  0.0002\n",
      "Step  11750 . d_loss:  1.38382447 , g_loss:  1.2788949 , e_loss:  0.000131743465 lr:  0.0002\n",
      "Step  11800 . d_loss:  1.38387334 , g_loss:  1.27886653 , e_loss:  0.00013144096 lr:  0.0002\n",
      "Step  11850 . d_loss:  1.38391924 , g_loss:  1.27876341 , e_loss:  0.000130600369 lr:  0.0002\n",
      "Step  11900 . d_loss:  1.38396311 , g_loss:  1.27870762 , e_loss:  0.000130325 lr:  0.0002\n",
      "Step  11950 . d_loss:  1.38400471 , g_loss:  1.27868319 , e_loss:  0.00013001787 lr:  0.0002\n",
      "Step  12000 . d_loss:  1.3840456 , g_loss:  1.2784934 , e_loss:  0.000129331689 lr:  0.0002\n",
      "Step  12050 . d_loss:  1.38408327 , g_loss:  1.27838027 , e_loss:  0.00012851358 lr:  0.0002\n",
      "Step  12100 . d_loss:  1.38412082 , g_loss:  1.27829051 , e_loss:  0.000128256142 lr:  0.0002\n",
      "Step  12150 . d_loss:  1.38415718 , g_loss:  1.27823591 , e_loss:  0.000127693071 lr:  0.0002\n",
      "Step  12200 . d_loss:  1.38419151 , g_loss:  1.27810788 , e_loss:  0.000126955201 lr:  0.0002\n",
      "Step  12250 . d_loss:  1.38422596 , g_loss:  1.27791405 , e_loss:  0.000126167 lr:  0.0002\n",
      "Step  12300 . d_loss:  1.38425708 , g_loss:  1.27792406 , e_loss:  0.000126253595 lr:  0.0002\n",
      "Step  12350 . d_loss:  1.38428795 , g_loss:  1.27792323 , e_loss:  0.000125862876 lr:  0.0002\n",
      "Step  12400 . d_loss:  1.38431847 , g_loss:  1.27774692 , e_loss:  0.000125796956 lr:  0.0002\n",
      "Step  12450 . d_loss:  1.38434887 , g_loss:  1.27763987 , e_loss:  0.000125743551 lr:  0.0002\n",
      "Step  12500 . d_loss:  1.38437927 , g_loss:  1.27753401 , e_loss:  0.000125930295 lr:  0.0002\n",
      "Step  12550 . d_loss:  1.38440728 , g_loss:  1.27747011 , e_loss:  0.00012623152 lr:  0.0002\n",
      "Step  12600 . d_loss:  1.38443339 , g_loss:  1.27736676 , e_loss:  0.000125687438 lr:  0.0002\n",
      "Step  12650 . d_loss:  1.38446116 , g_loss:  1.27730131 , e_loss:  0.000125909544 lr:  0.0002\n",
      "Step  12700 . d_loss:  1.38448715 , g_loss:  1.27718294 , e_loss:  0.000125113438 lr:  0.0002\n",
      "Step  12750 . d_loss:  1.3845104 , g_loss:  1.27709877 , e_loss:  0.000125011109 lr:  0.0002\n",
      "Step  12800 . d_loss:  1.38453603 , g_loss:  1.27695942 , e_loss:  0.000124849626 lr:  0.0002\n",
      "Step  12850 . d_loss:  1.38456178 , g_loss:  1.27689445 , e_loss:  0.000124581507 lr:  0.0002\n",
      "Step  12900 . d_loss:  1.38458538 , g_loss:  1.2768513 , e_loss:  0.000124490689 lr:  0.0002\n",
      "Step  12950 . d_loss:  1.38460946 , g_loss:  1.27672756 , e_loss:  0.00012395627 lr:  0.0002\n",
      "Step  13000 . d_loss:  1.38463163 , g_loss:  1.2765975 , e_loss:  0.000123853373 lr:  0.0002\n",
      "Step  13050 . d_loss:  1.38465476 , g_loss:  1.27652395 , e_loss:  0.000123460588 lr:  0.0002\n",
      "Step  13100 . d_loss:  1.38467479 , g_loss:  1.27645814 , e_loss:  0.000123198406 lr:  0.0002\n",
      "Step  13150 . d_loss:  1.38469458 , g_loss:  1.27639 , e_loss:  0.000123323887 lr:  0.0002\n",
      "Step  13200 . d_loss:  1.38471282 , g_loss:  1.27623916 , e_loss:  0.00012263465 lr:  0.0002\n",
      "Step  13250 . d_loss:  1.38473189 , g_loss:  1.27615607 , e_loss:  0.000122435536 lr:  0.0002\n",
      "Step  13300 . d_loss:  1.38475144 , g_loss:  1.27610219 , e_loss:  0.000122522048 lr:  0.0002\n",
      "Step  13350 . d_loss:  1.38477075 , g_loss:  1.27605009 , e_loss:  0.000122243757 lr:  0.0002\n",
      "Step  13400 . d_loss:  1.3847878 , g_loss:  1.27605247 , e_loss:  0.000122479061 lr:  0.0002\n",
      "Step  13450 . d_loss:  1.3848058 , g_loss:  1.27590406 , e_loss:  0.000122166501 lr:  0.0002\n",
      "Step  13500 . d_loss:  1.38482189 , g_loss:  1.27579975 , e_loss:  0.000122033394 lr:  0.0002\n",
      "Step  13550 . d_loss:  1.38483953 , g_loss:  1.27575123 , e_loss:  0.000122174708 lr:  0.0002\n",
      "Step  13600 . d_loss:  1.38485527 , g_loss:  1.27563798 , e_loss:  0.00012190883 lr:  0.0002\n",
      "Step  13650 . d_loss:  1.3848716 , g_loss:  1.27553093 , e_loss:  0.000121986042 lr:  0.0002\n",
      "2 Epoch completed\n",
      "NF-ToN-IoT-v2-DDoS-downsample: \n",
      "Validation f1-score: 0.7754824284256064\n",
      "Validation f2-score: 0.8961612348758047\n",
      "Validation accuracy: 0.7542387911464246\n",
      "Validation Current AUC RC: 0.44521161913871765\n",
      "Validation Current AUC ROC: 0.6305790543556213\n",
      "Step  13700 . d_loss:  1.38651717 , g_loss:  1.26982641 , e_loss:  0.000109461071 lr:  0.0002\n",
      "Step  13750 . d_loss:  1.38630056 , g_loss:  1.27081096 , e_loss:  0.00012801931 lr:  0.0002\n",
      "Step  13800 . d_loss:  1.38627875 , g_loss:  1.26735699 , e_loss:  0.000103407867 lr:  0.0002\n",
      "Step  13850 . d_loss:  1.38629544 , g_loss:  1.26871073 , e_loss:  0.000101200785 lr:  0.0002\n",
      "Step  13900 . d_loss:  1.38629472 , g_loss:  1.26751709 , e_loss:  9.94609218e-05 lr:  0.0002\n",
      "Step  13950 . d_loss:  1.38630116 , g_loss:  1.26855659 , e_loss:  0.000100733429 lr:  0.0002\n",
      "Step  14000 . d_loss:  1.38628769 , g_loss:  1.26870739 , e_loss:  0.000108831016 lr:  0.0002\n",
      "Step  14050 . d_loss:  1.38628232 , g_loss:  1.26821518 , e_loss:  0.000107202279 lr:  0.0002\n",
      "Step  14100 . d_loss:  1.38627219 , g_loss:  1.26805055 , e_loss:  0.000108934139 lr:  0.0002\n",
      "Step  14150 . d_loss:  1.38627768 , g_loss:  1.26848125 , e_loss:  0.000110841029 lr:  0.0002\n",
      "Step  14200 . d_loss:  1.3862741 , g_loss:  1.26829636 , e_loss:  0.000114132636 lr:  0.0002\n",
      "Step  14250 . d_loss:  1.3862735 , g_loss:  1.26812112 , e_loss:  0.000112931506 lr:  0.0002\n",
      "Step  14300 . d_loss:  1.38627887 , g_loss:  1.26793146 , e_loss:  0.000115176575 lr:  0.0002\n",
      "Step  14350 . d_loss:  1.38627982 , g_loss:  1.26832902 , e_loss:  0.000118112468 lr:  0.0002\n",
      "Step  14400 . d_loss:  1.38628066 , g_loss:  1.26832962 , e_loss:  0.000118098011 lr:  0.0002\n",
      "Step  14450 . d_loss:  1.38628948 , g_loss:  1.26789522 , e_loss:  0.000115068644 lr:  0.0002\n",
      "Step  14500 . d_loss:  1.38627982 , g_loss:  1.26758802 , e_loss:  0.000111728965 lr:  0.0002\n",
      "Step  14550 . d_loss:  1.38627672 , g_loss:  1.26754987 , e_loss:  0.000111507172 lr:  0.0002\n",
      "Step  14600 . d_loss:  1.38627458 , g_loss:  1.26749027 , e_loss:  0.000111035035 lr:  0.0002\n",
      "Step  14650 . d_loss:  1.38627636 , g_loss:  1.26723385 , e_loss:  0.000109106557 lr:  0.0002\n",
      "Step  14700 . d_loss:  1.3862828 , g_loss:  1.2671895 , e_loss:  0.000108790467 lr:  0.0002\n",
      "Step  14750 . d_loss:  1.38628542 , g_loss:  1.2669971 , e_loss:  0.000107250788 lr:  0.0002\n",
      "Step  14800 . d_loss:  1.38628531 , g_loss:  1.26722646 , e_loss:  0.000108874432 lr:  0.0002\n",
      "Step  14850 . d_loss:  1.38628602 , g_loss:  1.26716161 , e_loss:  0.00010886079 lr:  0.0002\n",
      "Step  14900 . d_loss:  1.38628697 , g_loss:  1.2672199 , e_loss:  0.000109492823 lr:  0.0002\n",
      "Step  14950 . d_loss:  1.38628531 , g_loss:  1.26711488 , e_loss:  0.000109399654 lr:  0.0002\n",
      "Step  15000 . d_loss:  1.38628721 , g_loss:  1.26685119 , e_loss:  0.000106925778 lr:  0.0002\n",
      "Step  15050 . d_loss:  1.38628829 , g_loss:  1.26688039 , e_loss:  0.000106687497 lr:  0.0002\n",
      "Step  15100 . d_loss:  1.38628709 , g_loss:  1.26669383 , e_loss:  0.000105185616 lr:  0.0002\n",
      "Step  15150 . d_loss:  1.38628888 , g_loss:  1.26661229 , e_loss:  0.00010358695 lr:  0.0002\n",
      "Step  15200 . d_loss:  1.38628674 , g_loss:  1.26647639 , e_loss:  0.000103221195 lr:  0.0002\n",
      "Step  15250 . d_loss:  1.38628554 , g_loss:  1.26640379 , e_loss:  0.000102519865 lr:  0.0002\n",
      "Step  15300 . d_loss:  1.38628519 , g_loss:  1.26621878 , e_loss:  0.000101989965 lr:  0.0002\n",
      "Step  15350 . d_loss:  1.38628531 , g_loss:  1.26619518 , e_loss:  0.000102167876 lr:  0.0002\n",
      "Step  15400 . d_loss:  1.38628793 , g_loss:  1.26612806 , e_loss:  0.000101167534 lr:  0.0002\n",
      "Step  15450 . d_loss:  1.38628781 , g_loss:  1.26597035 , e_loss:  0.000101342506 lr:  0.0002\n",
      "Step  15500 . d_loss:  1.38629 , g_loss:  1.26581478 , e_loss:  0.000101415746 lr:  0.0002\n",
      "Step  15550 . d_loss:  1.38628769 , g_loss:  1.26583815 , e_loss:  0.000101384561 lr:  0.0002\n",
      "Step  15600 . d_loss:  1.38628364 , g_loss:  1.26588583 , e_loss:  0.000102066821 lr:  0.0002\n",
      "Step  15650 . d_loss:  1.38628089 , g_loss:  1.26580966 , e_loss:  0.000101819649 lr:  0.0002\n",
      "Step  15700 . d_loss:  1.38628066 , g_loss:  1.26567209 , e_loss:  0.000101294907 lr:  0.0002\n",
      "Step  15750 . d_loss:  1.38627875 , g_loss:  1.26563966 , e_loss:  0.000101571401 lr:  0.0002\n",
      "Step  15800 . d_loss:  1.38628101 , g_loss:  1.26559854 , e_loss:  0.000100964397 lr:  0.0002\n",
      "Step  15850 . d_loss:  1.38627851 , g_loss:  1.26552641 , e_loss:  0.000100672471 lr:  0.0002\n",
      "Step  15900 . d_loss:  1.3862766 , g_loss:  1.265499 , e_loss:  0.000100332036 lr:  0.0002\n",
      "Step  15950 . d_loss:  1.38627541 , g_loss:  1.2653414 , e_loss:  0.00010004967 lr:  0.0002\n",
      "Step  16000 . d_loss:  1.3862747 , g_loss:  1.26527405 , e_loss:  9.93907743e-05 lr:  0.0002\n",
      "Step  16050 . d_loss:  1.38627326 , g_loss:  1.26524556 , e_loss:  9.93749e-05 lr:  0.0002\n",
      "Step  16100 . d_loss:  1.38627183 , g_loss:  1.26511919 , e_loss:  9.86520317e-05 lr:  0.0002\n",
      "Step  16150 . d_loss:  1.38626885 , g_loss:  1.26509368 , e_loss:  9.85076258e-05 lr:  0.0002\n",
      "Step  16200 . d_loss:  1.38626552 , g_loss:  1.26504838 , e_loss:  9.87809544e-05 lr:  0.0002\n",
      "Step  16250 . d_loss:  1.38626087 , g_loss:  1.26513445 , e_loss:  9.91241104e-05 lr:  0.0002\n",
      "Step  16300 . d_loss:  1.38626 , g_loss:  1.26496053 , e_loss:  9.87100284e-05 lr:  0.0002\n",
      "Step  16350 . d_loss:  1.38625968 , g_loss:  1.26489902 , e_loss:  9.84562357e-05 lr:  0.0002\n",
      "Step  16400 . d_loss:  1.38626158 , g_loss:  1.26481116 , e_loss:  9.77781892e-05 lr:  0.0002\n",
      "Step  16450 . d_loss:  1.38626027 , g_loss:  1.26471508 , e_loss:  9.74260038e-05 lr:  0.0002\n",
      "Step  16500 . d_loss:  1.38625622 , g_loss:  1.26475322 , e_loss:  9.7420947e-05 lr:  0.0002\n",
      "Step  16550 . d_loss:  1.38625824 , g_loss:  1.26461947 , e_loss:  9.66480075e-05 lr:  0.0002\n",
      "Step  16600 . d_loss:  1.38625574 , g_loss:  1.26455784 , e_loss:  9.6534568e-05 lr:  0.0002\n",
      "Step  16650 . d_loss:  1.38625491 , g_loss:  1.26458359 , e_loss:  9.64825304e-05 lr:  0.0002\n",
      "Step  16700 . d_loss:  1.38625395 , g_loss:  1.26451719 , e_loss:  9.61396363e-05 lr:  0.0002\n",
      "Step  16750 . d_loss:  1.38625205 , g_loss:  1.26439667 , e_loss:  9.56923832e-05 lr:  0.0002\n",
      "Step  16800 . d_loss:  1.38625121 , g_loss:  1.26426589 , e_loss:  9.51807233e-05 lr:  0.0002\n",
      "Step  16850 . d_loss:  1.38625026 , g_loss:  1.26417291 , e_loss:  9.47008375e-05 lr:  0.0002\n",
      "Step  16900 . d_loss:  1.38624847 , g_loss:  1.26415217 , e_loss:  9.49871319e-05 lr:  0.0002\n",
      "Step  16950 . d_loss:  1.38624573 , g_loss:  1.26405215 , e_loss:  9.48901215e-05 lr:  0.0002\n",
      "Step  17000 . d_loss:  1.3862462 , g_loss:  1.26397502 , e_loss:  9.48471206e-05 lr:  0.0002\n",
      "Step  17050 . d_loss:  1.38624024 , g_loss:  1.26388228 , e_loss:  9.50239482e-05 lr:  0.0002\n",
      "Step  17100 . d_loss:  1.38623679 , g_loss:  1.26388443 , e_loss:  9.59863537e-05 lr:  0.0002\n",
      "Step  17150 . d_loss:  1.3862375 , g_loss:  1.26383829 , e_loss:  9.60005636e-05 lr:  0.0002\n",
      "Step  17200 . d_loss:  1.38623476 , g_loss:  1.26381445 , e_loss:  9.62624836e-05 lr:  0.0002\n",
      "Step  17250 . d_loss:  1.38623428 , g_loss:  1.26372123 , e_loss:  9.59072131e-05 lr:  0.0002\n",
      "Step  17300 . d_loss:  1.3862325 , g_loss:  1.26361072 , e_loss:  9.59463578e-05 lr:  0.0002\n",
      "Step  17350 . d_loss:  1.38623238 , g_loss:  1.26357079 , e_loss:  9.59089302e-05 lr:  0.0002\n",
      "Step  17400 . d_loss:  1.38623226 , g_loss:  1.26352704 , e_loss:  9.5818461e-05 lr:  0.0002\n",
      "Step  17450 . d_loss:  1.3862319 , g_loss:  1.26349676 , e_loss:  9.58402525e-05 lr:  0.0002\n",
      "Step  17500 . d_loss:  1.3862294 , g_loss:  1.26343095 , e_loss:  9.59282188e-05 lr:  0.0002\n",
      "Step  17550 . d_loss:  1.3862288 , g_loss:  1.26336169 , e_loss:  9.54574571e-05 lr:  0.0002\n",
      "Step  17600 . d_loss:  1.38622606 , g_loss:  1.26334786 , e_loss:  9.5697731e-05 lr:  0.0002\n",
      "Step  17650 . d_loss:  1.38622522 , g_loss:  1.2633065 , e_loss:  9.57528e-05 lr:  0.0002\n",
      "Step  17700 . d_loss:  1.38622451 , g_loss:  1.26322591 , e_loss:  9.58259916e-05 lr:  0.0002\n",
      "Step  17750 . d_loss:  1.38622534 , g_loss:  1.26314938 , e_loss:  9.55256619e-05 lr:  0.0002\n",
      "Step  17800 . d_loss:  1.38622272 , g_loss:  1.26307869 , e_loss:  9.51725888e-05 lr:  0.0002\n",
      "Step  17850 . d_loss:  1.38622165 , g_loss:  1.26306117 , e_loss:  9.54200586e-05 lr:  0.0002\n",
      "Step  17900 . d_loss:  1.38622296 , g_loss:  1.2629447 , e_loss:  9.51569091e-05 lr:  0.0002\n",
      "Step  17950 . d_loss:  1.38622403 , g_loss:  1.26293385 , e_loss:  9.51188485e-05 lr:  0.0002\n",
      "Step  18000 . d_loss:  1.38622248 , g_loss:  1.262869 , e_loss:  9.51694819e-05 lr:  0.0002\n",
      "Step  18050 . d_loss:  1.38622344 , g_loss:  1.26276982 , e_loss:  9.48249726e-05 lr:  0.0002\n",
      "Step  18100 . d_loss:  1.38621831 , g_loss:  1.26278293 , e_loss:  9.55094511e-05 lr:  0.0002\n",
      "Step  18150 . d_loss:  1.38622105 , g_loss:  1.26276076 , e_loss:  9.54616553e-05 lr:  0.0002\n",
      "Step  18200 . d_loss:  1.3862232 , g_loss:  1.26263881 , e_loss:  9.50498579e-05 lr:  0.0002\n",
      "Step  18250 . d_loss:  1.38622499 , g_loss:  1.26257181 , e_loss:  9.50880712e-05 lr:  0.0002\n",
      "3 Epoch completed\n",
      "NF-ToN-IoT-v2-DDoS-downsample: \n",
      "Validation f1-score: 0.7737487148522284\n",
      "Validation f2-score: 0.8907027859705811\n",
      "Validation accuracy: 0.7541146424517594\n",
      "Validation Current AUC RC: 0.44818630814552307\n",
      "Best AUC-RC on validation set:  0.448186308\n",
      "WARNING:tensorflow:Compiled the loaded model, but the compiled metrics have yet to be built. `model.compile_metrics` will be empty until you train or evaluate the model.\n"
     ]
    },
    {
     "name": "stderr",
     "output_type": "stream",
     "text": [
      "WARNING:tensorflow:Compiled the loaded model, but the compiled metrics have yet to be built. `model.compile_metrics` will be empty until you train or evaluate the model.\n"
     ]
    },
    {
     "name": "stdout",
     "output_type": "stream",
     "text": [
      "INFO:tensorflow:Assets written to: log\\NF-ToN-IoT-v2-DDoS-downsample\\results\\auc_rc\\generator\\assets\n"
     ]
    },
    {
     "name": "stderr",
     "output_type": "stream",
     "text": [
      "INFO:tensorflow:Assets written to: log\\NF-ToN-IoT-v2-DDoS-downsample\\results\\auc_rc\\generator\\assets\n"
     ]
    },
    {
     "name": "stdout",
     "output_type": "stream",
     "text": [
      "WARNING:tensorflow:Compiled the loaded model, but the compiled metrics have yet to be built. `model.compile_metrics` will be empty until you train or evaluate the model.\n"
     ]
    },
    {
     "name": "stderr",
     "output_type": "stream",
     "text": [
      "WARNING:tensorflow:Compiled the loaded model, but the compiled metrics have yet to be built. `model.compile_metrics` will be empty until you train or evaluate the model.\n"
     ]
    },
    {
     "name": "stdout",
     "output_type": "stream",
     "text": [
      "INFO:tensorflow:Assets written to: log\\NF-ToN-IoT-v2-DDoS-downsample\\results\\auc_rc\\encoder\\assets\n"
     ]
    },
    {
     "name": "stderr",
     "output_type": "stream",
     "text": [
      "INFO:tensorflow:Assets written to: log\\NF-ToN-IoT-v2-DDoS-downsample\\results\\auc_rc\\encoder\\assets\n"
     ]
    },
    {
     "name": "stdout",
     "output_type": "stream",
     "text": [
      "INFO:tensorflow:Assets written to: log\\NF-ToN-IoT-v2-DDoS-downsample\\results\\auc_rc\\discriminator\\assets\n"
     ]
    },
    {
     "name": "stderr",
     "output_type": "stream",
     "text": [
      "INFO:tensorflow:Assets written to: log\\NF-ToN-IoT-v2-DDoS-downsample\\results\\auc_rc\\discriminator\\assets\n"
     ]
    },
    {
     "name": "stdout",
     "output_type": "stream",
     "text": [
      "Validation Current AUC ROC: 0.635414183139801\n",
      "Best AUC-ROC on validation set:  0.635414183\n",
      "Model: \"decoder\"\n",
      "_________________________________________________________________\n",
      " Layer (type)                Output Shape              Param #   \n",
      "=================================================================\n",
      " dense_4 (Dense)             (None, 256)               33024     \n",
      "                                                                 \n",
      " leaky_re_lu_3 (LeakyReLU)   (None, 256)               0         \n",
      "                                                                 \n",
      " dense_5 (Dense)             (None, 512)               131584    \n",
      "                                                                 \n",
      " leaky_re_lu_4 (LeakyReLU)   (None, 512)               0         \n",
      "                                                                 \n",
      " batch_normalization (Batch  (None, 512)               2048      \n",
      " Normalization)                                                  \n",
      "                                                                 \n",
      " dense_6 (Dense)             (None, 1024)              525312    \n",
      "                                                                 \n",
      " batch_normalization_1 (Bat  (None, 1024)              4096      \n",
      " chNormalization)                                                \n",
      "                                                                 \n",
      " leaky_re_lu_5 (LeakyReLU)   (None, 1024)              0         \n",
      "                                                                 \n",
      " dense_7 (Dense)             (None, 52)                53300     \n",
      "                                                                 \n",
      "=================================================================\n",
      "Total params: 749364 (2.86 MB)\n",
      "Trainable params: 746292 (2.85 MB)\n",
      "Non-trainable params: 3072 (12.00 KB)\n",
      "_________________________________________________________________\n",
      "WARNING:tensorflow:Compiled the loaded model, but the compiled metrics have yet to be built. `model.compile_metrics` will be empty until you train or evaluate the model.\n"
     ]
    },
    {
     "name": "stderr",
     "output_type": "stream",
     "text": [
      "WARNING:tensorflow:Compiled the loaded model, but the compiled metrics have yet to be built. `model.compile_metrics` will be empty until you train or evaluate the model.\n"
     ]
    },
    {
     "name": "stdout",
     "output_type": "stream",
     "text": [
      "INFO:tensorflow:Assets written to: log\\NF-ToN-IoT-v2-DDoS-downsample\\results\\auc_roc\\generator\\assets\n"
     ]
    },
    {
     "name": "stderr",
     "output_type": "stream",
     "text": [
      "INFO:tensorflow:Assets written to: log\\NF-ToN-IoT-v2-DDoS-downsample\\results\\auc_roc\\generator\\assets\n"
     ]
    },
    {
     "name": "stdout",
     "output_type": "stream",
     "text": [
      "Model: \"encoder\"\n",
      "_________________________________________________________________\n",
      " Layer (type)                Output Shape              Param #   \n",
      "=================================================================\n",
      " dense_8 (Dense)             (None, 1024)              54272     \n",
      "                                                                 \n",
      " leaky_re_lu_6 (LeakyReLU)   (None, 1024)              0         \n",
      "                                                                 \n",
      " dense_9 (Dense)             (None, 512)               524800    \n",
      "                                                                 \n",
      " batch_normalization_2 (Bat  (None, 512)               2048      \n",
      " chNormalization)                                                \n",
      "                                                                 \n",
      " leaky_re_lu_7 (LeakyReLU)   (None, 512)               0         \n",
      "                                                                 \n",
      " dense_10 (Dense)            (None, 256)               131328    \n",
      "                                                                 \n",
      " batch_normalization_3 (Bat  (None, 256)               1024      \n",
      " chNormalization)                                                \n",
      "                                                                 \n",
      " leaky_re_lu_8 (LeakyReLU)   (None, 256)               0         \n",
      "                                                                 \n",
      " dense_11 (Dense)            (None, 128)               32896     \n",
      "                                                                 \n",
      "=================================================================\n",
      "Total params: 746368 (2.85 MB)\n",
      "Trainable params: 744832 (2.84 MB)\n",
      "Non-trainable params: 1536 (6.00 KB)\n",
      "_________________________________________________________________\n",
      "WARNING:tensorflow:Compiled the loaded model, but the compiled metrics have yet to be built. `model.compile_metrics` will be empty until you train or evaluate the model.\n"
     ]
    },
    {
     "name": "stderr",
     "output_type": "stream",
     "text": [
      "WARNING:tensorflow:Compiled the loaded model, but the compiled metrics have yet to be built. `model.compile_metrics` will be empty until you train or evaluate the model.\n"
     ]
    },
    {
     "name": "stdout",
     "output_type": "stream",
     "text": [
      "INFO:tensorflow:Assets written to: log\\NF-ToN-IoT-v2-DDoS-downsample\\results\\auc_roc\\encoder\\assets\n"
     ]
    },
    {
     "name": "stderr",
     "output_type": "stream",
     "text": [
      "INFO:tensorflow:Assets written to: log\\NF-ToN-IoT-v2-DDoS-downsample\\results\\auc_roc\\encoder\\assets\n"
     ]
    },
    {
     "name": "stdout",
     "output_type": "stream",
     "text": [
      "Model: \"discriminator\"\n",
      "_________________________________________________________________\n",
      " Layer (type)                Output Shape              Param #   \n",
      "=================================================================\n",
      " sequential (Sequential)     (None, 256)               710400    \n",
      "                                                                 \n",
      " dense_3 (Dense)             multiple                  256       \n",
      "                                                                 \n",
      "=================================================================\n",
      "Total params: 710656 (2.71 MB)\n",
      "Trainable params: 710656 (2.71 MB)\n",
      "Non-trainable params: 0 (0.00 Byte)\n",
      "_________________________________________________________________\n",
      "INFO:tensorflow:Assets written to: log\\NF-ToN-IoT-v2-DDoS-downsample\\results\\auc_roc\\discriminator\\assets\n"
     ]
    },
    {
     "name": "stderr",
     "output_type": "stream",
     "text": [
      "INFO:tensorflow:Assets written to: log\\NF-ToN-IoT-v2-DDoS-downsample\\results\\auc_roc\\discriminator\\assets\n"
     ]
    },
    {
     "name": "stdout",
     "output_type": "stream",
     "text": [
      "Step  18300 . d_loss:  1.38602018 , g_loss:  1.26185679 , e_loss:  0.000115207629 lr:  0.0002\n",
      "Step  18350 . d_loss:  1.38602436 , g_loss:  1.25903404 , e_loss:  9.53854e-05 lr:  0.0002\n",
      "Step  18400 . d_loss:  1.38610482 , g_loss:  1.26002192 , e_loss:  0.000105454288 lr:  0.0002\n",
      "Step  18450 . d_loss:  1.38617277 , g_loss:  1.2587918 , e_loss:  9.42547e-05 lr:  0.0002\n",
      "Step  18500 . d_loss:  1.3862009 , g_loss:  1.25939929 , e_loss:  9.87305393e-05 lr:  0.0002\n",
      "Step  18550 . d_loss:  1.38609016 , g_loss:  1.25971794 , e_loss:  0.000107858577 lr:  0.0002\n",
      "Step  18600 . d_loss:  1.38610423 , g_loss:  1.25896573 , e_loss:  0.000101991907 lr:  0.0002\n",
      "Step  18650 . d_loss:  1.38608766 , g_loss:  1.25873637 , e_loss:  0.000102403952 lr:  0.0002\n",
      "Step  18700 . d_loss:  1.38608932 , g_loss:  1.25884032 , e_loss:  0.000101888661 lr:  0.0002\n",
      "Step  18750 . d_loss:  1.38607728 , g_loss:  1.25895512 , e_loss:  0.000104449748 lr:  0.0002\n",
      "Step  18800 . d_loss:  1.38611317 , g_loss:  1.25904155 , e_loss:  0.000104989762 lr:  0.0002\n",
      "Step  18850 . d_loss:  1.38609743 , g_loss:  1.25859749 , e_loss:  0.000105120991 lr:  0.0002\n",
      "Step  18900 . d_loss:  1.38609529 , g_loss:  1.25852847 , e_loss:  0.000107848602 lr:  0.0002\n",
      "Step  18950 . d_loss:  1.38609207 , g_loss:  1.25873244 , e_loss:  0.000109010405 lr:  0.0002\n",
      "Step  19000 . d_loss:  1.38609433 , g_loss:  1.25855291 , e_loss:  0.000106181607 lr:  0.0002\n",
      "Step  19050 . d_loss:  1.38610506 , g_loss:  1.25841117 , e_loss:  0.000102858619 lr:  0.0002\n",
      "Step  19100 . d_loss:  1.38611734 , g_loss:  1.25824606 , e_loss:  0.000100543482 lr:  0.0002\n",
      "Step  19150 . d_loss:  1.38610911 , g_loss:  1.25823379 , e_loss:  0.000101284953 lr:  0.0002\n",
      "Step  19200 . d_loss:  1.38610268 , g_loss:  1.25789642 , e_loss:  9.93287176e-05 lr:  0.0002\n",
      "Step  19250 . d_loss:  1.38610423 , g_loss:  1.2579608 , e_loss:  9.88195825e-05 lr:  0.0002\n",
      "Step  19300 . d_loss:  1.38610399 , g_loss:  1.25756621 , e_loss:  9.74898212e-05 lr:  0.0002\n",
      "Step  19350 . d_loss:  1.38609171 , g_loss:  1.25758767 , e_loss:  9.70658948e-05 lr:  0.0002\n",
      "Step  19400 . d_loss:  1.38608372 , g_loss:  1.25763476 , e_loss:  9.82728525e-05 lr:  0.0002\n",
      "Step  19450 . d_loss:  1.38607061 , g_loss:  1.25761688 , e_loss:  9.9036959e-05 lr:  0.0002\n",
      "Step  19500 . d_loss:  1.38605976 , g_loss:  1.25771165 , e_loss:  9.90401e-05 lr:  0.0002\n",
      "Step  19550 . d_loss:  1.38607252 , g_loss:  1.25737023 , e_loss:  9.66868174e-05 lr:  0.0002\n",
      "Step  19600 . d_loss:  1.38607538 , g_loss:  1.2573334 , e_loss:  9.51594047e-05 lr:  0.0002\n",
      "Step  19650 . d_loss:  1.38607824 , g_loss:  1.25727272 , e_loss:  9.4268551e-05 lr:  0.0002\n",
      "Step  19700 . d_loss:  1.38609159 , g_loss:  1.25718296 , e_loss:  9.26801149e-05 lr:  0.0002\n",
      "Step  19750 . d_loss:  1.38609123 , g_loss:  1.25703692 , e_loss:  9.18722726e-05 lr:  0.0002\n",
      "Step  19800 . d_loss:  1.38609719 , g_loss:  1.25689566 , e_loss:  9.1098249e-05 lr:  0.0002\n",
      "Step  19850 . d_loss:  1.38609421 , g_loss:  1.25670326 , e_loss:  9.04963e-05 lr:  0.0002\n",
      "Step  19900 . d_loss:  1.38607991 , g_loss:  1.25668907 , e_loss:  9.07168942e-05 lr:  0.0002\n",
      "Step  19950 . d_loss:  1.38608396 , g_loss:  1.25667179 , e_loss:  9.01534586e-05 lr:  0.0002\n",
      "Step  20000 . d_loss:  1.38608825 , g_loss:  1.25651157 , e_loss:  8.90321244e-05 lr:  0.0002\n",
      "Step  20050 . d_loss:  1.38607335 , g_loss:  1.25645113 , e_loss:  9.00789673e-05 lr:  0.0002\n",
      "Step  20100 . d_loss:  1.38607538 , g_loss:  1.25650251 , e_loss:  9.00997184e-05 lr:  0.0002\n",
      "Step  20150 . d_loss:  1.38606858 , g_loss:  1.25653481 , e_loss:  9.0860427e-05 lr:  0.0002\n",
      "Step  20200 . d_loss:  1.38606679 , g_loss:  1.25654233 , e_loss:  9.13009862e-05 lr:  0.0002\n",
      "Step  20250 . d_loss:  1.38607132 , g_loss:  1.25651753 , e_loss:  9.11395036e-05 lr:  0.0002\n",
      "Step  20300 . d_loss:  1.38607037 , g_loss:  1.25644934 , e_loss:  9.10601666e-05 lr:  0.0002\n",
      "Step  20350 . d_loss:  1.38607335 , g_loss:  1.25643444 , e_loss:  9.00630403e-05 lr:  0.0002\n",
      "Step  20400 . d_loss:  1.38607395 , g_loss:  1.25637329 , e_loss:  8.92471e-05 lr:  0.0002\n",
      "Step  20450 . d_loss:  1.38607681 , g_loss:  1.25634241 , e_loss:  8.92757162e-05 lr:  0.0002\n",
      "Step  20500 . d_loss:  1.38607168 , g_loss:  1.25616109 , e_loss:  8.89293442e-05 lr:  0.0002\n",
      "Step  20550 . d_loss:  1.38607299 , g_loss:  1.25605965 , e_loss:  8.84774418e-05 lr:  0.0002\n",
      "Step  20600 . d_loss:  1.38607335 , g_loss:  1.25607967 , e_loss:  8.8084671e-05 lr:  0.0002\n",
      "Step  20650 . d_loss:  1.38607562 , g_loss:  1.25602579 , e_loss:  8.76398262e-05 lr:  0.0002\n",
      "Step  20700 . d_loss:  1.38607681 , g_loss:  1.25600016 , e_loss:  8.75072365e-05 lr:  0.0002\n",
      "Step  20750 . d_loss:  1.38607633 , g_loss:  1.25604236 , e_loss:  8.78789215e-05 lr:  0.0002\n",
      "Step  20800 . d_loss:  1.38607717 , g_loss:  1.25606537 , e_loss:  8.81339365e-05 lr:  0.0002\n",
      "Step  20850 . d_loss:  1.38607538 , g_loss:  1.25596428 , e_loss:  8.83298198e-05 lr:  0.0002\n",
      "Step  20900 . d_loss:  1.38608015 , g_loss:  1.2559588 , e_loss:  8.83212779e-05 lr:  0.0002\n",
      "Step  20950 . d_loss:  1.38608527 , g_loss:  1.25589859 , e_loss:  8.78306382e-05 lr:  0.0002\n",
      "Step  21000 . d_loss:  1.38608789 , g_loss:  1.25593913 , e_loss:  8.77737184e-05 lr:  0.0002\n",
      "Step  21050 . d_loss:  1.38608599 , g_loss:  1.25599694 , e_loss:  8.76737686e-05 lr:  0.0002\n",
      "Step  21100 . d_loss:  1.38608813 , g_loss:  1.25589013 , e_loss:  8.71555603e-05 lr:  0.0002\n",
      "Step  21150 . d_loss:  1.38608789 , g_loss:  1.25585067 , e_loss:  8.71051e-05 lr:  0.0002\n",
      "Step  21200 . d_loss:  1.38609076 , g_loss:  1.25586843 , e_loss:  8.67852505e-05 lr:  0.0002\n",
      "Step  21250 . d_loss:  1.38609302 , g_loss:  1.25581896 , e_loss:  8.65199327e-05 lr:  0.0002\n",
      "Step  21300 . d_loss:  1.38609803 , g_loss:  1.25570369 , e_loss:  8.58094e-05 lr:  0.0002\n",
      "Step  21350 . d_loss:  1.38609529 , g_loss:  1.25560951 , e_loss:  8.56480619e-05 lr:  0.0002\n",
      "Step  21400 . d_loss:  1.38610065 , g_loss:  1.2555151 , e_loss:  8.50261204e-05 lr:  0.0002\n",
      "Step  21450 . d_loss:  1.38609815 , g_loss:  1.25554359 , e_loss:  8.54143291e-05 lr:  0.0002\n",
      "Step  21500 . d_loss:  1.38609731 , g_loss:  1.25544608 , e_loss:  8.54579557e-05 lr:  0.0002\n",
      "Step  21550 . d_loss:  1.3860966 , g_loss:  1.25537896 , e_loss:  8.54200553e-05 lr:  0.0002\n",
      "Step  21600 . d_loss:  1.3860997 , g_loss:  1.25519049 , e_loss:  8.50428405e-05 lr:  0.0002\n",
      "Step  21650 . d_loss:  1.38609123 , g_loss:  1.25523412 , e_loss:  8.59538195e-05 lr:  0.0002\n",
      "Step  21700 . d_loss:  1.38609111 , g_loss:  1.25516868 , e_loss:  8.60993678e-05 lr:  0.0002\n",
      "Step  21750 . d_loss:  1.38608563 , g_loss:  1.25520062 , e_loss:  8.63878595e-05 lr:  0.0002\n",
      "Step  21800 . d_loss:  1.38608611 , g_loss:  1.25514483 , e_loss:  8.59610518e-05 lr:  0.0002\n",
      "Step  21850 . d_loss:  1.38608456 , g_loss:  1.25505328 , e_loss:  8.57497653e-05 lr:  0.0002\n",
      "Step  21900 . d_loss:  1.38608372 , g_loss:  1.25501263 , e_loss:  8.59589272e-05 lr:  0.0002\n",
      "Step  21950 . d_loss:  1.38608611 , g_loss:  1.25494587 , e_loss:  8.58555795e-05 lr:  0.0002\n",
      "Step  22000 . d_loss:  1.38608646 , g_loss:  1.25489068 , e_loss:  8.58308049e-05 lr:  0.0002\n",
      "Step  22050 . d_loss:  1.38607919 , g_loss:  1.2548908 , e_loss:  8.62655652e-05 lr:  0.0002\n",
      "Step  22100 . d_loss:  1.38607717 , g_loss:  1.25483036 , e_loss:  8.59541906e-05 lr:  0.0002\n",
      "Step  22150 . d_loss:  1.38607371 , g_loss:  1.25484633 , e_loss:  8.62771121e-05 lr:  0.0002\n",
      "Step  22200 . d_loss:  1.3860755 , g_loss:  1.2547549 , e_loss:  8.5867985e-05 lr:  0.0002\n",
      "Step  22250 . d_loss:  1.38607538 , g_loss:  1.2546823 , e_loss:  8.56199695e-05 lr:  0.0002\n",
      "Step  22300 . d_loss:  1.38607395 , g_loss:  1.25459468 , e_loss:  8.584631e-05 lr:  0.0002\n",
      "Step  22350 . d_loss:  1.3860749 , g_loss:  1.25451612 , e_loss:  8.53969759e-05 lr:  0.0002\n",
      "Step  22400 . d_loss:  1.38607109 , g_loss:  1.25455523 , e_loss:  8.57938066e-05 lr:  0.0002\n",
      "Step  22450 . d_loss:  1.38607049 , g_loss:  1.25450528 , e_loss:  8.56654297e-05 lr:  0.0002\n",
      "Step  22500 . d_loss:  1.38607085 , g_loss:  1.25453198 , e_loss:  8.56786937e-05 lr:  0.0002\n",
      "Step  22550 . d_loss:  1.38607144 , g_loss:  1.25451314 , e_loss:  8.58528438e-05 lr:  0.0002\n",
      "Step  22600 . d_loss:  1.38607275 , g_loss:  1.25442302 , e_loss:  8.56476472e-05 lr:  0.0002\n",
      "Step  22650 . d_loss:  1.38607156 , g_loss:  1.2544533 , e_loss:  8.60395303e-05 lr:  0.0002\n",
      "Step  22700 . d_loss:  1.38607061 , g_loss:  1.2544297 , e_loss:  8.6244152e-05 lr:  0.0002\n",
      "Step  22750 . d_loss:  1.38607144 , g_loss:  1.25430894 , e_loss:  8.57754421e-05 lr:  0.0002\n",
      "Step  22800 . d_loss:  1.38607132 , g_loss:  1.25423729 , e_loss:  8.59639695e-05 lr:  0.0002\n",
      "4 Epoch completed\n",
      "NF-ToN-IoT-v2-DDoS-downsample: \n",
      "Validation f1-score: 0.7773631323919313\n",
      "Validation f2-score: 0.8859759470744701\n",
      "Validation accuracy: 0.7624592082860386\n",
      "Validation Current AUC RC: 0.46670037508010864\n",
      "Best AUC-RC on validation set:  0.466700375\n",
      "WARNING:tensorflow:Compiled the loaded model, but the compiled metrics have yet to be built. `model.compile_metrics` will be empty until you train or evaluate the model.\n"
     ]
    },
    {
     "name": "stderr",
     "output_type": "stream",
     "text": [
      "WARNING:tensorflow:Compiled the loaded model, but the compiled metrics have yet to be built. `model.compile_metrics` will be empty until you train or evaluate the model.\n"
     ]
    },
    {
     "name": "stdout",
     "output_type": "stream",
     "text": [
      "INFO:tensorflow:Assets written to: log\\NF-ToN-IoT-v2-DDoS-downsample\\results\\auc_rc\\generator\\assets\n"
     ]
    },
    {
     "name": "stderr",
     "output_type": "stream",
     "text": [
      "INFO:tensorflow:Assets written to: log\\NF-ToN-IoT-v2-DDoS-downsample\\results\\auc_rc\\generator\\assets\n"
     ]
    },
    {
     "name": "stdout",
     "output_type": "stream",
     "text": [
      "WARNING:tensorflow:Compiled the loaded model, but the compiled metrics have yet to be built. `model.compile_metrics` will be empty until you train or evaluate the model.\n"
     ]
    },
    {
     "name": "stderr",
     "output_type": "stream",
     "text": [
      "WARNING:tensorflow:Compiled the loaded model, but the compiled metrics have yet to be built. `model.compile_metrics` will be empty until you train or evaluate the model.\n"
     ]
    },
    {
     "name": "stdout",
     "output_type": "stream",
     "text": [
      "INFO:tensorflow:Assets written to: log\\NF-ToN-IoT-v2-DDoS-downsample\\results\\auc_rc\\encoder\\assets\n"
     ]
    },
    {
     "name": "stderr",
     "output_type": "stream",
     "text": [
      "INFO:tensorflow:Assets written to: log\\NF-ToN-IoT-v2-DDoS-downsample\\results\\auc_rc\\encoder\\assets\n"
     ]
    },
    {
     "name": "stdout",
     "output_type": "stream",
     "text": [
      "INFO:tensorflow:Assets written to: log\\NF-ToN-IoT-v2-DDoS-downsample\\results\\auc_rc\\discriminator\\assets\n"
     ]
    },
    {
     "name": "stderr",
     "output_type": "stream",
     "text": [
      "INFO:tensorflow:Assets written to: log\\NF-ToN-IoT-v2-DDoS-downsample\\results\\auc_rc\\discriminator\\assets\n"
     ]
    },
    {
     "name": "stdout",
     "output_type": "stream",
     "text": [
      "Validation Current AUC ROC: 0.6637803316116333\n",
      "Best AUC-ROC on validation set:  0.663780332\n",
      "Model: \"decoder\"\n",
      "_________________________________________________________________\n",
      " Layer (type)                Output Shape              Param #   \n",
      "=================================================================\n",
      " dense_4 (Dense)             (None, 256)               33024     \n",
      "                                                                 \n",
      " leaky_re_lu_3 (LeakyReLU)   (None, 256)               0         \n",
      "                                                                 \n",
      " dense_5 (Dense)             (None, 512)               131584    \n",
      "                                                                 \n",
      " leaky_re_lu_4 (LeakyReLU)   (None, 512)               0         \n",
      "                                                                 \n",
      " batch_normalization (Batch  (None, 512)               2048      \n",
      " Normalization)                                                  \n",
      "                                                                 \n",
      " dense_6 (Dense)             (None, 1024)              525312    \n",
      "                                                                 \n",
      " batch_normalization_1 (Bat  (None, 1024)              4096      \n",
      " chNormalization)                                                \n",
      "                                                                 \n",
      " leaky_re_lu_5 (LeakyReLU)   (None, 1024)              0         \n",
      "                                                                 \n",
      " dense_7 (Dense)             (None, 52)                53300     \n",
      "                                                                 \n",
      "=================================================================\n",
      "Total params: 749364 (2.86 MB)\n",
      "Trainable params: 746292 (2.85 MB)\n",
      "Non-trainable params: 3072 (12.00 KB)\n",
      "_________________________________________________________________\n",
      "WARNING:tensorflow:Compiled the loaded model, but the compiled metrics have yet to be built. `model.compile_metrics` will be empty until you train or evaluate the model.\n"
     ]
    },
    {
     "name": "stderr",
     "output_type": "stream",
     "text": [
      "WARNING:tensorflow:Compiled the loaded model, but the compiled metrics have yet to be built. `model.compile_metrics` will be empty until you train or evaluate the model.\n"
     ]
    },
    {
     "name": "stdout",
     "output_type": "stream",
     "text": [
      "INFO:tensorflow:Assets written to: log\\NF-ToN-IoT-v2-DDoS-downsample\\results\\auc_roc\\generator\\assets\n"
     ]
    },
    {
     "name": "stderr",
     "output_type": "stream",
     "text": [
      "INFO:tensorflow:Assets written to: log\\NF-ToN-IoT-v2-DDoS-downsample\\results\\auc_roc\\generator\\assets\n"
     ]
    },
    {
     "name": "stdout",
     "output_type": "stream",
     "text": [
      "Model: \"encoder\"\n",
      "_________________________________________________________________\n",
      " Layer (type)                Output Shape              Param #   \n",
      "=================================================================\n",
      " dense_8 (Dense)             (None, 1024)              54272     \n",
      "                                                                 \n",
      " leaky_re_lu_6 (LeakyReLU)   (None, 1024)              0         \n",
      "                                                                 \n",
      " dense_9 (Dense)             (None, 512)               524800    \n",
      "                                                                 \n",
      " batch_normalization_2 (Bat  (None, 512)               2048      \n",
      " chNormalization)                                                \n",
      "                                                                 \n",
      " leaky_re_lu_7 (LeakyReLU)   (None, 512)               0         \n",
      "                                                                 \n",
      " dense_10 (Dense)            (None, 256)               131328    \n",
      "                                                                 \n",
      " batch_normalization_3 (Bat  (None, 256)               1024      \n",
      " chNormalization)                                                \n",
      "                                                                 \n",
      " leaky_re_lu_8 (LeakyReLU)   (None, 256)               0         \n",
      "                                                                 \n",
      " dense_11 (Dense)            (None, 128)               32896     \n",
      "                                                                 \n",
      "=================================================================\n",
      "Total params: 746368 (2.85 MB)\n",
      "Trainable params: 744832 (2.84 MB)\n",
      "Non-trainable params: 1536 (6.00 KB)\n",
      "_________________________________________________________________\n",
      "WARNING:tensorflow:Compiled the loaded model, but the compiled metrics have yet to be built. `model.compile_metrics` will be empty until you train or evaluate the model.\n"
     ]
    },
    {
     "name": "stderr",
     "output_type": "stream",
     "text": [
      "WARNING:tensorflow:Compiled the loaded model, but the compiled metrics have yet to be built. `model.compile_metrics` will be empty until you train or evaluate the model.\n"
     ]
    },
    {
     "name": "stdout",
     "output_type": "stream",
     "text": [
      "INFO:tensorflow:Assets written to: log\\NF-ToN-IoT-v2-DDoS-downsample\\results\\auc_roc\\encoder\\assets\n"
     ]
    },
    {
     "name": "stderr",
     "output_type": "stream",
     "text": [
      "INFO:tensorflow:Assets written to: log\\NF-ToN-IoT-v2-DDoS-downsample\\results\\auc_roc\\encoder\\assets\n"
     ]
    },
    {
     "name": "stdout",
     "output_type": "stream",
     "text": [
      "Model: \"discriminator\"\n",
      "_________________________________________________________________\n",
      " Layer (type)                Output Shape              Param #   \n",
      "=================================================================\n",
      " sequential (Sequential)     (None, 256)               710400    \n",
      "                                                                 \n",
      " dense_3 (Dense)             multiple                  256       \n",
      "                                                                 \n",
      "=================================================================\n",
      "Total params: 710656 (2.71 MB)\n",
      "Trainable params: 710656 (2.71 MB)\n",
      "Non-trainable params: 0 (0.00 Byte)\n",
      "_________________________________________________________________\n",
      "INFO:tensorflow:Assets written to: log\\NF-ToN-IoT-v2-DDoS-downsample\\results\\auc_roc\\discriminator\\assets\n"
     ]
    },
    {
     "name": "stderr",
     "output_type": "stream",
     "text": [
      "INFO:tensorflow:Assets written to: log\\NF-ToN-IoT-v2-DDoS-downsample\\results\\auc_roc\\discriminator\\assets\n"
     ]
    },
    {
     "name": "stdout",
     "output_type": "stream",
     "text": [
      "Step  22850 . d_loss:  1.38558507 , g_loss:  1.25742948 , e_loss:  0.000105802785 lr:  0.0002\n",
      "Step  22900 . d_loss:  1.38584518 , g_loss:  1.2531271 , e_loss:  9.25465356e-05 lr:  0.0002\n",
      "Step  22950 . d_loss:  1.38590026 , g_loss:  1.25164688 , e_loss:  8.00918569e-05 lr:  0.0002\n",
      "Step  23000 . d_loss:  1.38619554 , g_loss:  1.25066435 , e_loss:  7.4676529e-05 lr:  0.0002\n",
      "Step  23050 . d_loss:  1.3861897 , g_loss:  1.25068939 , e_loss:  7.8389392e-05 lr:  0.0002\n",
      "Step  23100 . d_loss:  1.38618469 , g_loss:  1.25122786 , e_loss:  8.47838237e-05 lr:  0.0002\n",
      "Step  23150 . d_loss:  1.38610578 , g_loss:  1.25100625 , e_loss:  8.56244442e-05 lr:  0.0002\n",
      "Step  23200 . d_loss:  1.38607776 , g_loss:  1.25053477 , e_loss:  8.67390481e-05 lr:  0.0002\n",
      "Step  23250 . d_loss:  1.38603759 , g_loss:  1.25055587 , e_loss:  8.74050311e-05 lr:  0.0002\n",
      "Step  23300 . d_loss:  1.38601589 , g_loss:  1.2507416 , e_loss:  9.12794276e-05 lr:  0.0002\n",
      "Step  23350 . d_loss:  1.38600028 , g_loss:  1.25086176 , e_loss:  9.22575491e-05 lr:  0.0002\n",
      "Step  23400 . d_loss:  1.3860054 , g_loss:  1.25045609 , e_loss:  9.19863742e-05 lr:  0.0002\n",
      "Step  23450 . d_loss:  1.38599253 , g_loss:  1.25047219 , e_loss:  9.35457574e-05 lr:  0.0002\n",
      "Step  23500 . d_loss:  1.38597023 , g_loss:  1.25084126 , e_loss:  9.87651656e-05 lr:  0.0002\n",
      "Step  23550 . d_loss:  1.38599706 , g_loss:  1.25052178 , e_loss:  9.56264485e-05 lr:  0.0002\n",
      "Step  23600 . d_loss:  1.38601398 , g_loss:  1.2505039 , e_loss:  9.2621638e-05 lr:  0.0002\n",
      "Step  23650 . d_loss:  1.38600457 , g_loss:  1.25025165 , e_loss:  9.04331828e-05 lr:  0.0002\n",
      "Step  23700 . d_loss:  1.38600338 , g_loss:  1.25020897 , e_loss:  9.08790244e-05 lr:  0.0002\n",
      "Step  23750 . d_loss:  1.38600123 , g_loss:  1.24991953 , e_loss:  9.0012727e-05 lr:  0.0002\n",
      "Step  23800 . d_loss:  1.38602507 , g_loss:  1.24985492 , e_loss:  8.83702e-05 lr:  0.0002\n",
      "Step  23850 . d_loss:  1.38600683 , g_loss:  1.24974537 , e_loss:  8.86297e-05 lr:  0.0002\n",
      "Step  23900 . d_loss:  1.38597894 , g_loss:  1.24963522 , e_loss:  8.80867374e-05 lr:  0.0002\n",
      "Step  23950 . d_loss:  1.38597775 , g_loss:  1.24957466 , e_loss:  8.77033526e-05 lr:  0.0002\n",
      "Step  24000 . d_loss:  1.38595903 , g_loss:  1.2496357 , e_loss:  8.90719457e-05 lr:  0.0002\n",
      "Step  24050 . d_loss:  1.38594556 , g_loss:  1.24963391 , e_loss:  8.9784342e-05 lr:  0.0002\n",
      "Step  24100 . d_loss:  1.38595319 , g_loss:  1.24947226 , e_loss:  8.81132073e-05 lr:  0.0002\n",
      "Step  24150 . d_loss:  1.38596225 , g_loss:  1.24942446 , e_loss:  8.65923867e-05 lr:  0.0002\n",
      "Step  24200 . d_loss:  1.38597178 , g_loss:  1.24927545 , e_loss:  8.54308455e-05 lr:  0.0002\n",
      "Step  24250 . d_loss:  1.38598466 , g_loss:  1.24912667 , e_loss:  8.3719824e-05 lr:  0.0002\n",
      "Step  24300 . d_loss:  1.3859942 , g_loss:  1.24903321 , e_loss:  8.29232667e-05 lr:  0.0002\n",
      "Step  24350 . d_loss:  1.38599265 , g_loss:  1.24901593 , e_loss:  8.23345108e-05 lr:  0.0002\n",
      "Step  24400 . d_loss:  1.38600051 , g_loss:  1.2490803 , e_loss:  8.19771e-05 lr:  0.0002\n",
      "Step  24450 . d_loss:  1.38599265 , g_loss:  1.24906754 , e_loss:  8.21330832e-05 lr:  0.0002\n",
      "Step  24500 . d_loss:  1.38599575 , g_loss:  1.2491641 , e_loss:  8.12904327e-05 lr:  0.0002\n",
      "Step  24550 . d_loss:  1.3859998 , g_loss:  1.24906254 , e_loss:  8.01058632e-05 lr:  0.0002\n",
      "Step  24600 . d_loss:  1.38599479 , g_loss:  1.24893427 , e_loss:  8.06937896e-05 lr:  0.0002\n",
      "Step  24650 . d_loss:  1.38599634 , g_loss:  1.24894023 , e_loss:  8.08120531e-05 lr:  0.0002\n",
      "Step  24700 . d_loss:  1.38598871 , g_loss:  1.24900341 , e_loss:  8.12294456e-05 lr:  0.0002\n",
      "Step  24750 . d_loss:  1.38598228 , g_loss:  1.24892282 , e_loss:  8.12964572e-05 lr:  0.0002\n",
      "Step  24800 . d_loss:  1.38598061 , g_loss:  1.24906445 , e_loss:  8.1887345e-05 lr:  0.0002\n",
      "Step  24850 . d_loss:  1.38598454 , g_loss:  1.24895442 , e_loss:  8.17156179e-05 lr:  0.0002\n",
      "Step  24900 . d_loss:  1.3859905 , g_loss:  1.24894631 , e_loss:  8.08406767e-05 lr:  0.0002\n",
      "Step  24950 . d_loss:  1.38599741 , g_loss:  1.24893069 , e_loss:  7.99511836e-05 lr:  0.0002\n",
      "Step  25000 . d_loss:  1.38599408 , g_loss:  1.24884665 , e_loss:  8.01067799e-05 lr:  0.0002\n",
      "Step  25050 . d_loss:  1.38599086 , g_loss:  1.24884117 , e_loss:  7.96413e-05 lr:  0.0002\n",
      "Step  25100 . d_loss:  1.385988 , g_loss:  1.2487973 , e_loss:  7.94797816e-05 lr:  0.0002\n",
      "Step  25150 . d_loss:  1.38598347 , g_loss:  1.24877369 , e_loss:  7.92994688e-05 lr:  0.0002\n",
      "Step  25200 . d_loss:  1.3859911 , g_loss:  1.24882126 , e_loss:  7.89938131e-05 lr:  0.0002\n",
      "Step  25250 . d_loss:  1.38599622 , g_loss:  1.24867642 , e_loss:  7.86439559e-05 lr:  0.0002\n",
      "Step  25300 . d_loss:  1.38599944 , g_loss:  1.24879277 , e_loss:  7.89476398e-05 lr:  0.0002\n",
      "Step  25350 . d_loss:  1.38600016 , g_loss:  1.24883866 , e_loss:  7.93914733e-05 lr:  0.0002\n",
      "Step  25400 . d_loss:  1.38599229 , g_loss:  1.24884164 , e_loss:  8.01988353e-05 lr:  0.0002\n",
      "Step  25450 . d_loss:  1.3859936 , g_loss:  1.24876201 , e_loss:  7.97084285e-05 lr:  0.0002\n",
      "Step  25500 . d_loss:  1.38599682 , g_loss:  1.24873304 , e_loss:  7.98006367e-05 lr:  0.0002\n",
      "Step  25550 . d_loss:  1.38600254 , g_loss:  1.24871778 , e_loss:  7.91286293e-05 lr:  0.0002\n",
      "Step  25600 . d_loss:  1.38600338 , g_loss:  1.24875379 , e_loss:  7.91117491e-05 lr:  0.0002\n",
      "Step  25650 . d_loss:  1.38600481 , g_loss:  1.24867892 , e_loss:  7.88729376e-05 lr:  0.0002\n",
      "Step  25700 . d_loss:  1.38600755 , g_loss:  1.24861455 , e_loss:  7.84382864e-05 lr:  0.0002\n",
      "Step  25750 . d_loss:  1.38600922 , g_loss:  1.24870491 , e_loss:  7.85011507e-05 lr:  0.0002\n",
      "Step  25800 . d_loss:  1.3860116 , g_loss:  1.24861836 , e_loss:  7.83273354e-05 lr:  0.0002\n",
      "Step  25850 . d_loss:  1.38601637 , g_loss:  1.24859738 , e_loss:  7.76503657e-05 lr:  0.0002\n",
      "Step  25900 . d_loss:  1.3860116 , g_loss:  1.2485435 , e_loss:  7.75410663e-05 lr:  0.0002\n",
      "Step  25950 . d_loss:  1.38601673 , g_loss:  1.24840772 , e_loss:  7.68406899e-05 lr:  0.0002\n",
      "Step  26000 . d_loss:  1.38601446 , g_loss:  1.2485069 , e_loss:  7.71622726e-05 lr:  0.0002\n",
      "Step  26050 . d_loss:  1.38601661 , g_loss:  1.24844623 , e_loss:  7.67761594e-05 lr:  0.0002\n",
      "Step  26100 . d_loss:  1.38601434 , g_loss:  1.24842036 , e_loss:  7.74521905e-05 lr:  0.0002\n",
      "Step  26150 . d_loss:  1.3860153 , g_loss:  1.2483412 , e_loss:  7.71125924e-05 lr:  0.0002\n",
      "Step  26200 . d_loss:  1.38600636 , g_loss:  1.24834561 , e_loss:  7.78412505e-05 lr:  0.0002\n",
      "Step  26250 . d_loss:  1.38600731 , g_loss:  1.24833059 , e_loss:  7.80068949e-05 lr:  0.0002\n",
      "Step  26300 . d_loss:  1.3860029 , g_loss:  1.24833953 , e_loss:  7.83315918e-05 lr:  0.0002\n",
      "Step  26350 . d_loss:  1.38600612 , g_loss:  1.24835622 , e_loss:  7.79361944e-05 lr:  0.0002\n",
      "Step  26400 . d_loss:  1.38600576 , g_loss:  1.24827278 , e_loss:  7.76987508e-05 lr:  0.0002\n",
      "Step  26450 . d_loss:  1.38600719 , g_loss:  1.2482177 , e_loss:  7.75366207e-05 lr:  0.0002\n",
      "Step  26500 . d_loss:  1.38600814 , g_loss:  1.24812984 , e_loss:  7.76256493e-05 lr:  0.0002\n",
      "Step  26550 . d_loss:  1.38600981 , g_loss:  1.24805856 , e_loss:  7.76147062e-05 lr:  0.0002\n",
      "Step  26600 . d_loss:  1.38600814 , g_loss:  1.2480799 , e_loss:  7.81067356e-05 lr:  0.0002\n",
      "Step  26650 . d_loss:  1.38601279 , g_loss:  1.24802589 , e_loss:  7.77549285e-05 lr:  0.0002\n",
      "Step  26700 . d_loss:  1.38601077 , g_loss:  1.24802792 , e_loss:  7.79948314e-05 lr:  0.0002\n",
      "Step  26750 . d_loss:  1.38601387 , g_loss:  1.24801278 , e_loss:  7.78155227e-05 lr:  0.0002\n",
      "Step  26800 . d_loss:  1.38601458 , g_loss:  1.24795544 , e_loss:  7.75578883e-05 lr:  0.0002\n",
      "Step  26850 . d_loss:  1.38601398 , g_loss:  1.247944 , e_loss:  7.769699e-05 lr:  0.0002\n",
      "Step  26900 . d_loss:  1.38601804 , g_loss:  1.24787712 , e_loss:  7.72205894e-05 lr:  0.0002\n",
      "Step  26950 . d_loss:  1.38601685 , g_loss:  1.24788964 , e_loss:  7.73864158e-05 lr:  0.0002\n",
      "Step  27000 . d_loss:  1.38601696 , g_loss:  1.24786735 , e_loss:  7.73785141e-05 lr:  0.0002\n",
      "Step  27050 . d_loss:  1.38602066 , g_loss:  1.24782646 , e_loss:  7.7005192e-05 lr:  0.0002\n",
      "Step  27100 . d_loss:  1.38601959 , g_loss:  1.24783242 , e_loss:  7.72350686e-05 lr:  0.0002\n",
      "Step  27150 . d_loss:  1.3860209 , g_loss:  1.24775124 , e_loss:  7.71988198e-05 lr:  0.0002\n",
      "Step  27200 . d_loss:  1.38601851 , g_loss:  1.24778199 , e_loss:  7.73785578e-05 lr:  0.0002\n",
      "Step  27250 . d_loss:  1.38601971 , g_loss:  1.24773264 , e_loss:  7.74315122e-05 lr:  0.0002\n",
      "Step  27300 . d_loss:  1.38602054 , g_loss:  1.24769127 , e_loss:  7.74717846e-05 lr:  0.0002\n",
      "Step  27350 . d_loss:  1.38602078 , g_loss:  1.24763215 , e_loss:  7.77064924e-05 lr:  0.0002\n",
      "5 Epoch completed\n",
      "NF-ToN-IoT-v2-DDoS-downsample: \n",
      "Validation f1-score: 0.7938411807239164\n",
      "Validation f2-score: 0.8933357839758611\n",
      "Validation accuracy: 0.7850897417707151\n",
      "Validation Current AUC RC: 0.4909937381744385\n",
      "Best AUC-RC on validation set:  0.490993738\n",
      "WARNING:tensorflow:Compiled the loaded model, but the compiled metrics have yet to be built. `model.compile_metrics` will be empty until you train or evaluate the model.\n"
     ]
    },
    {
     "name": "stderr",
     "output_type": "stream",
     "text": [
      "WARNING:tensorflow:Compiled the loaded model, but the compiled metrics have yet to be built. `model.compile_metrics` will be empty until you train or evaluate the model.\n"
     ]
    },
    {
     "name": "stdout",
     "output_type": "stream",
     "text": [
      "INFO:tensorflow:Assets written to: log\\NF-ToN-IoT-v2-DDoS-downsample\\results\\auc_rc\\generator\\assets\n"
     ]
    },
    {
     "name": "stderr",
     "output_type": "stream",
     "text": [
      "INFO:tensorflow:Assets written to: log\\NF-ToN-IoT-v2-DDoS-downsample\\results\\auc_rc\\generator\\assets\n"
     ]
    },
    {
     "name": "stdout",
     "output_type": "stream",
     "text": [
      "WARNING:tensorflow:Compiled the loaded model, but the compiled metrics have yet to be built. `model.compile_metrics` will be empty until you train or evaluate the model.\n"
     ]
    },
    {
     "name": "stderr",
     "output_type": "stream",
     "text": [
      "WARNING:tensorflow:Compiled the loaded model, but the compiled metrics have yet to be built. `model.compile_metrics` will be empty until you train or evaluate the model.\n"
     ]
    },
    {
     "name": "stdout",
     "output_type": "stream",
     "text": [
      "INFO:tensorflow:Assets written to: log\\NF-ToN-IoT-v2-DDoS-downsample\\results\\auc_rc\\encoder\\assets\n"
     ]
    },
    {
     "name": "stderr",
     "output_type": "stream",
     "text": [
      "INFO:tensorflow:Assets written to: log\\NF-ToN-IoT-v2-DDoS-downsample\\results\\auc_rc\\encoder\\assets\n"
     ]
    },
    {
     "name": "stdout",
     "output_type": "stream",
     "text": [
      "INFO:tensorflow:Assets written to: log\\NF-ToN-IoT-v2-DDoS-downsample\\results\\auc_rc\\discriminator\\assets\n"
     ]
    },
    {
     "name": "stderr",
     "output_type": "stream",
     "text": [
      "INFO:tensorflow:Assets written to: log\\NF-ToN-IoT-v2-DDoS-downsample\\results\\auc_rc\\discriminator\\assets\n"
     ]
    },
    {
     "name": "stdout",
     "output_type": "stream",
     "text": [
      "Validation Current AUC ROC: 0.6975591778755188\n",
      "Best AUC-ROC on validation set:  0.697559178\n",
      "Model: \"decoder\"\n",
      "_________________________________________________________________\n",
      " Layer (type)                Output Shape              Param #   \n",
      "=================================================================\n",
      " dense_4 (Dense)             (None, 256)               33024     \n",
      "                                                                 \n",
      " leaky_re_lu_3 (LeakyReLU)   (None, 256)               0         \n",
      "                                                                 \n",
      " dense_5 (Dense)             (None, 512)               131584    \n",
      "                                                                 \n",
      " leaky_re_lu_4 (LeakyReLU)   (None, 512)               0         \n",
      "                                                                 \n",
      " batch_normalization (Batch  (None, 512)               2048      \n",
      " Normalization)                                                  \n",
      "                                                                 \n",
      " dense_6 (Dense)             (None, 1024)              525312    \n",
      "                                                                 \n",
      " batch_normalization_1 (Bat  (None, 1024)              4096      \n",
      " chNormalization)                                                \n",
      "                                                                 \n",
      " leaky_re_lu_5 (LeakyReLU)   (None, 1024)              0         \n",
      "                                                                 \n",
      " dense_7 (Dense)             (None, 52)                53300     \n",
      "                                                                 \n",
      "=================================================================\n",
      "Total params: 749364 (2.86 MB)\n",
      "Trainable params: 746292 (2.85 MB)\n",
      "Non-trainable params: 3072 (12.00 KB)\n",
      "_________________________________________________________________\n",
      "WARNING:tensorflow:Compiled the loaded model, but the compiled metrics have yet to be built. `model.compile_metrics` will be empty until you train or evaluate the model.\n"
     ]
    },
    {
     "name": "stderr",
     "output_type": "stream",
     "text": [
      "WARNING:tensorflow:Compiled the loaded model, but the compiled metrics have yet to be built. `model.compile_metrics` will be empty until you train or evaluate the model.\n"
     ]
    },
    {
     "name": "stdout",
     "output_type": "stream",
     "text": [
      "INFO:tensorflow:Assets written to: log\\NF-ToN-IoT-v2-DDoS-downsample\\results\\auc_roc\\generator\\assets\n"
     ]
    },
    {
     "name": "stderr",
     "output_type": "stream",
     "text": [
      "INFO:tensorflow:Assets written to: log\\NF-ToN-IoT-v2-DDoS-downsample\\results\\auc_roc\\generator\\assets\n"
     ]
    },
    {
     "name": "stdout",
     "output_type": "stream",
     "text": [
      "Model: \"encoder\"\n",
      "_________________________________________________________________\n",
      " Layer (type)                Output Shape              Param #   \n",
      "=================================================================\n",
      " dense_8 (Dense)             (None, 1024)              54272     \n",
      "                                                                 \n",
      " leaky_re_lu_6 (LeakyReLU)   (None, 1024)              0         \n",
      "                                                                 \n",
      " dense_9 (Dense)             (None, 512)               524800    \n",
      "                                                                 \n",
      " batch_normalization_2 (Bat  (None, 512)               2048      \n",
      " chNormalization)                                                \n",
      "                                                                 \n",
      " leaky_re_lu_7 (LeakyReLU)   (None, 512)               0         \n",
      "                                                                 \n",
      " dense_10 (Dense)            (None, 256)               131328    \n",
      "                                                                 \n",
      " batch_normalization_3 (Bat  (None, 256)               1024      \n",
      " chNormalization)                                                \n",
      "                                                                 \n",
      " leaky_re_lu_8 (LeakyReLU)   (None, 256)               0         \n",
      "                                                                 \n",
      " dense_11 (Dense)            (None, 128)               32896     \n",
      "                                                                 \n",
      "=================================================================\n",
      "Total params: 746368 (2.85 MB)\n",
      "Trainable params: 744832 (2.84 MB)\n",
      "Non-trainable params: 1536 (6.00 KB)\n",
      "_________________________________________________________________\n",
      "WARNING:tensorflow:Compiled the loaded model, but the compiled metrics have yet to be built. `model.compile_metrics` will be empty until you train or evaluate the model.\n"
     ]
    },
    {
     "name": "stderr",
     "output_type": "stream",
     "text": [
      "WARNING:tensorflow:Compiled the loaded model, but the compiled metrics have yet to be built. `model.compile_metrics` will be empty until you train or evaluate the model.\n"
     ]
    },
    {
     "name": "stdout",
     "output_type": "stream",
     "text": [
      "INFO:tensorflow:Assets written to: log\\NF-ToN-IoT-v2-DDoS-downsample\\results\\auc_roc\\encoder\\assets\n"
     ]
    },
    {
     "name": "stderr",
     "output_type": "stream",
     "text": [
      "INFO:tensorflow:Assets written to: log\\NF-ToN-IoT-v2-DDoS-downsample\\results\\auc_roc\\encoder\\assets\n"
     ]
    },
    {
     "name": "stdout",
     "output_type": "stream",
     "text": [
      "Model: \"discriminator\"\n",
      "_________________________________________________________________\n",
      " Layer (type)                Output Shape              Param #   \n",
      "=================================================================\n",
      " sequential (Sequential)     (None, 256)               710400    \n",
      "                                                                 \n",
      " dense_3 (Dense)             multiple                  256       \n",
      "                                                                 \n",
      "=================================================================\n",
      "Total params: 710656 (2.71 MB)\n",
      "Trainable params: 710656 (2.71 MB)\n",
      "Non-trainable params: 0 (0.00 Byte)\n",
      "_________________________________________________________________\n",
      "INFO:tensorflow:Assets written to: log\\NF-ToN-IoT-v2-DDoS-downsample\\results\\auc_roc\\discriminator\\assets\n"
     ]
    },
    {
     "name": "stderr",
     "output_type": "stream",
     "text": [
      "INFO:tensorflow:Assets written to: log\\NF-ToN-IoT-v2-DDoS-downsample\\results\\auc_roc\\discriminator\\assets\n"
     ]
    },
    {
     "name": "stdout",
     "output_type": "stream",
     "text": [
      "Step  27400 . d_loss:  1.38583922 , g_loss:  1.24942982 , e_loss:  9.46894797e-05 lr:  0.0002\n",
      "Step  27450 . d_loss:  1.38583028 , g_loss:  1.24641311 , e_loss:  0.000104542793 lr:  0.0002\n",
      "Step  27500 . d_loss:  1.38576615 , g_loss:  1.24538791 , e_loss:  9.32460316e-05 lr:  0.0002\n",
      "Step  27550 . d_loss:  1.38585889 , g_loss:  1.24521756 , e_loss:  8.29880228e-05 lr:  0.0002\n",
      "Step  27600 . d_loss:  1.38589811 , g_loss:  1.24512875 , e_loss:  8.1352191e-05 lr:  0.0002\n",
      "Step  27650 . d_loss:  1.38597858 , g_loss:  1.24600315 , e_loss:  8.51014338e-05 lr:  0.0002\n",
      "Step  27700 . d_loss:  1.38588619 , g_loss:  1.24589181 , e_loss:  8.74153047e-05 lr:  0.0002\n",
      "Step  27750 . d_loss:  1.38588488 , g_loss:  1.24557793 , e_loss:  8.56686383e-05 lr:  0.0002\n",
      "Step  27800 . d_loss:  1.38583159 , g_loss:  1.24545574 , e_loss:  8.82529202e-05 lr:  0.0002\n",
      "Step  27850 . d_loss:  1.38585532 , g_loss:  1.24567831 , e_loss:  8.79910731e-05 lr:  0.0002\n",
      "Step  27900 . d_loss:  1.38580847 , g_loss:  1.24573195 , e_loss:  9.0623711e-05 lr:  0.0002\n",
      "Step  27950 . d_loss:  1.38582242 , g_loss:  1.24585676 , e_loss:  9.09151786e-05 lr:  0.0002\n",
      "Step  28000 . d_loss:  1.38581467 , g_loss:  1.24567544 , e_loss:  9.1958449e-05 lr:  0.0002\n",
      "Step  28050 . d_loss:  1.38581204 , g_loss:  1.24580395 , e_loss:  9.31235336e-05 lr:  0.0002\n",
      "Step  28100 . d_loss:  1.38580263 , g_loss:  1.24581838 , e_loss:  9.24721389e-05 lr:  0.0002\n",
      "Step  28150 . d_loss:  1.38583171 , g_loss:  1.24554646 , e_loss:  8.93624092e-05 lr:  0.0002\n",
      "Step  28200 . d_loss:  1.38583398 , g_loss:  1.24543512 , e_loss:  8.71293159e-05 lr:  0.0002\n",
      "Step  28250 . d_loss:  1.3858186 , g_loss:  1.24552274 , e_loss:  8.82386958e-05 lr:  0.0002\n",
      "Step  28300 . d_loss:  1.38582242 , g_loss:  1.24516797 , e_loss:  8.67554918e-05 lr:  0.0002\n",
      "Step  28350 . d_loss:  1.38585091 , g_loss:  1.24497116 , e_loss:  8.5174579e-05 lr:  0.0002\n",
      "Step  28400 . d_loss:  1.38585794 , g_loss:  1.2448138 , e_loss:  8.51494e-05 lr:  0.0002\n",
      "Step  28450 . d_loss:  1.38585818 , g_loss:  1.24482346 , e_loss:  8.40015637e-05 lr:  0.0002\n",
      "Step  28500 . d_loss:  1.38583589 , g_loss:  1.24480796 , e_loss:  8.49276621e-05 lr:  0.0002\n",
      "Step  28550 . d_loss:  1.38583469 , g_loss:  1.24490285 , e_loss:  8.50492943e-05 lr:  0.0002\n",
      "Step  28600 . d_loss:  1.38582575 , g_loss:  1.24509263 , e_loss:  8.54879472e-05 lr:  0.0002\n",
      "Step  28650 . d_loss:  1.3858285 , g_loss:  1.24511492 , e_loss:  8.59235079e-05 lr:  0.0002\n",
      "Step  28700 . d_loss:  1.38584912 , g_loss:  1.24503601 , e_loss:  8.42299778e-05 lr:  0.0002\n",
      "Step  28750 . d_loss:  1.38586259 , g_loss:  1.24492931 , e_loss:  8.29562923e-05 lr:  0.0002\n",
      "Step  28800 . d_loss:  1.38587916 , g_loss:  1.24476159 , e_loss:  8.20425194e-05 lr:  0.0002\n",
      "Step  28850 . d_loss:  1.38589466 , g_loss:  1.24465239 , e_loss:  8.05553427e-05 lr:  0.0002\n",
      "Step  28900 . d_loss:  1.38589573 , g_loss:  1.24459505 , e_loss:  8.02017312e-05 lr:  0.0002\n",
      "Step  28950 . d_loss:  1.38590729 , g_loss:  1.24458 , e_loss:  7.97070606e-05 lr:  0.0002\n",
      "Step  29000 . d_loss:  1.38590372 , g_loss:  1.24454761 , e_loss:  7.97373286e-05 lr:  0.0002\n",
      "Step  29050 . d_loss:  1.3859359 , g_loss:  1.24454904 , e_loss:  7.9406258e-05 lr:  0.0002\n",
      "Step  29100 . d_loss:  1.38594234 , g_loss:  1.2445159 , e_loss:  7.83360738e-05 lr:  0.0002\n",
      "Step  29150 . d_loss:  1.38593793 , g_loss:  1.24447775 , e_loss:  7.88229809e-05 lr:  0.0002\n",
      "Step  29200 . d_loss:  1.38594222 , g_loss:  1.24430597 , e_loss:  7.85889279e-05 lr:  0.0002\n",
      "Step  29250 . d_loss:  1.38593972 , g_loss:  1.24435461 , e_loss:  7.89842e-05 lr:  0.0002\n",
      "Step  29300 . d_loss:  1.3859365 , g_loss:  1.24431539 , e_loss:  7.90433478e-05 lr:  0.0002\n",
      "Step  29350 . d_loss:  1.38593817 , g_loss:  1.24424434 , e_loss:  7.94493317e-05 lr:  0.0002\n",
      "Step  29400 . d_loss:  1.38594568 , g_loss:  1.24409592 , e_loss:  7.8210207e-05 lr:  0.0002\n",
      "Step  29450 . d_loss:  1.38595259 , g_loss:  1.24406517 , e_loss:  7.80886621e-05 lr:  0.0002\n",
      "Step  29500 . d_loss:  1.38596141 , g_loss:  1.24405265 , e_loss:  7.72870626e-05 lr:  0.0002\n",
      "Step  29550 . d_loss:  1.38595891 , g_loss:  1.24405301 , e_loss:  7.73904831e-05 lr:  0.0002\n",
      "Step  29600 . d_loss:  1.3859545 , g_loss:  1.24402308 , e_loss:  7.67041201e-05 lr:  0.0002\n",
      "Step  29650 . d_loss:  1.38595295 , g_loss:  1.2438612 , e_loss:  7.62986165e-05 lr:  0.0002\n",
      "Step  29700 . d_loss:  1.38594937 , g_loss:  1.24377489 , e_loss:  7.57697708e-05 lr:  0.0002\n",
      "Step  29750 . d_loss:  1.3859551 , g_loss:  1.24385703 , e_loss:  7.5669639e-05 lr:  0.0002\n",
      "Step  29800 . d_loss:  1.38596094 , g_loss:  1.24374127 , e_loss:  7.49900719e-05 lr:  0.0002\n",
      "Step  29850 . d_loss:  1.38596344 , g_loss:  1.24375105 , e_loss:  7.50424515e-05 lr:  0.0002\n",
      "Step  29900 . d_loss:  1.38596392 , g_loss:  1.24377954 , e_loss:  7.55782676e-05 lr:  0.0002\n",
      "Step  29950 . d_loss:  1.38596034 , g_loss:  1.24389935 , e_loss:  7.62064956e-05 lr:  0.0002\n",
      "Step  30000 . d_loss:  1.38595891 , g_loss:  1.24383795 , e_loss:  7.57269954e-05 lr:  0.0002\n",
      "Step  30050 . d_loss:  1.38596284 , g_loss:  1.24390864 , e_loss:  7.5692551e-05 lr:  0.0002\n",
      "Step  30100 . d_loss:  1.38597 , g_loss:  1.2438972 , e_loss:  7.50983672e-05 lr:  0.0002\n",
      "Step  30150 . d_loss:  1.38597441 , g_loss:  1.24383831 , e_loss:  7.47453087e-05 lr:  0.0002\n",
      "Step  30200 . d_loss:  1.38597476 , g_loss:  1.24386895 , e_loss:  7.48339153e-05 lr:  0.0002\n",
      "Step  30250 . d_loss:  1.38597834 , g_loss:  1.24377573 , e_loss:  7.43701821e-05 lr:  0.0002\n",
      "Step  30300 . d_loss:  1.38598228 , g_loss:  1.24375296 , e_loss:  7.38853269e-05 lr:  0.0002\n",
      "Step  30350 . d_loss:  1.38598621 , g_loss:  1.24383187 , e_loss:  7.37733208e-05 lr:  0.0002\n",
      "Step  30400 . d_loss:  1.38598871 , g_loss:  1.24379563 , e_loss:  7.35744907e-05 lr:  0.0002\n",
      "Step  30450 . d_loss:  1.38598967 , g_loss:  1.24373424 , e_loss:  7.31597684e-05 lr:  0.0002\n",
      "Step  30500 . d_loss:  1.38598883 , g_loss:  1.24367559 , e_loss:  7.2817922e-05 lr:  0.0002\n",
      "Step  30550 . d_loss:  1.38598776 , g_loss:  1.24370289 , e_loss:  7.29299718e-05 lr:  0.0002\n",
      "Step  30600 . d_loss:  1.38598764 , g_loss:  1.24368966 , e_loss:  7.27945735e-05 lr:  0.0002\n",
      "Step  30650 . d_loss:  1.38598847 , g_loss:  1.24361694 , e_loss:  7.30399333e-05 lr:  0.0002\n",
      "Step  30700 . d_loss:  1.38599086 , g_loss:  1.24354243 , e_loss:  7.28214945e-05 lr:  0.0002\n",
      "Step  30750 . d_loss:  1.38598228 , g_loss:  1.24352443 , e_loss:  7.33865163e-05 lr:  0.0002\n",
      "Step  30800 . d_loss:  1.38598073 , g_loss:  1.24350965 , e_loss:  7.38457238e-05 lr:  0.0002\n",
      "Step  30850 . d_loss:  1.38598084 , g_loss:  1.24343014 , e_loss:  7.35774374e-05 lr:  0.0002\n",
      "Step  30900 . d_loss:  1.38597763 , g_loss:  1.243433 , e_loss:  7.39787065e-05 lr:  0.0002\n",
      "Step  30950 . d_loss:  1.38597906 , g_loss:  1.24337864 , e_loss:  7.34289933e-05 lr:  0.0002\n",
      "Step  31000 . d_loss:  1.38598096 , g_loss:  1.2433362 , e_loss:  7.34927962e-05 lr:  0.0002\n",
      "Step  31050 . d_loss:  1.38598275 , g_loss:  1.2432524 , e_loss:  7.34647328e-05 lr:  0.0002\n",
      "Step  31100 . d_loss:  1.38598299 , g_loss:  1.24323285 , e_loss:  7.35698122e-05 lr:  0.0002\n",
      "Step  31150 . d_loss:  1.38598084 , g_loss:  1.24320841 , e_loss:  7.36448346e-05 lr:  0.0002\n",
      "Step  31200 . d_loss:  1.38599014 , g_loss:  1.2431711 , e_loss:  7.3465133e-05 lr:  0.0002\n",
      "Step  31250 . d_loss:  1.38598704 , g_loss:  1.24313366 , e_loss:  7.35632566e-05 lr:  0.0002\n",
      "Step  31300 . d_loss:  1.38598788 , g_loss:  1.24313331 , e_loss:  7.34296118e-05 lr:  0.0002\n",
      "Step  31350 . d_loss:  1.3859874 , g_loss:  1.24307323 , e_loss:  7.33330307e-05 lr:  0.0002\n",
      "Step  31400 . d_loss:  1.38598835 , g_loss:  1.24302101 , e_loss:  7.33372071e-05 lr:  0.0002\n",
      "Step  31450 . d_loss:  1.38599122 , g_loss:  1.24296033 , e_loss:  7.29080057e-05 lr:  0.0002\n",
      "Step  31500 . d_loss:  1.38599038 , g_loss:  1.24295807 , e_loss:  7.28157829e-05 lr:  0.0002\n",
      "Step  31550 . d_loss:  1.38599169 , g_loss:  1.24292994 , e_loss:  7.29114763e-05 lr:  0.0002\n",
      "Step  31600 . d_loss:  1.38599515 , g_loss:  1.24286866 , e_loss:  7.2705654e-05 lr:  0.0002\n",
      "Step  31650 . d_loss:  1.38599551 , g_loss:  1.24287093 , e_loss:  7.28574305e-05 lr:  0.0002\n",
      "Step  31700 . d_loss:  1.38599646 , g_loss:  1.24279857 , e_loss:  7.27225342e-05 lr:  0.0002\n",
      "Step  31750 . d_loss:  1.38599706 , g_loss:  1.24273813 , e_loss:  7.27923e-05 lr:  0.0002\n",
      "Step  31800 . d_loss:  1.38599658 , g_loss:  1.24277437 , e_loss:  7.32970439e-05 lr:  0.0002\n",
      "Step  31850 . d_loss:  1.38599563 , g_loss:  1.24278724 , e_loss:  7.34918503e-05 lr:  0.0002\n",
      "Step  31900 . d_loss:  1.38599682 , g_loss:  1.24272144 , e_loss:  7.38223098e-05 lr:  0.0002\n",
      "6 Epoch completed\n",
      "NF-ToN-IoT-v2-DDoS-downsample: \n",
      "Validation f1-score: 0.8007923373093117\n",
      "Validation f2-score: 0.8971900483440808\n",
      "Validation accuracy: 0.7939929767309876\n",
      "Validation Current AUC RC: 0.5028105974197388\n",
      "Best AUC-RC on validation set:  0.502810597\n",
      "WARNING:tensorflow:Compiled the loaded model, but the compiled metrics have yet to be built. `model.compile_metrics` will be empty until you train or evaluate the model.\n"
     ]
    },
    {
     "name": "stderr",
     "output_type": "stream",
     "text": [
      "WARNING:tensorflow:Compiled the loaded model, but the compiled metrics have yet to be built. `model.compile_metrics` will be empty until you train or evaluate the model.\n"
     ]
    },
    {
     "name": "stdout",
     "output_type": "stream",
     "text": [
      "INFO:tensorflow:Assets written to: log\\NF-ToN-IoT-v2-DDoS-downsample\\results\\auc_rc\\generator\\assets\n"
     ]
    },
    {
     "name": "stderr",
     "output_type": "stream",
     "text": [
      "INFO:tensorflow:Assets written to: log\\NF-ToN-IoT-v2-DDoS-downsample\\results\\auc_rc\\generator\\assets\n"
     ]
    },
    {
     "name": "stdout",
     "output_type": "stream",
     "text": [
      "WARNING:tensorflow:Compiled the loaded model, but the compiled metrics have yet to be built. `model.compile_metrics` will be empty until you train or evaluate the model.\n"
     ]
    },
    {
     "name": "stderr",
     "output_type": "stream",
     "text": [
      "WARNING:tensorflow:Compiled the loaded model, but the compiled metrics have yet to be built. `model.compile_metrics` will be empty until you train or evaluate the model.\n"
     ]
    },
    {
     "name": "stdout",
     "output_type": "stream",
     "text": [
      "INFO:tensorflow:Assets written to: log\\NF-ToN-IoT-v2-DDoS-downsample\\results\\auc_rc\\encoder\\assets\n"
     ]
    },
    {
     "name": "stderr",
     "output_type": "stream",
     "text": [
      "INFO:tensorflow:Assets written to: log\\NF-ToN-IoT-v2-DDoS-downsample\\results\\auc_rc\\encoder\\assets\n"
     ]
    },
    {
     "name": "stdout",
     "output_type": "stream",
     "text": [
      "INFO:tensorflow:Assets written to: log\\NF-ToN-IoT-v2-DDoS-downsample\\results\\auc_rc\\discriminator\\assets\n"
     ]
    },
    {
     "name": "stderr",
     "output_type": "stream",
     "text": [
      "INFO:tensorflow:Assets written to: log\\NF-ToN-IoT-v2-DDoS-downsample\\results\\auc_rc\\discriminator\\assets\n"
     ]
    },
    {
     "name": "stdout",
     "output_type": "stream",
     "text": [
      "Validation Current AUC ROC: 0.7132456302642822\n",
      "Best AUC-ROC on validation set:  0.71324563\n",
      "Model: \"decoder\"\n",
      "_________________________________________________________________\n",
      " Layer (type)                Output Shape              Param #   \n",
      "=================================================================\n",
      " dense_4 (Dense)             (None, 256)               33024     \n",
      "                                                                 \n",
      " leaky_re_lu_3 (LeakyReLU)   (None, 256)               0         \n",
      "                                                                 \n",
      " dense_5 (Dense)             (None, 512)               131584    \n",
      "                                                                 \n",
      " leaky_re_lu_4 (LeakyReLU)   (None, 512)               0         \n",
      "                                                                 \n",
      " batch_normalization (Batch  (None, 512)               2048      \n",
      " Normalization)                                                  \n",
      "                                                                 \n",
      " dense_6 (Dense)             (None, 1024)              525312    \n",
      "                                                                 \n",
      " batch_normalization_1 (Bat  (None, 1024)              4096      \n",
      " chNormalization)                                                \n",
      "                                                                 \n",
      " leaky_re_lu_5 (LeakyReLU)   (None, 1024)              0         \n",
      "                                                                 \n",
      " dense_7 (Dense)             (None, 52)                53300     \n",
      "                                                                 \n",
      "=================================================================\n",
      "Total params: 749364 (2.86 MB)\n",
      "Trainable params: 746292 (2.85 MB)\n",
      "Non-trainable params: 3072 (12.00 KB)\n",
      "_________________________________________________________________\n",
      "WARNING:tensorflow:Compiled the loaded model, but the compiled metrics have yet to be built. `model.compile_metrics` will be empty until you train or evaluate the model.\n"
     ]
    },
    {
     "name": "stderr",
     "output_type": "stream",
     "text": [
      "WARNING:tensorflow:Compiled the loaded model, but the compiled metrics have yet to be built. `model.compile_metrics` will be empty until you train or evaluate the model.\n"
     ]
    },
    {
     "name": "stdout",
     "output_type": "stream",
     "text": [
      "INFO:tensorflow:Assets written to: log\\NF-ToN-IoT-v2-DDoS-downsample\\results\\auc_roc\\generator\\assets\n"
     ]
    },
    {
     "name": "stderr",
     "output_type": "stream",
     "text": [
      "INFO:tensorflow:Assets written to: log\\NF-ToN-IoT-v2-DDoS-downsample\\results\\auc_roc\\generator\\assets\n"
     ]
    },
    {
     "name": "stdout",
     "output_type": "stream",
     "text": [
      "Model: \"encoder\"\n",
      "_________________________________________________________________\n",
      " Layer (type)                Output Shape              Param #   \n",
      "=================================================================\n",
      " dense_8 (Dense)             (None, 1024)              54272     \n",
      "                                                                 \n",
      " leaky_re_lu_6 (LeakyReLU)   (None, 1024)              0         \n",
      "                                                                 \n",
      " dense_9 (Dense)             (None, 512)               524800    \n",
      "                                                                 \n",
      " batch_normalization_2 (Bat  (None, 512)               2048      \n",
      " chNormalization)                                                \n",
      "                                                                 \n",
      " leaky_re_lu_7 (LeakyReLU)   (None, 512)               0         \n",
      "                                                                 \n",
      " dense_10 (Dense)            (None, 256)               131328    \n",
      "                                                                 \n",
      " batch_normalization_3 (Bat  (None, 256)               1024      \n",
      " chNormalization)                                                \n",
      "                                                                 \n",
      " leaky_re_lu_8 (LeakyReLU)   (None, 256)               0         \n",
      "                                                                 \n",
      " dense_11 (Dense)            (None, 128)               32896     \n",
      "                                                                 \n",
      "=================================================================\n",
      "Total params: 746368 (2.85 MB)\n",
      "Trainable params: 744832 (2.84 MB)\n",
      "Non-trainable params: 1536 (6.00 KB)\n",
      "_________________________________________________________________\n",
      "WARNING:tensorflow:Compiled the loaded model, but the compiled metrics have yet to be built. `model.compile_metrics` will be empty until you train or evaluate the model.\n"
     ]
    },
    {
     "name": "stderr",
     "output_type": "stream",
     "text": [
      "WARNING:tensorflow:Compiled the loaded model, but the compiled metrics have yet to be built. `model.compile_metrics` will be empty until you train or evaluate the model.\n"
     ]
    },
    {
     "name": "stdout",
     "output_type": "stream",
     "text": [
      "INFO:tensorflow:Assets written to: log\\NF-ToN-IoT-v2-DDoS-downsample\\results\\auc_roc\\encoder\\assets\n"
     ]
    },
    {
     "name": "stderr",
     "output_type": "stream",
     "text": [
      "INFO:tensorflow:Assets written to: log\\NF-ToN-IoT-v2-DDoS-downsample\\results\\auc_roc\\encoder\\assets\n"
     ]
    },
    {
     "name": "stdout",
     "output_type": "stream",
     "text": [
      "Model: \"discriminator\"\n",
      "_________________________________________________________________\n",
      " Layer (type)                Output Shape              Param #   \n",
      "=================================================================\n",
      " sequential (Sequential)     (None, 256)               710400    \n",
      "                                                                 \n",
      " dense_3 (Dense)             multiple                  256       \n",
      "                                                                 \n",
      "=================================================================\n",
      "Total params: 710656 (2.71 MB)\n",
      "Trainable params: 710656 (2.71 MB)\n",
      "Non-trainable params: 0 (0.00 Byte)\n",
      "_________________________________________________________________\n",
      "INFO:tensorflow:Assets written to: log\\NF-ToN-IoT-v2-DDoS-downsample\\results\\auc_roc\\discriminator\\assets\n"
     ]
    },
    {
     "name": "stderr",
     "output_type": "stream",
     "text": [
      "INFO:tensorflow:Assets written to: log\\NF-ToN-IoT-v2-DDoS-downsample\\results\\auc_roc\\discriminator\\assets\n"
     ]
    },
    {
     "name": "stdout",
     "output_type": "stream",
     "text": [
      "Step  31950 . d_loss:  1.38603258 , g_loss:  1.24683535 , e_loss:  2.94887777e-05 lr:  0.0002\n",
      "Step  32000 . d_loss:  1.38576543 , g_loss:  1.24271286 , e_loss:  9.74227296e-05 lr:  0.0002\n",
      "Step  32050 . d_loss:  1.38584518 , g_loss:  1.24036348 , e_loss:  7.26974831e-05 lr:  0.0002\n",
      "Step  32100 . d_loss:  1.38592148 , g_loss:  1.23921978 , e_loss:  6.71798261e-05 lr:  0.0002\n",
      "Step  32150 . d_loss:  1.385952 , g_loss:  1.23931515 , e_loss:  6.85955456e-05 lr:  0.0002\n",
      "Step  32200 . d_loss:  1.38596 , g_loss:  1.23985946 , e_loss:  7.08177176e-05 lr:  0.0002\n",
      "Step  32250 . d_loss:  1.38589919 , g_loss:  1.24058127 , e_loss:  7.68571481e-05 lr:  0.0002\n",
      "Step  32300 . d_loss:  1.38591146 , g_loss:  1.23999763 , e_loss:  7.58843162e-05 lr:  0.0002\n",
      "Step  32350 . d_loss:  1.38586092 , g_loss:  1.23984957 , e_loss:  7.81315612e-05 lr:  0.0002\n",
      "Step  32400 . d_loss:  1.38589096 , g_loss:  1.2401036 , e_loss:  7.6343822e-05 lr:  0.0002\n",
      "Step  32450 . d_loss:  1.38587308 , g_loss:  1.24027717 , e_loss:  8.0446378e-05 lr:  0.0002\n",
      "Step  32500 . d_loss:  1.38582337 , g_loss:  1.24027359 , e_loss:  8.179625e-05 lr:  0.0002\n",
      "Step  32550 . d_loss:  1.38583672 , g_loss:  1.24027383 , e_loss:  8.29197306e-05 lr:  0.0002\n",
      "Step  32600 . d_loss:  1.38584638 , g_loss:  1.24073982 , e_loss:  8.49723365e-05 lr:  0.0002\n",
      "Step  32650 . d_loss:  1.38583124 , g_loss:  1.24099922 , e_loss:  8.68925e-05 lr:  0.0002\n",
      "Step  32700 . d_loss:  1.38586342 , g_loss:  1.24093592 , e_loss:  8.36838808e-05 lr:  0.0002\n",
      "Step  32750 . d_loss:  1.38594437 , g_loss:  1.24093688 , e_loss:  8.09749254e-05 lr:  0.0002\n",
      "Step  32800 . d_loss:  1.38593256 , g_loss:  1.24098063 , e_loss:  8.14661907e-05 lr:  0.0002\n",
      "Step  32850 . d_loss:  1.38592386 , g_loss:  1.2408613 , e_loss:  8.0668884e-05 lr:  0.0002\n",
      "Step  32900 . d_loss:  1.38593638 , g_loss:  1.2403779 , e_loss:  7.8247278e-05 lr:  0.0002\n",
      "Step  32950 . d_loss:  1.3859266 , g_loss:  1.24028873 , e_loss:  7.81152485e-05 lr:  0.0002\n",
      "Step  33000 . d_loss:  1.38593113 , g_loss:  1.24017441 , e_loss:  7.70833285e-05 lr:  0.0002\n",
      "Step  33050 . d_loss:  1.38589787 , g_loss:  1.24029934 , e_loss:  7.85037701e-05 lr:  0.0002\n",
      "Step  33100 . d_loss:  1.38589644 , g_loss:  1.24028 , e_loss:  7.83964206e-05 lr:  0.0002\n",
      "Step  33150 . d_loss:  1.38588917 , g_loss:  1.24034917 , e_loss:  7.94648295e-05 lr:  0.0002\n",
      "Step  33200 . d_loss:  1.38587332 , g_loss:  1.24045444 , e_loss:  7.98498077e-05 lr:  0.0002\n",
      "Step  33250 . d_loss:  1.38588798 , g_loss:  1.24044633 , e_loss:  7.78686226e-05 lr:  0.0002\n",
      "Step  33300 . d_loss:  1.38589621 , g_loss:  1.24053466 , e_loss:  7.71350606e-05 lr:  0.0002\n",
      "Step  33350 . d_loss:  1.38591409 , g_loss:  1.24046862 , e_loss:  7.57239613e-05 lr:  0.0002\n",
      "Step  33400 . d_loss:  1.38592708 , g_loss:  1.24045205 , e_loss:  7.42134653e-05 lr:  0.0002\n",
      "Step  33450 . d_loss:  1.38593006 , g_loss:  1.24036407 , e_loss:  7.369378e-05 lr:  0.0002\n",
      "Step  33500 . d_loss:  1.38593841 , g_loss:  1.24033523 , e_loss:  7.32655171e-05 lr:  0.0002\n",
      "Step  33550 . d_loss:  1.38594723 , g_loss:  1.24024069 , e_loss:  7.26847938e-05 lr:  0.0002\n",
      "Step  33600 . d_loss:  1.38593733 , g_loss:  1.24031639 , e_loss:  7.2763527e-05 lr:  0.0002\n",
      "Step  33650 . d_loss:  1.38594377 , g_loss:  1.24021471 , e_loss:  7.17743751e-05 lr:  0.0002\n",
      "Step  33700 . d_loss:  1.38594258 , g_loss:  1.24011457 , e_loss:  7.21674951e-05 lr:  0.0002\n",
      "Step  33750 . d_loss:  1.38594341 , g_loss:  1.2400012 , e_loss:  7.1800343e-05 lr:  0.0002\n",
      "Step  33800 . d_loss:  1.38594294 , g_loss:  1.24010384 , e_loss:  7.21218821e-05 lr:  0.0002\n",
      "Step  33850 . d_loss:  1.38600898 , g_loss:  1.24010432 , e_loss:  7.22960467e-05 lr:  0.0002\n",
      "Step  33900 . d_loss:  1.38602054 , g_loss:  1.24012172 , e_loss:  7.22789264e-05 lr:  0.0002\n",
      "Step  33950 . d_loss:  1.38602746 , g_loss:  1.23997068 , e_loss:  7.18450756e-05 lr:  0.0002\n",
      "Step  34000 . d_loss:  1.38603318 , g_loss:  1.23993731 , e_loss:  7.17271832e-05 lr:  0.0002\n",
      "Step  34050 . d_loss:  1.38604 , g_loss:  1.23999476 , e_loss:  7.10284803e-05 lr:  0.0002\n",
      "Step  34100 . d_loss:  1.38604462 , g_loss:  1.23996711 , e_loss:  7.05942e-05 lr:  0.0002\n",
      "Step  34150 . d_loss:  1.38604617 , g_loss:  1.23994899 , e_loss:  7.04721097e-05 lr:  0.0002\n",
      "Step  34200 . d_loss:  1.38604355 , g_loss:  1.23984921 , e_loss:  7.03067344e-05 lr:  0.0002\n",
      "Step  34250 . d_loss:  1.3860476 , g_loss:  1.2397691 , e_loss:  6.9803631e-05 lr:  0.0002\n",
      "Step  34300 . d_loss:  1.38604689 , g_loss:  1.23979104 , e_loss:  6.97972719e-05 lr:  0.0002\n",
      "Step  34350 . d_loss:  1.38604951 , g_loss:  1.23970199 , e_loss:  6.92089379e-05 lr:  0.0002\n",
      "Step  34400 . d_loss:  1.38604879 , g_loss:  1.23964787 , e_loss:  6.91605383e-05 lr:  0.0002\n",
      "Step  34450 . d_loss:  1.38604724 , g_loss:  1.23973322 , e_loss:  6.98801596e-05 lr:  0.0002\n",
      "Step  34500 . d_loss:  1.38604677 , g_loss:  1.23982275 , e_loss:  7.02563921e-05 lr:  0.0002\n",
      "Step  34550 . d_loss:  1.38604891 , g_loss:  1.23972499 , e_loss:  7.02030593e-05 lr:  0.0002\n",
      "Step  34600 . d_loss:  1.38605189 , g_loss:  1.2396816 , e_loss:  7.01675599e-05 lr:  0.0002\n",
      "Step  34650 . d_loss:  1.38605678 , g_loss:  1.23971343 , e_loss:  6.98370422e-05 lr:  0.0002\n",
      "Step  34700 . d_loss:  1.38606071 , g_loss:  1.23968863 , e_loss:  6.96234565e-05 lr:  0.0002\n",
      "Step  34750 . d_loss:  1.38606024 , g_loss:  1.23970354 , e_loss:  6.96009665e-05 lr:  0.0002\n",
      "Step  34800 . d_loss:  1.38606584 , g_loss:  1.23962522 , e_loss:  6.89443332e-05 lr:  0.0002\n",
      "Step  34850 . d_loss:  1.38606787 , g_loss:  1.23967195 , e_loss:  6.91321111e-05 lr:  0.0002\n",
      "Step  34900 . d_loss:  1.38606989 , g_loss:  1.23971558 , e_loss:  6.89581429e-05 lr:  0.0002\n",
      "Step  34950 . d_loss:  1.38607144 , g_loss:  1.23971975 , e_loss:  6.87550855e-05 lr:  0.0002\n",
      "Step  35000 . d_loss:  1.38607609 , g_loss:  1.23965442 , e_loss:  6.81571546e-05 lr:  0.0002\n",
      "Step  35050 . d_loss:  1.38607085 , g_loss:  1.23955941 , e_loss:  6.80246521e-05 lr:  0.0002\n",
      "Step  35100 . d_loss:  1.38607395 , g_loss:  1.23953712 , e_loss:  6.74485491e-05 lr:  0.0002\n",
      "Step  35150 . d_loss:  1.38607013 , g_loss:  1.23955822 , e_loss:  6.78414508e-05 lr:  0.0002\n",
      "Step  35200 . d_loss:  1.38606942 , g_loss:  1.23951662 , e_loss:  6.79640798e-05 lr:  0.0002\n",
      "Step  35250 . d_loss:  1.38607037 , g_loss:  1.23949254 , e_loss:  6.82019599e-05 lr:  0.0002\n",
      "Step  35300 . d_loss:  1.38607061 , g_loss:  1.23942947 , e_loss:  6.83710459e-05 lr:  0.0002\n",
      "Step  35350 . d_loss:  1.38606751 , g_loss:  1.2394439 , e_loss:  6.87577631e-05 lr:  0.0002\n",
      "Step  35400 . d_loss:  1.38606966 , g_loss:  1.23944032 , e_loss:  6.88953951e-05 lr:  0.0002\n",
      "Step  35450 . d_loss:  1.38607061 , g_loss:  1.23944163 , e_loss:  6.91175956e-05 lr:  0.0002\n",
      "Step  35500 . d_loss:  1.38607156 , g_loss:  1.2394309 , e_loss:  6.88935761e-05 lr:  0.0002\n",
      "Step  35550 . d_loss:  1.38607216 , g_loss:  1.23938549 , e_loss:  6.87645515e-05 lr:  0.0002\n",
      "Step  35600 . d_loss:  1.38607109 , g_loss:  1.23932981 , e_loss:  6.90987799e-05 lr:  0.0002\n",
      "Step  35650 . d_loss:  1.38607371 , g_loss:  1.23926342 , e_loss:  6.87076536e-05 lr:  0.0002\n",
      "Step  35700 . d_loss:  1.38607359 , g_loss:  1.23925924 , e_loss:  6.86709318e-05 lr:  0.0002\n",
      "Step  35750 . d_loss:  1.38606834 , g_loss:  1.23923564 , e_loss:  6.85484774e-05 lr:  0.0002\n",
      "Step  35800 . d_loss:  1.38606775 , g_loss:  1.23919022 , e_loss:  6.8170637e-05 lr:  0.0002\n",
      "Step  35850 . d_loss:  1.38606656 , g_loss:  1.23917663 , e_loss:  6.84766273e-05 lr:  0.0002\n",
      "Step  35900 . d_loss:  1.38606811 , g_loss:  1.2391535 , e_loss:  6.83721446e-05 lr:  0.0002\n",
      "Step  35950 . d_loss:  1.38606942 , g_loss:  1.23912156 , e_loss:  6.84340412e-05 lr:  0.0002\n",
      "Step  36000 . d_loss:  1.38607037 , g_loss:  1.2390511 , e_loss:  6.80625162e-05 lr:  0.0002\n",
      "Step  36050 . d_loss:  1.38607085 , g_loss:  1.23904145 , e_loss:  6.78791475e-05 lr:  0.0002\n",
      "Step  36100 . d_loss:  1.38607144 , g_loss:  1.23900938 , e_loss:  6.79488876e-05 lr:  0.0002\n",
      "Step  36150 . d_loss:  1.38607061 , g_loss:  1.23892295 , e_loss:  6.78664146e-05 lr:  0.0002\n",
      "Step  36200 . d_loss:  1.38607192 , g_loss:  1.23890948 , e_loss:  6.78478391e-05 lr:  0.0002\n",
      "Step  36250 . d_loss:  1.38606989 , g_loss:  1.23887312 , e_loss:  6.80501325e-05 lr:  0.0002\n",
      "Step  36300 . d_loss:  1.38607323 , g_loss:  1.23880339 , e_loss:  6.77858116e-05 lr:  0.0002\n",
      "Step  36350 . d_loss:  1.38606906 , g_loss:  1.2388525 , e_loss:  6.83408944e-05 lr:  0.0002\n",
      "Step  36400 . d_loss:  1.38606799 , g_loss:  1.23886395 , e_loss:  6.85646737e-05 lr:  0.0002\n",
      "Step  36450 . d_loss:  1.38606954 , g_loss:  1.23882079 , e_loss:  6.82485625e-05 lr:  0.0002\n",
      "Step  36500 . d_loss:  1.38606906 , g_loss:  1.23880088 , e_loss:  6.84568586e-05 lr:  0.0002\n",
      "7 Epoch completed\n",
      "NF-ToN-IoT-v2-DDoS-downsample: \n",
      "Validation f1-score: 0.8054374503093781\n",
      "Validation f2-score: 0.8985334551919079\n",
      "Validation accuracy: 0.8003511634506243\n",
      "Validation Current AUC RC: 0.5172165632247925\n",
      "Best AUC-RC on validation set:  0.517216563\n",
      "WARNING:tensorflow:Compiled the loaded model, but the compiled metrics have yet to be built. `model.compile_metrics` will be empty until you train or evaluate the model.\n"
     ]
    },
    {
     "name": "stderr",
     "output_type": "stream",
     "text": [
      "WARNING:tensorflow:Compiled the loaded model, but the compiled metrics have yet to be built. `model.compile_metrics` will be empty until you train or evaluate the model.\n"
     ]
    },
    {
     "name": "stdout",
     "output_type": "stream",
     "text": [
      "INFO:tensorflow:Assets written to: log\\NF-ToN-IoT-v2-DDoS-downsample\\results\\auc_rc\\generator\\assets\n"
     ]
    },
    {
     "name": "stderr",
     "output_type": "stream",
     "text": [
      "INFO:tensorflow:Assets written to: log\\NF-ToN-IoT-v2-DDoS-downsample\\results\\auc_rc\\generator\\assets\n"
     ]
    },
    {
     "name": "stdout",
     "output_type": "stream",
     "text": [
      "WARNING:tensorflow:Compiled the loaded model, but the compiled metrics have yet to be built. `model.compile_metrics` will be empty until you train or evaluate the model.\n"
     ]
    },
    {
     "name": "stderr",
     "output_type": "stream",
     "text": [
      "WARNING:tensorflow:Compiled the loaded model, but the compiled metrics have yet to be built. `model.compile_metrics` will be empty until you train or evaluate the model.\n"
     ]
    },
    {
     "name": "stdout",
     "output_type": "stream",
     "text": [
      "INFO:tensorflow:Assets written to: log\\NF-ToN-IoT-v2-DDoS-downsample\\results\\auc_rc\\encoder\\assets\n"
     ]
    },
    {
     "name": "stderr",
     "output_type": "stream",
     "text": [
      "INFO:tensorflow:Assets written to: log\\NF-ToN-IoT-v2-DDoS-downsample\\results\\auc_rc\\encoder\\assets\n"
     ]
    },
    {
     "name": "stdout",
     "output_type": "stream",
     "text": [
      "INFO:tensorflow:Assets written to: log\\NF-ToN-IoT-v2-DDoS-downsample\\results\\auc_rc\\discriminator\\assets\n"
     ]
    },
    {
     "name": "stderr",
     "output_type": "stream",
     "text": [
      "INFO:tensorflow:Assets written to: log\\NF-ToN-IoT-v2-DDoS-downsample\\results\\auc_rc\\discriminator\\assets\n"
     ]
    },
    {
     "name": "stdout",
     "output_type": "stream",
     "text": [
      "Validation Current AUC ROC: 0.7307261228561401\n",
      "Best AUC-ROC on validation set:  0.730726123\n",
      "Model: \"decoder\"\n",
      "_________________________________________________________________\n",
      " Layer (type)                Output Shape              Param #   \n",
      "=================================================================\n",
      " dense_4 (Dense)             (None, 256)               33024     \n",
      "                                                                 \n",
      " leaky_re_lu_3 (LeakyReLU)   (None, 256)               0         \n",
      "                                                                 \n",
      " dense_5 (Dense)             (None, 512)               131584    \n",
      "                                                                 \n",
      " leaky_re_lu_4 (LeakyReLU)   (None, 512)               0         \n",
      "                                                                 \n",
      " batch_normalization (Batch  (None, 512)               2048      \n",
      " Normalization)                                                  \n",
      "                                                                 \n",
      " dense_6 (Dense)             (None, 1024)              525312    \n",
      "                                                                 \n",
      " batch_normalization_1 (Bat  (None, 1024)              4096      \n",
      " chNormalization)                                                \n",
      "                                                                 \n",
      " leaky_re_lu_5 (LeakyReLU)   (None, 1024)              0         \n",
      "                                                                 \n",
      " dense_7 (Dense)             (None, 52)                53300     \n",
      "                                                                 \n",
      "=================================================================\n",
      "Total params: 749364 (2.86 MB)\n",
      "Trainable params: 746292 (2.85 MB)\n",
      "Non-trainable params: 3072 (12.00 KB)\n",
      "_________________________________________________________________\n",
      "WARNING:tensorflow:Compiled the loaded model, but the compiled metrics have yet to be built. `model.compile_metrics` will be empty until you train or evaluate the model.\n"
     ]
    },
    {
     "name": "stderr",
     "output_type": "stream",
     "text": [
      "WARNING:tensorflow:Compiled the loaded model, but the compiled metrics have yet to be built. `model.compile_metrics` will be empty until you train or evaluate the model.\n"
     ]
    },
    {
     "name": "stdout",
     "output_type": "stream",
     "text": [
      "INFO:tensorflow:Assets written to: log\\NF-ToN-IoT-v2-DDoS-downsample\\results\\auc_roc\\generator\\assets\n"
     ]
    },
    {
     "name": "stderr",
     "output_type": "stream",
     "text": [
      "INFO:tensorflow:Assets written to: log\\NF-ToN-IoT-v2-DDoS-downsample\\results\\auc_roc\\generator\\assets\n"
     ]
    },
    {
     "name": "stdout",
     "output_type": "stream",
     "text": [
      "Model: \"encoder\"\n",
      "_________________________________________________________________\n",
      " Layer (type)                Output Shape              Param #   \n",
      "=================================================================\n",
      " dense_8 (Dense)             (None, 1024)              54272     \n",
      "                                                                 \n",
      " leaky_re_lu_6 (LeakyReLU)   (None, 1024)              0         \n",
      "                                                                 \n",
      " dense_9 (Dense)             (None, 512)               524800    \n",
      "                                                                 \n",
      " batch_normalization_2 (Bat  (None, 512)               2048      \n",
      " chNormalization)                                                \n",
      "                                                                 \n",
      " leaky_re_lu_7 (LeakyReLU)   (None, 512)               0         \n",
      "                                                                 \n",
      " dense_10 (Dense)            (None, 256)               131328    \n",
      "                                                                 \n",
      " batch_normalization_3 (Bat  (None, 256)               1024      \n",
      " chNormalization)                                                \n",
      "                                                                 \n",
      " leaky_re_lu_8 (LeakyReLU)   (None, 256)               0         \n",
      "                                                                 \n",
      " dense_11 (Dense)            (None, 128)               32896     \n",
      "                                                                 \n",
      "=================================================================\n",
      "Total params: 746368 (2.85 MB)\n",
      "Trainable params: 744832 (2.84 MB)\n",
      "Non-trainable params: 1536 (6.00 KB)\n",
      "_________________________________________________________________\n",
      "WARNING:tensorflow:Compiled the loaded model, but the compiled metrics have yet to be built. `model.compile_metrics` will be empty until you train or evaluate the model.\n"
     ]
    },
    {
     "name": "stderr",
     "output_type": "stream",
     "text": [
      "WARNING:tensorflow:Compiled the loaded model, but the compiled metrics have yet to be built. `model.compile_metrics` will be empty until you train or evaluate the model.\n"
     ]
    },
    {
     "name": "stdout",
     "output_type": "stream",
     "text": [
      "INFO:tensorflow:Assets written to: log\\NF-ToN-IoT-v2-DDoS-downsample\\results\\auc_roc\\encoder\\assets\n"
     ]
    },
    {
     "name": "stderr",
     "output_type": "stream",
     "text": [
      "INFO:tensorflow:Assets written to: log\\NF-ToN-IoT-v2-DDoS-downsample\\results\\auc_roc\\encoder\\assets\n"
     ]
    },
    {
     "name": "stdout",
     "output_type": "stream",
     "text": [
      "Model: \"discriminator\"\n",
      "_________________________________________________________________\n",
      " Layer (type)                Output Shape              Param #   \n",
      "=================================================================\n",
      " sequential (Sequential)     (None, 256)               710400    \n",
      "                                                                 \n",
      " dense_3 (Dense)             multiple                  256       \n",
      "                                                                 \n",
      "=================================================================\n",
      "Total params: 710656 (2.71 MB)\n",
      "Trainable params: 710656 (2.71 MB)\n",
      "Non-trainable params: 0 (0.00 Byte)\n",
      "_________________________________________________________________\n",
      "INFO:tensorflow:Assets written to: log\\NF-ToN-IoT-v2-DDoS-downsample\\results\\auc_roc\\discriminator\\assets\n"
     ]
    },
    {
     "name": "stderr",
     "output_type": "stream",
     "text": [
      "INFO:tensorflow:Assets written to: log\\NF-ToN-IoT-v2-DDoS-downsample\\results\\auc_roc\\discriminator\\assets\n"
     ]
    },
    {
     "name": "stdout",
     "output_type": "stream",
     "text": [
      "Step  36550 . d_loss:  1.38573349 , g_loss:  1.24202311 , e_loss:  9.48135857e-05 lr:  0.0002\n",
      "Step  36600 . d_loss:  1.38582289 , g_loss:  1.23815393 , e_loss:  7.30348e-05 lr:  0.0002\n",
      "Step  36650 . d_loss:  1.38589525 , g_loss:  1.23744607 , e_loss:  6.63331957e-05 lr:  0.0002\n",
      "Step  36700 . d_loss:  1.38600373 , g_loss:  1.23730695 , e_loss:  5.88326693e-05 lr:  0.0002\n",
      "Step  36750 . d_loss:  1.38603115 , g_loss:  1.23722661 , e_loss:  6.36722689e-05 lr:  0.0002\n",
      "Step  36800 . d_loss:  1.3859098 , g_loss:  1.23789787 , e_loss:  7.5121432e-05 lr:  0.0002\n",
      "Step  36850 . d_loss:  1.38594687 , g_loss:  1.2373296 , e_loss:  7.06131541e-05 lr:  0.0002\n",
      "Step  36900 . d_loss:  1.38594 , g_loss:  1.23728549 , e_loss:  7.20963217e-05 lr:  0.0002\n",
      "Step  36950 . d_loss:  1.38589585 , g_loss:  1.23783731 , e_loss:  7.59373143e-05 lr:  0.0002\n",
      "Step  37000 . d_loss:  1.38590598 , g_loss:  1.23766112 , e_loss:  7.89320038e-05 lr:  0.0002\n",
      "Step  37050 . d_loss:  1.38584614 , g_loss:  1.23763061 , e_loss:  7.92482679e-05 lr:  0.0002\n",
      "Step  37100 . d_loss:  1.38586175 , g_loss:  1.23747277 , e_loss:  7.9872123e-05 lr:  0.0002\n",
      "Step  37150 . d_loss:  1.38586044 , g_loss:  1.23763776 , e_loss:  8.28147458e-05 lr:  0.0002\n",
      "Step  37200 . d_loss:  1.38587439 , g_loss:  1.23793948 , e_loss:  8.38841806e-05 lr:  0.0002\n",
      "Step  37250 . d_loss:  1.38589323 , g_loss:  1.2376343 , e_loss:  8.08293116e-05 lr:  0.0002\n",
      "Step  37300 . d_loss:  1.38590562 , g_loss:  1.23756492 , e_loss:  7.75907538e-05 lr:  0.0002\n",
      "Step  37350 . d_loss:  1.38590086 , g_loss:  1.23729622 , e_loss:  7.5318123e-05 lr:  0.0002\n",
      "Step  37400 . d_loss:  1.38589287 , g_loss:  1.2373296 , e_loss:  7.64659562e-05 lr:  0.0002\n",
      "Step  37450 . d_loss:  1.38590217 , g_loss:  1.23694229 , e_loss:  7.48102248e-05 lr:  0.0002\n",
      "Step  37500 . d_loss:  1.38593161 , g_loss:  1.23692453 , e_loss:  7.40672258e-05 lr:  0.0002\n",
      "Step  37550 . d_loss:  1.38593841 , g_loss:  1.23666513 , e_loss:  7.30611937e-05 lr:  0.0002\n",
      "Step  37600 . d_loss:  1.38592494 , g_loss:  1.23662901 , e_loss:  7.26466824e-05 lr:  0.0002\n",
      "Step  37650 . d_loss:  1.38591325 , g_loss:  1.23677635 , e_loss:  7.41823169e-05 lr:  0.0002\n",
      "Step  37700 . d_loss:  1.38590693 , g_loss:  1.23679507 , e_loss:  7.51484e-05 lr:  0.0002\n",
      "Step  37750 . d_loss:  1.38589072 , g_loss:  1.23700202 , e_loss:  7.56965892e-05 lr:  0.0002\n",
      "Step  37800 . d_loss:  1.3859055 , g_loss:  1.23690045 , e_loss:  7.3828036e-05 lr:  0.0002\n",
      "Step  37850 . d_loss:  1.38592505 , g_loss:  1.2368834 , e_loss:  7.2331015e-05 lr:  0.0002\n",
      "Step  37900 . d_loss:  1.38593519 , g_loss:  1.23692501 , e_loss:  7.13082263e-05 lr:  0.0002\n",
      "Step  37950 . d_loss:  1.38594615 , g_loss:  1.2368232 , e_loss:  6.97098149e-05 lr:  0.0002\n",
      "Step  38000 . d_loss:  1.38595128 , g_loss:  1.23679197 , e_loss:  6.93235779e-05 lr:  0.0002\n",
      "Step  38050 . d_loss:  1.38595974 , g_loss:  1.23677635 , e_loss:  6.86950734e-05 lr:  0.0002\n",
      "Step  38100 . d_loss:  1.38596582 , g_loss:  1.23669195 , e_loss:  6.80768426e-05 lr:  0.0002\n",
      "Step  38150 . d_loss:  1.38595152 , g_loss:  1.23679924 , e_loss:  6.84243278e-05 lr:  0.0002\n",
      "Step  38200 . d_loss:  1.38595641 , g_loss:  1.23669493 , e_loss:  6.75212723e-05 lr:  0.0002\n",
      "Step  38250 . d_loss:  1.38596666 , g_loss:  1.23651755 , e_loss:  6.633046e-05 lr:  0.0002\n",
      "Step  38300 . d_loss:  1.38595736 , g_loss:  1.23651719 , e_loss:  6.74378243e-05 lr:  0.0002\n",
      "Step  38350 . d_loss:  1.38596499 , g_loss:  1.23652 , e_loss:  6.74285839e-05 lr:  0.0002\n",
      "Step  38400 . d_loss:  1.3859601 , g_loss:  1.23657656 , e_loss:  6.74724142e-05 lr:  0.0002\n",
      "Step  38450 . d_loss:  1.3859551 , g_loss:  1.23661923 , e_loss:  6.78641081e-05 lr:  0.0002\n",
      "Step  38500 . d_loss:  1.38596153 , g_loss:  1.23653352 , e_loss:  6.76376803e-05 lr:  0.0002\n",
      "Step  38550 . d_loss:  1.38596725 , g_loss:  1.23649025 , e_loss:  6.74708135e-05 lr:  0.0002\n",
      "Step  38600 . d_loss:  1.38597357 , g_loss:  1.23647571 , e_loss:  6.67082422e-05 lr:  0.0002\n",
      "Step  38650 . d_loss:  1.38598096 , g_loss:  1.23636103 , e_loss:  6.56958946e-05 lr:  0.0002\n",
      "Step  38700 . d_loss:  1.38597941 , g_loss:  1.23636198 , e_loss:  6.6104185e-05 lr:  0.0002\n",
      "Step  38750 . d_loss:  1.3859731 , g_loss:  1.23634779 , e_loss:  6.61721788e-05 lr:  0.0002\n",
      "Step  38800 . d_loss:  1.38596845 , g_loss:  1.23628187 , e_loss:  6.59727812e-05 lr:  0.0002\n",
      "Step  38850 . d_loss:  1.38596332 , g_loss:  1.23626804 , e_loss:  6.56901248e-05 lr:  0.0002\n",
      "Step  38900 . d_loss:  1.38597059 , g_loss:  1.23625648 , e_loss:  6.53766838e-05 lr:  0.0002\n",
      "Step  38950 . d_loss:  1.38597071 , g_loss:  1.23622763 , e_loss:  6.53430689e-05 lr:  0.0002\n",
      "Step  39000 . d_loss:  1.38596988 , g_loss:  1.23624992 , e_loss:  6.56708e-05 lr:  0.0002\n",
      "Step  39050 . d_loss:  1.38597119 , g_loss:  1.23633087 , e_loss:  6.60780788e-05 lr:  0.0002\n",
      "Step  39100 . d_loss:  1.3859669 , g_loss:  1.23629844 , e_loss:  6.61532176e-05 lr:  0.0002\n",
      "Step  39150 . d_loss:  1.38596559 , g_loss:  1.23627114 , e_loss:  6.62173115e-05 lr:  0.0002\n",
      "Step  39200 . d_loss:  1.38597167 , g_loss:  1.23627174 , e_loss:  6.58618592e-05 lr:  0.0002\n",
      "Step  39250 . d_loss:  1.38597524 , g_loss:  1.23627234 , e_loss:  6.55979529e-05 lr:  0.0002\n",
      "Step  39300 . d_loss:  1.38597655 , g_loss:  1.23628199 , e_loss:  6.53742536e-05 lr:  0.0002\n",
      "Step  39350 . d_loss:  1.38598096 , g_loss:  1.23622382 , e_loss:  6.50561706e-05 lr:  0.0002\n",
      "Step  39400 . d_loss:  1.3859818 , g_loss:  1.23620188 , e_loss:  6.50632937e-05 lr:  0.0002\n",
      "Step  39450 . d_loss:  1.38598466 , g_loss:  1.23622501 , e_loss:  6.49101494e-05 lr:  0.0002\n",
      "Step  39500 . d_loss:  1.385988 , g_loss:  1.23622358 , e_loss:  6.47108609e-05 lr:  0.0002\n",
      "Step  39550 . d_loss:  1.38599372 , g_loss:  1.2361244 , e_loss:  6.40534e-05 lr:  0.0002\n",
      "Step  39600 . d_loss:  1.38598883 , g_loss:  1.23607349 , e_loss:  6.3949883e-05 lr:  0.0002\n",
      "Step  39650 . d_loss:  1.38599312 , g_loss:  1.23599875 , e_loss:  6.3318148e-05 lr:  0.0002\n",
      "Step  39700 . d_loss:  1.38598454 , g_loss:  1.23605478 , e_loss:  6.36722107e-05 lr:  0.0002\n",
      "Step  39750 . d_loss:  1.38598323 , g_loss:  1.23603821 , e_loss:  6.39102e-05 lr:  0.0002\n",
      "Step  39800 . d_loss:  1.38598526 , g_loss:  1.23599267 , e_loss:  6.39699356e-05 lr:  0.0002\n",
      "Step  39850 . d_loss:  1.38598764 , g_loss:  1.23594153 , e_loss:  6.37352132e-05 lr:  0.0002\n",
      "Step  39900 . d_loss:  1.38597703 , g_loss:  1.23599327 , e_loss:  6.44548709e-05 lr:  0.0002\n",
      "Step  39950 . d_loss:  1.38597715 , g_loss:  1.23597372 , e_loss:  6.46365661e-05 lr:  0.0002\n",
      "Step  40000 . d_loss:  1.38597035 , g_loss:  1.23599064 , e_loss:  6.49527356e-05 lr:  0.0002\n",
      "Step  40050 . d_loss:  1.38597441 , g_loss:  1.23595 , e_loss:  6.46479602e-05 lr:  0.0002\n",
      "Step  40100 . d_loss:  1.38597453 , g_loss:  1.23590338 , e_loss:  6.44859756e-05 lr:  0.0002\n",
      "Step  40150 . d_loss:  1.38597691 , g_loss:  1.23590207 , e_loss:  6.4658474e-05 lr:  0.0002\n",
      "Step  40200 . d_loss:  1.38598 , g_loss:  1.23586261 , e_loss:  6.44552856e-05 lr:  0.0002\n",
      "Step  40250 . d_loss:  1.38598382 , g_loss:  1.23590815 , e_loss:  6.46337721e-05 lr:  0.0002\n",
      "Step  40300 . d_loss:  1.38597989 , g_loss:  1.23593497 , e_loss:  6.47302513e-05 lr:  0.0002\n",
      "Step  40350 . d_loss:  1.38597703 , g_loss:  1.23593295 , e_loss:  6.44316679e-05 lr:  0.0002\n",
      "Step  40400 . d_loss:  1.38597488 , g_loss:  1.23597527 , e_loss:  6.46844637e-05 lr:  0.0002\n",
      "Step  40450 . d_loss:  1.38597798 , g_loss:  1.23596835 , e_loss:  6.44575121e-05 lr:  0.0002\n",
      "Step  40500 . d_loss:  1.38598 , g_loss:  1.23595071 , e_loss:  6.42740197e-05 lr:  0.0002\n",
      "Step  40550 . d_loss:  1.38597786 , g_loss:  1.23592937 , e_loss:  6.43816e-05 lr:  0.0002\n",
      "Step  40600 . d_loss:  1.38598228 , g_loss:  1.23589563 , e_loss:  6.39588252e-05 lr:  0.0002\n",
      "Step  40650 . d_loss:  1.38597977 , g_loss:  1.23593891 , e_loss:  6.43807434e-05 lr:  0.0002\n",
      "Step  40700 . d_loss:  1.38598025 , g_loss:  1.23586869 , e_loss:  6.42864325e-05 lr:  0.0002\n",
      "Step  40750 . d_loss:  1.38598228 , g_loss:  1.2358892 , e_loss:  6.43075255e-05 lr:  0.0002\n",
      "Step  40800 . d_loss:  1.38597918 , g_loss:  1.23591864 , e_loss:  6.46098561e-05 lr:  0.0002\n",
      "Step  40850 . d_loss:  1.38597953 , g_loss:  1.23585153 , e_loss:  6.43421736e-05 lr:  0.0002\n",
      "Step  40900 . d_loss:  1.38597596 , g_loss:  1.23592055 , e_loss:  6.45539694e-05 lr:  0.0002\n",
      "Step  40950 . d_loss:  1.38597512 , g_loss:  1.2359165 , e_loss:  6.48149216e-05 lr:  0.0002\n",
      "Step  41000 . d_loss:  1.38597631 , g_loss:  1.23588932 , e_loss:  6.44996908e-05 lr:  0.0002\n",
      "Step  41050 . d_loss:  1.38597333 , g_loss:  1.235852 , e_loss:  6.47725683e-05 lr:  0.0002\n",
      "8 Epoch completed\n",
      "NF-ToN-IoT-v2-DDoS-downsample: \n",
      "Validation f1-score: 0.8065303578539151\n",
      "Validation f2-score: 0.8989167306645879\n",
      "Validation accuracy: 0.8018054767309876\n",
      "Validation Current AUC RC: 0.5168200731277466\n",
      "Validation Current AUC ROC: 0.7301009893417358\n",
      "Step  41100 . d_loss:  1.3853811 , g_loss:  1.23736036 , e_loss:  8.60562795e-05 lr:  0.0002\n",
      "Step  41150 . d_loss:  1.38584483 , g_loss:  1.23335 , e_loss:  7.2270348e-05 lr:  0.0002\n",
      "Step  41200 . d_loss:  1.38580394 , g_loss:  1.23328471 , e_loss:  6.57132041e-05 lr:  0.0002\n",
      "Step  41250 . d_loss:  1.38588011 , g_loss:  1.23269725 , e_loss:  5.78749132e-05 lr:  0.0002\n",
      "Step  41300 . d_loss:  1.38590109 , g_loss:  1.23314464 , e_loss:  6.29343849e-05 lr:  0.0002\n",
      "Step  41350 . d_loss:  1.38590896 , g_loss:  1.23363769 , e_loss:  6.73065078e-05 lr:  0.0002\n",
      "Step  41400 . d_loss:  1.38580275 , g_loss:  1.23328447 , e_loss:  6.77464777e-05 lr:  0.0002\n",
      "Step  41450 . d_loss:  1.38578475 , g_loss:  1.23329341 , e_loss:  6.90929228e-05 lr:  0.0002\n",
      "Step  41500 . d_loss:  1.38574171 , g_loss:  1.23342311 , e_loss:  6.92834074e-05 lr:  0.0002\n",
      "Step  41550 . d_loss:  1.38571894 , g_loss:  1.23386741 , e_loss:  7.2615956e-05 lr:  0.0002\n",
      "Step  41600 . d_loss:  1.38567555 , g_loss:  1.233706 , e_loss:  7.34070127e-05 lr:  0.0002\n",
      "Step  41650 . d_loss:  1.38569522 , g_loss:  1.23354828 , e_loss:  7.33420165e-05 lr:  0.0002\n",
      "Step  41700 . d_loss:  1.38569129 , g_loss:  1.23373735 , e_loss:  7.57097368e-05 lr:  0.0002\n",
      "Step  41750 . d_loss:  1.3857094 , g_loss:  1.23401785 , e_loss:  7.82981588e-05 lr:  0.0002\n",
      "Step  41800 . d_loss:  1.3857249 , g_loss:  1.23401129 , e_loss:  7.73169595e-05 lr:  0.0002\n",
      "Step  41850 . d_loss:  1.38574779 , g_loss:  1.23398745 , e_loss:  7.4486481e-05 lr:  0.0002\n",
      "Step  41900 . d_loss:  1.38575494 , g_loss:  1.23389769 , e_loss:  7.22724362e-05 lr:  0.0002\n",
      "Step  41950 . d_loss:  1.38575268 , g_loss:  1.23385739 , e_loss:  7.25898644e-05 lr:  0.0002\n",
      "Step  42000 . d_loss:  1.38574636 , g_loss:  1.23367953 , e_loss:  7.12936962e-05 lr:  0.0002\n",
      "Step  42050 . d_loss:  1.3857789 , g_loss:  1.23348284 , e_loss:  6.90021188e-05 lr:  0.0002\n",
      "Step  42100 . d_loss:  1.38574874 , g_loss:  1.23339295 , e_loss:  6.96453426e-05 lr:  0.0002\n",
      "Step  42150 . d_loss:  1.38572776 , g_loss:  1.23327458 , e_loss:  6.91249224e-05 lr:  0.0002\n",
      "Step  42200 . d_loss:  1.38572669 , g_loss:  1.2332921 , e_loss:  6.93296388e-05 lr:  0.0002\n",
      "Step  42250 . d_loss:  1.38571584 , g_loss:  1.23338199 , e_loss:  7.07051586e-05 lr:  0.0002\n",
      "Step  42300 . d_loss:  1.38570511 , g_loss:  1.23348308 , e_loss:  7.15586139e-05 lr:  0.0002\n",
      "Step  42350 . d_loss:  1.38572025 , g_loss:  1.23335135 , e_loss:  7.03316327e-05 lr:  0.0002\n",
      "Step  42400 . d_loss:  1.38574123 , g_loss:  1.23334694 , e_loss:  6.88594446e-05 lr:  0.0002\n",
      "Step  42450 . d_loss:  1.38576007 , g_loss:  1.23340917 , e_loss:  6.79542936e-05 lr:  0.0002\n",
      "Step  42500 . d_loss:  1.38577449 , g_loss:  1.2333281 , e_loss:  6.64130348e-05 lr:  0.0002\n",
      "Step  42550 . d_loss:  1.38578546 , g_loss:  1.23327696 , e_loss:  6.59456346e-05 lr:  0.0002\n",
      "Step  42600 . d_loss:  1.38578737 , g_loss:  1.23324823 , e_loss:  6.55487529e-05 lr:  0.0002\n",
      "Step  42650 . d_loss:  1.38579774 , g_loss:  1.23330832 , e_loss:  6.50591683e-05 lr:  0.0002\n",
      "Step  42700 . d_loss:  1.38579631 , g_loss:  1.23333383 , e_loss:  6.47291599e-05 lr:  0.0002\n",
      "Step  42750 . d_loss:  1.38579845 , g_loss:  1.23340392 , e_loss:  6.44259781e-05 lr:  0.0002\n",
      "Step  42800 . d_loss:  1.38580394 , g_loss:  1.23330855 , e_loss:  6.35067263e-05 lr:  0.0002\n",
      "Step  42850 . d_loss:  1.38580036 , g_loss:  1.23331428 , e_loss:  6.41428196e-05 lr:  0.0002\n",
      "Step  42900 . d_loss:  1.38581157 , g_loss:  1.23331511 , e_loss:  6.42020241e-05 lr:  0.0002\n",
      "Step  42950 . d_loss:  1.38580835 , g_loss:  1.23334277 , e_loss:  6.42343657e-05 lr:  0.0002\n",
      "Step  43000 . d_loss:  1.38580406 , g_loss:  1.23336744 , e_loss:  6.44307947e-05 lr:  0.0002\n",
      "Step  43050 . d_loss:  1.38580084 , g_loss:  1.23341382 , e_loss:  6.49884678e-05 lr:  0.0002\n",
      "Step  43100 . d_loss:  1.38581467 , g_loss:  1.23328638 , e_loss:  6.40300568e-05 lr:  0.0002\n",
      "Step  43150 . d_loss:  1.38582349 , g_loss:  1.23332644 , e_loss:  6.39777936e-05 lr:  0.0002\n",
      "Step  43200 . d_loss:  1.38583493 , g_loss:  1.23332393 , e_loss:  6.30200229e-05 lr:  0.0002\n",
      "Step  43250 . d_loss:  1.38583112 , g_loss:  1.23329604 , e_loss:  6.33010568e-05 lr:  0.0002\n",
      "Step  43300 . d_loss:  1.38583016 , g_loss:  1.23326921 , e_loss:  6.29368878e-05 lr:  0.0002\n",
      "Step  43350 . d_loss:  1.38582969 , g_loss:  1.23319542 , e_loss:  6.26899127e-05 lr:  0.0002\n",
      "Step  43400 . d_loss:  1.38582146 , g_loss:  1.23314846 , e_loss:  6.25980247e-05 lr:  0.0002\n",
      "Step  43450 . d_loss:  1.38583124 , g_loss:  1.23317671 , e_loss:  6.2228246e-05 lr:  0.0002\n",
      "Step  43500 . d_loss:  1.38583517 , g_loss:  1.23306096 , e_loss:  6.16205725e-05 lr:  0.0002\n",
      "Step  43550 . d_loss:  1.38583899 , g_loss:  1.2331295 , e_loss:  6.19228231e-05 lr:  0.0002\n",
      "Step  43600 . d_loss:  1.38583708 , g_loss:  1.23313224 , e_loss:  6.23065498e-05 lr:  0.0002\n",
      "Step  43650 . d_loss:  1.38584149 , g_loss:  1.23316085 , e_loss:  6.29832793e-05 lr:  0.0002\n",
      "Step  43700 . d_loss:  1.38584983 , g_loss:  1.23307753 , e_loss:  6.23487e-05 lr:  0.0002\n",
      "Step  43750 . d_loss:  1.3858546 , g_loss:  1.23305738 , e_loss:  6.24568856e-05 lr:  0.0002\n",
      "Step  43800 . d_loss:  1.38586247 , g_loss:  1.23307073 , e_loss:  6.18975e-05 lr:  0.0002\n",
      "Step  43850 . d_loss:  1.38586318 , g_loss:  1.2330668 , e_loss:  6.1899409e-05 lr:  0.0002\n",
      "Step  43900 . d_loss:  1.38586366 , g_loss:  1.23308563 , e_loss:  6.17829937e-05 lr:  0.0002\n",
      "Step  43950 . d_loss:  1.38586545 , g_loss:  1.23303652 , e_loss:  6.14565215e-05 lr:  0.0002\n",
      "Step  44000 . d_loss:  1.38586807 , g_loss:  1.23310089 , e_loss:  6.14874298e-05 lr:  0.0002\n",
      "Step  44050 . d_loss:  1.38587248 , g_loss:  1.23308051 , e_loss:  6.13681914e-05 lr:  0.0002\n",
      "Step  44100 . d_loss:  1.38587964 , g_loss:  1.23303533 , e_loss:  6.07567817e-05 lr:  0.0002\n",
      "Step  44150 . d_loss:  1.38588488 , g_loss:  1.23299706 , e_loss:  6.06903377e-05 lr:  0.0002\n",
      "Step  44200 . d_loss:  1.3858918 , g_loss:  1.23293817 , e_loss:  6.04185479e-05 lr:  0.0002\n",
      "Step  44250 . d_loss:  1.38588917 , g_loss:  1.23315215 , e_loss:  6.28745183e-05 lr:  0.0002\n",
      "Step  44300 . d_loss:  1.38589191 , g_loss:  1.23316395 , e_loss:  6.27718e-05 lr:  0.0002\n",
      "Step  44350 . d_loss:  1.3858875 , g_loss:  1.23313856 , e_loss:  6.36681216e-05 lr:  0.0002\n",
      "Step  44400 . d_loss:  1.38588762 , g_loss:  1.23307276 , e_loss:  6.34377138e-05 lr:  0.0002\n",
      "Step  44450 . d_loss:  1.38587487 , g_loss:  1.23308265 , e_loss:  6.40993676e-05 lr:  0.0002\n",
      "Step  44500 . d_loss:  1.38587499 , g_loss:  1.23312318 , e_loss:  6.4288608e-05 lr:  0.0002\n",
      "Step  44550 . d_loss:  1.38586879 , g_loss:  1.23313475 , e_loss:  6.46429689e-05 lr:  0.0002\n",
      "Step  44600 . d_loss:  1.38587248 , g_loss:  1.23309827 , e_loss:  6.42685263e-05 lr:  0.0002\n",
      "Step  44650 . d_loss:  1.38587189 , g_loss:  1.23309743 , e_loss:  6.41017104e-05 lr:  0.0002\n",
      "Step  44700 . d_loss:  1.38587379 , g_loss:  1.23309088 , e_loss:  6.38892234e-05 lr:  0.0002\n",
      "Step  44750 . d_loss:  1.38587821 , g_loss:  1.23303473 , e_loss:  6.39597856e-05 lr:  0.0002\n",
      "Step  44800 . d_loss:  1.38587987 , g_loss:  1.23300052 , e_loss:  6.3962616e-05 lr:  0.0002\n",
      "Step  44850 . d_loss:  1.38587677 , g_loss:  1.23302412 , e_loss:  6.40492144e-05 lr:  0.0002\n",
      "Step  44900 . d_loss:  1.38587391 , g_loss:  1.23299575 , e_loss:  6.36609402e-05 lr:  0.0002\n",
      "Step  44950 . d_loss:  1.38586891 , g_loss:  1.23300838 , e_loss:  6.39726713e-05 lr:  0.0002\n",
      "Step  45000 . d_loss:  1.38587284 , g_loss:  1.23301661 , e_loss:  6.36639088e-05 lr:  0.0002\n",
      "Step  45050 . d_loss:  1.38587582 , g_loss:  1.23297048 , e_loss:  6.33773088e-05 lr:  0.0002\n",
      "Step  45100 . d_loss:  1.38587272 , g_loss:  1.23294556 , e_loss:  6.35036704e-05 lr:  0.0002\n",
      "Step  45150 . d_loss:  1.38587821 , g_loss:  1.23289502 , e_loss:  6.31004368e-05 lr:  0.0002\n",
      "Step  45200 . d_loss:  1.38587451 , g_loss:  1.23289621 , e_loss:  6.32684678e-05 lr:  0.0002\n",
      "Step  45250 . d_loss:  1.38587499 , g_loss:  1.23288453 , e_loss:  6.3301959e-05 lr:  0.0002\n",
      "Step  45300 . d_loss:  1.38588047 , g_loss:  1.23287201 , e_loss:  6.31191e-05 lr:  0.0002\n",
      "Step  45350 . d_loss:  1.38587844 , g_loss:  1.23289621 , e_loss:  6.34567259e-05 lr:  0.0002\n",
      "Step  45400 . d_loss:  1.38587868 , g_loss:  1.23286903 , e_loss:  6.34992393e-05 lr:  0.0002\n",
      "Step  45450 . d_loss:  1.38587654 , g_loss:  1.23289216 , e_loss:  6.37367848e-05 lr:  0.0002\n",
      "Step  45500 . d_loss:  1.38587904 , g_loss:  1.23288429 , e_loss:  6.37318735e-05 lr:  0.0002\n",
      "Step  45550 . d_loss:  1.38587928 , g_loss:  1.23289621 , e_loss:  6.37950361e-05 lr:  0.0002\n",
      "Step  45600 . d_loss:  1.38587987 , g_loss:  1.23287106 , e_loss:  6.40525104e-05 lr:  0.0002\n",
      "9 Epoch completed\n",
      "NF-ToN-IoT-v2-DDoS-downsample: \n",
      "Validation f1-score: 0.8065420560747663\n",
      "Validation f2-score: 0.89909361362242\n",
      "Validation accuracy: 0.8017522701475596\n",
      "Validation Current AUC RC: 0.513338029384613\n",
      "Validation Current AUC ROC: 0.7252495884895325\n"
     ]
    },
    {
     "data": {
      "text/plain": [
       "(0.513338, 0.7252496, 0.8065420560747663, 0.89909361362242, 0.8017522701475596)"
      ]
     },
     "execution_count": 4,
     "metadata": {},
     "output_type": "execute_result"
    }
   ],
   "source": [
    "netflow_trainer = GANomaly(netflow_dataset, hps, tf.summary.create_file_writer(\"logs\"), Path(\"log\"))\n",
    "\n",
    "netflow_trainer.train(\n",
    "    hps[\"epochs\"], hps[\"adversarial_loss_weight\"], hps[\"contextual_loss_weight\"],\n",
    "    hps[\"enc_loss_weight\"], hps[\"step_log_frequency\"]\n",
    ")"
   ]
  },
  {
   "cell_type": "code",
   "execution_count": 5,
   "metadata": {},
   "outputs": [
    {
     "name": "stdout",
     "output_type": "stream",
     "text": [
      "[Info] Test dataset not provided, using models local data.\n",
      "WARNING:tensorflow:From l:\\Experimentos\\anomaly-flow\\.env\\lib\\site-packages\\keras\\src\\saving\\legacy\\saved_model\\load.py:107: The name tf.gfile.Exists is deprecated. Please use tf.io.gfile.exists instead.\n",
      "\n"
     ]
    },
    {
     "name": "stderr",
     "output_type": "stream",
     "text": [
      "WARNING:tensorflow:From l:\\Experimentos\\anomaly-flow\\.env\\lib\\site-packages\\keras\\src\\saving\\legacy\\saved_model\\load.py:107: The name tf.gfile.Exists is deprecated. Please use tf.io.gfile.exists instead.\n",
      "\n"
     ]
    },
    {
     "name": "stdout",
     "output_type": "stream",
     "text": [
      "WARNING:tensorflow:From l:\\Experimentos\\anomaly-flow\\.env\\lib\\site-packages\\keras\\src\\saving\\legacy\\saved_model\\load.py:178: The name tf.logging.warning is deprecated. Please use tf.compat.v1.logging.warning instead.\n",
      "\n"
     ]
    },
    {
     "name": "stderr",
     "output_type": "stream",
     "text": [
      "WARNING:tensorflow:From l:\\Experimentos\\anomaly-flow\\.env\\lib\\site-packages\\keras\\src\\saving\\legacy\\saved_model\\load.py:178: The name tf.logging.warning is deprecated. Please use tf.compat.v1.logging.warning instead.\n",
      "\n"
     ]
    },
    {
     "name": "stdout",
     "output_type": "stream",
     "text": [
      "WARNING:tensorflow:No training configuration found in save file, so the model was *not* compiled. Compile it manually.\n"
     ]
    },
    {
     "name": "stderr",
     "output_type": "stream",
     "text": [
      "WARNING:tensorflow:No training configuration found in save file, so the model was *not* compiled. Compile it manually.\n"
     ]
    },
    {
     "name": "stdout",
     "output_type": "stream",
     "text": [
      "WARNING:tensorflow:No training configuration found in save file, so the model was *not* compiled. Compile it manually.\n"
     ]
    },
    {
     "name": "stderr",
     "output_type": "stream",
     "text": [
      "WARNING:tensorflow:No training configuration found in save file, so the model was *not* compiled. Compile it manually.\n"
     ]
    },
    {
     "name": "stdout",
     "output_type": "stream",
     "text": [
      "Using the best model selected via  auc_rc\n",
      "Experiment 'NF-ToN-IoT-v2-DDoS-downsample' Results\n",
      "Test AUC-RC: 0.682\n",
      "Test AUC-ROC: 0.863\n",
      "Test F1-Score: 0.838\n",
      "Test F2-Score: 0.916\n",
      "Test Accuracy: 0.839\n"
     ]
    },
    {
     "data": {
      "image/png": "[encoded data removed]",
      "text/plain": [
       "<Figure size 800x600 with 1 Axes>"
      ]
     },
     "metadata": {},
     "output_type": "display_data"
    },
    {
     "data": {
      "text/plain": [
       "<Figure size 800x600 with 0 Axes>"
      ]
     },
     "metadata": {},
     "output_type": "display_data"
    },
    {
     "data": {
      "image/png": "[encoded data removed]",
      "text/plain": [
       "<Figure size 558.875x500 with 1 Axes>"
      ]
     },
     "metadata": {},
     "output_type": "display_data"
    },
    {
     "name": "stdout",
     "output_type": "stream",
     "text": [
      "WARNING:tensorflow:No training configuration found in save file, so the model was *not* compiled. Compile it manually.\n"
     ]
    },
    {
     "name": "stderr",
     "output_type": "stream",
     "text": [
      "WARNING:tensorflow:No training configuration found in save file, so the model was *not* compiled. Compile it manually.\n"
     ]
    },
    {
     "name": "stdout",
     "output_type": "stream",
     "text": [
      "WARNING:tensorflow:No training configuration found in save file, so the model was *not* compiled. Compile it manually.\n"
     ]
    },
    {
     "name": "stderr",
     "output_type": "stream",
     "text": [
      "WARNING:tensorflow:No training configuration found in save file, so the model was *not* compiled. Compile it manually.\n"
     ]
    },
    {
     "name": "stdout",
     "output_type": "stream",
     "text": [
      "Using the best model selected via  auc_roc\n",
      "Experiment 'NF-ToN-IoT-v2-DDoS-downsample' Results\n",
      "Test AUC-RC: 0.682\n",
      "Test AUC-ROC: 0.863\n",
      "Test F1-Score: 0.838\n",
      "Test F2-Score: 0.916\n",
      "Test Accuracy: 0.839\n"
     ]
    },
    {
     "data": {
      "image/png": "[encoded data removed]",
      "text/plain": [
       "<Figure size 800x600 with 1 Axes>"
      ]
     },
     "metadata": {},
     "output_type": "display_data"
    },
    {
     "data": {
      "text/plain": [
       "<Figure size 800x600 with 0 Axes>"
      ]
     },
     "metadata": {},
     "output_type": "display_data"
    },
    {
     "data": {
      "image/png": "[encoded data removed]",
      "text/plain": [
       "<Figure size 558.875x500 with 1 Axes>"
      ]
     },
     "metadata": {},
     "output_type": "display_data"
    },
    {
     "data": {
      "text/plain": [
       "(0.68167746,\n",
       " 0.86322325,\n",
       " 0.8376409925878182,\n",
       " 0.9158261180041058,\n",
       " 0.8392036427598729)"
      ]
     },
     "execution_count": 5,
     "metadata": {},
     "output_type": "execute_result"
    }
   ],
   "source": [
    "netflow_trainer.test()"
   ]
  },
  {
   "cell_type": "code",
   "execution_count": 33,
   "metadata": {},
   "outputs": [
    {
     "name": "stdout",
     "output_type": "stream",
     "text": [
      "2.15.0\n"
     ]
    }
   ],
   "source": [
    "print(tf.__version__)"
   ]
  },
  {
   "cell_type": "code",
   "execution_count": 34,
   "metadata": {},
   "outputs": [],
   "source": [
    "number_of_samples = 100000\n",
    "\n",
    "synthetic_dataset = generate_synthetic_data(\n",
    "                        netflow_trainer.get_generator(), \n",
    "                        number_of_samples=number_of_samples, \n",
    "                        columns=netflow_dataset.get_columns(),\n",
    "                        latent_vector_size=hps['latent_vector_size'],\n",
    "                        scaler=netflow_dataset.get_scaler())\n",
    "\n",
    "# synthetic_dataset\n",
    "synthetic_dataset.to_parquet(\"./datasets/synthetic_ton_iot_ganomaly.parquet\")"
   ]
  },
  {
   "cell_type": "code",
   "execution_count": 35,
   "metadata": {},
   "outputs": [
    {
     "data": {
      "text/html": [
       "<div>\n",
       "<style scoped>\n",
       "    .dataframe tbody tr th:only-of-type {\n",
       "        vertical-align: middle;\n",
       "    }\n",
       "\n",
       "    .dataframe tbody tr th {\n",
       "        vertical-align: top;\n",
       "    }\n",
       "\n",
       "    .dataframe thead th {\n",
       "        text-align: right;\n",
       "    }\n",
       "</style>\n",
       "<table border=\"1\" class=\"dataframe\">\n",
       "  <thead>\n",
       "    <tr style=\"text-align: right;\">\n",
       "      <th></th>\n",
       "      <th>PROTOCOL</th>\n",
       "      <th>IN_BYTES</th>\n",
       "      <th>IN_PKTS</th>\n",
       "      <th>OUT_BYTES</th>\n",
       "      <th>OUT_PKTS</th>\n",
       "      <th>FLOW_DURATION_MILLISECONDS</th>\n",
       "      <th>DURATION_IN</th>\n",
       "      <th>DURATION_OUT</th>\n",
       "      <th>MIN_TTL</th>\n",
       "      <th>MAX_TTL</th>\n",
       "      <th>...</th>\n",
       "      <th>CLIENT_RESET</th>\n",
       "      <th>CLIENT_SYNCHRONISATION</th>\n",
       "      <th>CLIENT_FIN</th>\n",
       "      <th>SERVER_URGENT_POINTER</th>\n",
       "      <th>SERVER_ACKNOWLEDGEMENT</th>\n",
       "      <th>SERVER_PUSH</th>\n",
       "      <th>SERVER_RESET</th>\n",
       "      <th>SERVER_SYNCHRONISATION</th>\n",
       "      <th>SERVER_FIN</th>\n",
       "      <th>Label</th>\n",
       "    </tr>\n",
       "  </thead>\n",
       "  <tbody>\n",
       "    <tr>\n",
       "      <th>0</th>\n",
       "      <td>6.0</td>\n",
       "      <td>120.0</td>\n",
       "      <td>2.0</td>\n",
       "      <td>104.0</td>\n",
       "      <td>2.0</td>\n",
       "      <td>4294951.0</td>\n",
       "      <td>16.0</td>\n",
       "      <td>16.0</td>\n",
       "      <td>64.0</td>\n",
       "      <td>64.0</td>\n",
       "      <td>...</td>\n",
       "      <td>0.0</td>\n",
       "      <td>1.0</td>\n",
       "      <td>0.0</td>\n",
       "      <td>0.0</td>\n",
       "      <td>1.0</td>\n",
       "      <td>0.0</td>\n",
       "      <td>0.0</td>\n",
       "      <td>0.0</td>\n",
       "      <td>0.0</td>\n",
       "      <td>NaN</td>\n",
       "    </tr>\n",
       "    <tr>\n",
       "      <th>1</th>\n",
       "      <td>6.0</td>\n",
       "      <td>44.0</td>\n",
       "      <td>1.0</td>\n",
       "      <td>40.0</td>\n",
       "      <td>1.0</td>\n",
       "      <td>0.0</td>\n",
       "      <td>0.0</td>\n",
       "      <td>0.0</td>\n",
       "      <td>0.0</td>\n",
       "      <td>0.0</td>\n",
       "      <td>...</td>\n",
       "      <td>0.0</td>\n",
       "      <td>1.0</td>\n",
       "      <td>0.0</td>\n",
       "      <td>0.0</td>\n",
       "      <td>1.0</td>\n",
       "      <td>0.0</td>\n",
       "      <td>1.0</td>\n",
       "      <td>0.0</td>\n",
       "      <td>0.0</td>\n",
       "      <td>NaN</td>\n",
       "    </tr>\n",
       "    <tr>\n",
       "      <th>2</th>\n",
       "      <td>6.0</td>\n",
       "      <td>44.0</td>\n",
       "      <td>1.0</td>\n",
       "      <td>40.0</td>\n",
       "      <td>1.0</td>\n",
       "      <td>0.0</td>\n",
       "      <td>0.0</td>\n",
       "      <td>0.0</td>\n",
       "      <td>0.0</td>\n",
       "      <td>0.0</td>\n",
       "      <td>...</td>\n",
       "      <td>0.0</td>\n",
       "      <td>1.0</td>\n",
       "      <td>0.0</td>\n",
       "      <td>0.0</td>\n",
       "      <td>1.0</td>\n",
       "      <td>0.0</td>\n",
       "      <td>1.0</td>\n",
       "      <td>0.0</td>\n",
       "      <td>0.0</td>\n",
       "      <td>NaN</td>\n",
       "    </tr>\n",
       "    <tr>\n",
       "      <th>3</th>\n",
       "      <td>17.0</td>\n",
       "      <td>138.0</td>\n",
       "      <td>2.0</td>\n",
       "      <td>234.0</td>\n",
       "      <td>2.0</td>\n",
       "      <td>0.0</td>\n",
       "      <td>0.0</td>\n",
       "      <td>0.0</td>\n",
       "      <td>64.0</td>\n",
       "      <td>64.0</td>\n",
       "      <td>...</td>\n",
       "      <td>0.0</td>\n",
       "      <td>0.0</td>\n",
       "      <td>0.0</td>\n",
       "      <td>0.0</td>\n",
       "      <td>0.0</td>\n",
       "      <td>0.0</td>\n",
       "      <td>0.0</td>\n",
       "      <td>0.0</td>\n",
       "      <td>0.0</td>\n",
       "      <td>NaN</td>\n",
       "    </tr>\n",
       "    <tr>\n",
       "      <th>4</th>\n",
       "      <td>6.0</td>\n",
       "      <td>44.0</td>\n",
       "      <td>1.0</td>\n",
       "      <td>40.0</td>\n",
       "      <td>1.0</td>\n",
       "      <td>0.0</td>\n",
       "      <td>0.0</td>\n",
       "      <td>0.0</td>\n",
       "      <td>0.0</td>\n",
       "      <td>0.0</td>\n",
       "      <td>...</td>\n",
       "      <td>0.0</td>\n",
       "      <td>1.0</td>\n",
       "      <td>0.0</td>\n",
       "      <td>0.0</td>\n",
       "      <td>1.0</td>\n",
       "      <td>0.0</td>\n",
       "      <td>1.0</td>\n",
       "      <td>0.0</td>\n",
       "      <td>0.0</td>\n",
       "      <td>NaN</td>\n",
       "    </tr>\n",
       "    <tr>\n",
       "      <th>...</th>\n",
       "      <td>...</td>\n",
       "      <td>...</td>\n",
       "      <td>...</td>\n",
       "      <td>...</td>\n",
       "      <td>...</td>\n",
       "      <td>...</td>\n",
       "      <td>...</td>\n",
       "      <td>...</td>\n",
       "      <td>...</td>\n",
       "      <td>...</td>\n",
       "      <td>...</td>\n",
       "      <td>...</td>\n",
       "      <td>...</td>\n",
       "      <td>...</td>\n",
       "      <td>...</td>\n",
       "      <td>...</td>\n",
       "      <td>...</td>\n",
       "      <td>...</td>\n",
       "      <td>...</td>\n",
       "      <td>...</td>\n",
       "      <td>...</td>\n",
       "    </tr>\n",
       "    <tr>\n",
       "      <th>282037</th>\n",
       "      <td>6.0</td>\n",
       "      <td>268.0</td>\n",
       "      <td>5.0</td>\n",
       "      <td>164.0</td>\n",
       "      <td>3.0</td>\n",
       "      <td>4294592.0</td>\n",
       "      <td>375.0</td>\n",
       "      <td>328.0</td>\n",
       "      <td>64.0</td>\n",
       "      <td>64.0</td>\n",
       "      <td>...</td>\n",
       "      <td>0.0</td>\n",
       "      <td>1.0</td>\n",
       "      <td>0.0</td>\n",
       "      <td>0.0</td>\n",
       "      <td>1.0</td>\n",
       "      <td>0.0</td>\n",
       "      <td>0.0</td>\n",
       "      <td>1.0</td>\n",
       "      <td>1.0</td>\n",
       "      <td>NaN</td>\n",
       "    </tr>\n",
       "    <tr>\n",
       "      <th>282038</th>\n",
       "      <td>6.0</td>\n",
       "      <td>44.0</td>\n",
       "      <td>1.0</td>\n",
       "      <td>40.0</td>\n",
       "      <td>1.0</td>\n",
       "      <td>0.0</td>\n",
       "      <td>0.0</td>\n",
       "      <td>0.0</td>\n",
       "      <td>0.0</td>\n",
       "      <td>0.0</td>\n",
       "      <td>...</td>\n",
       "      <td>0.0</td>\n",
       "      <td>1.0</td>\n",
       "      <td>0.0</td>\n",
       "      <td>0.0</td>\n",
       "      <td>1.0</td>\n",
       "      <td>0.0</td>\n",
       "      <td>1.0</td>\n",
       "      <td>0.0</td>\n",
       "      <td>0.0</td>\n",
       "      <td>NaN</td>\n",
       "    </tr>\n",
       "    <tr>\n",
       "      <th>282039</th>\n",
       "      <td>6.0</td>\n",
       "      <td>276.0</td>\n",
       "      <td>5.0</td>\n",
       "      <td>172.0</td>\n",
       "      <td>3.0</td>\n",
       "      <td>4294452.0</td>\n",
       "      <td>515.0</td>\n",
       "      <td>515.0</td>\n",
       "      <td>64.0</td>\n",
       "      <td>64.0</td>\n",
       "      <td>...</td>\n",
       "      <td>0.0</td>\n",
       "      <td>1.0</td>\n",
       "      <td>0.0</td>\n",
       "      <td>0.0</td>\n",
       "      <td>1.0</td>\n",
       "      <td>0.0</td>\n",
       "      <td>0.0</td>\n",
       "      <td>1.0</td>\n",
       "      <td>1.0</td>\n",
       "      <td>NaN</td>\n",
       "    </tr>\n",
       "    <tr>\n",
       "      <th>282040</th>\n",
       "      <td>6.0</td>\n",
       "      <td>224.0</td>\n",
       "      <td>4.0</td>\n",
       "      <td>224.0</td>\n",
       "      <td>4.0</td>\n",
       "      <td>4294655.0</td>\n",
       "      <td>281.0</td>\n",
       "      <td>312.0</td>\n",
       "      <td>64.0</td>\n",
       "      <td>64.0</td>\n",
       "      <td>...</td>\n",
       "      <td>0.0</td>\n",
       "      <td>1.0</td>\n",
       "      <td>0.0</td>\n",
       "      <td>0.0</td>\n",
       "      <td>1.0</td>\n",
       "      <td>0.0</td>\n",
       "      <td>0.0</td>\n",
       "      <td>1.0</td>\n",
       "      <td>1.0</td>\n",
       "      <td>NaN</td>\n",
       "    </tr>\n",
       "    <tr>\n",
       "      <th>282041</th>\n",
       "      <td>6.0</td>\n",
       "      <td>284.0</td>\n",
       "      <td>5.0</td>\n",
       "      <td>440.0</td>\n",
       "      <td>8.0</td>\n",
       "      <td>4294326.0</td>\n",
       "      <td>641.0</td>\n",
       "      <td>641.0</td>\n",
       "      <td>64.0</td>\n",
       "      <td>64.0</td>\n",
       "      <td>...</td>\n",
       "      <td>0.0</td>\n",
       "      <td>1.0</td>\n",
       "      <td>1.0</td>\n",
       "      <td>0.0</td>\n",
       "      <td>1.0</td>\n",
       "      <td>0.0</td>\n",
       "      <td>0.0</td>\n",
       "      <td>1.0</td>\n",
       "      <td>0.0</td>\n",
       "      <td>NaN</td>\n",
       "    </tr>\n",
       "  </tbody>\n",
       "</table>\n",
       "<p>282042 rows × 53 columns</p>\n",
       "</div>"
      ],
      "text/plain": [
       "        PROTOCOL  IN_BYTES  IN_PKTS  OUT_BYTES  OUT_PKTS  \\\n",
       "0            6.0     120.0      2.0      104.0       2.0   \n",
       "1            6.0      44.0      1.0       40.0       1.0   \n",
       "2            6.0      44.0      1.0       40.0       1.0   \n",
       "3           17.0     138.0      2.0      234.0       2.0   \n",
       "4            6.0      44.0      1.0       40.0       1.0   \n",
       "...          ...       ...      ...        ...       ...   \n",
       "282037       6.0     268.0      5.0      164.0       3.0   \n",
       "282038       6.0      44.0      1.0       40.0       1.0   \n",
       "282039       6.0     276.0      5.0      172.0       3.0   \n",
       "282040       6.0     224.0      4.0      224.0       4.0   \n",
       "282041       6.0     284.0      5.0      440.0       8.0   \n",
       "\n",
       "        FLOW_DURATION_MILLISECONDS  DURATION_IN  DURATION_OUT  MIN_TTL  \\\n",
       "0                        4294951.0         16.0          16.0     64.0   \n",
       "1                              0.0          0.0           0.0      0.0   \n",
       "2                              0.0          0.0           0.0      0.0   \n",
       "3                              0.0          0.0           0.0     64.0   \n",
       "4                              0.0          0.0           0.0      0.0   \n",
       "...                            ...          ...           ...      ...   \n",
       "282037                   4294592.0        375.0         328.0     64.0   \n",
       "282038                         0.0          0.0           0.0      0.0   \n",
       "282039                   4294452.0        515.0         515.0     64.0   \n",
       "282040                   4294655.0        281.0         312.0     64.0   \n",
       "282041                   4294326.0        641.0         641.0     64.0   \n",
       "\n",
       "        MAX_TTL  ...  CLIENT_RESET  CLIENT_SYNCHRONISATION  CLIENT_FIN  \\\n",
       "0          64.0  ...           0.0                     1.0         0.0   \n",
       "1           0.0  ...           0.0                     1.0         0.0   \n",
       "2           0.0  ...           0.0                     1.0         0.0   \n",
       "3          64.0  ...           0.0                     0.0         0.0   \n",
       "4           0.0  ...           0.0                     1.0         0.0   \n",
       "...         ...  ...           ...                     ...         ...   \n",
       "282037     64.0  ...           0.0                     1.0         0.0   \n",
       "282038      0.0  ...           0.0                     1.0         0.0   \n",
       "282039     64.0  ...           0.0                     1.0         0.0   \n",
       "282040     64.0  ...           0.0                     1.0         0.0   \n",
       "282041     64.0  ...           0.0                     1.0         1.0   \n",
       "\n",
       "        SERVER_URGENT_POINTER  SERVER_ACKNOWLEDGEMENT  SERVER_PUSH  \\\n",
       "0                         0.0                     1.0          0.0   \n",
       "1                         0.0                     1.0          0.0   \n",
       "2                         0.0                     1.0          0.0   \n",
       "3                         0.0                     0.0          0.0   \n",
       "4                         0.0                     1.0          0.0   \n",
       "...                       ...                     ...          ...   \n",
       "282037                    0.0                     1.0          0.0   \n",
       "282038                    0.0                     1.0          0.0   \n",
       "282039                    0.0                     1.0          0.0   \n",
       "282040                    0.0                     1.0          0.0   \n",
       "282041                    0.0                     1.0          0.0   \n",
       "\n",
       "        SERVER_RESET  SERVER_SYNCHRONISATION  SERVER_FIN  Label  \n",
       "0                0.0                     0.0         0.0    NaN  \n",
       "1                1.0                     0.0         0.0    NaN  \n",
       "2                1.0                     0.0         0.0    NaN  \n",
       "3                0.0                     0.0         0.0    NaN  \n",
       "4                1.0                     0.0         0.0    NaN  \n",
       "...              ...                     ...         ...    ...  \n",
       "282037           0.0                     1.0         1.0    NaN  \n",
       "282038           1.0                     0.0         0.0    NaN  \n",
       "282039           0.0                     1.0         1.0    NaN  \n",
       "282040           0.0                     1.0         1.0    NaN  \n",
       "282041           0.0                     1.0         0.0    NaN  \n",
       "\n",
       "[282042 rows x 53 columns]"
      ]
     },
     "execution_count": 35,
     "metadata": {},
     "output_type": "execute_result"
    }
   ],
   "source": [
    "test_df = netflow_dataset.get_test_distribution()\n",
    "\n",
    "test_df"
   ]
  },
  {
   "cell_type": "code",
   "execution_count": 36,
   "metadata": {},
   "outputs": [
    {
     "name": "stderr",
     "output_type": "stream",
     "text": [
      "l:\\Experimentos\\anomaly-flow\\.env\\lib\\site-packages\\seaborn\\distributions.py:2125: UserWarning: `displot` is a figure-level function and does not accept the ax= parameter. You may wish to try kdeplot.\n",
      "  warnings.warn(msg, UserWarning)\n",
      "l:\\Experimentos\\anomaly-flow\\.env\\lib\\site-packages\\seaborn\\distributions.py:2125: UserWarning: `displot` is a figure-level function and does not accept the ax= parameter. You may wish to try kdeplot.\n",
      "  warnings.warn(msg, UserWarning)\n",
      "l:\\Experimentos\\anomaly-flow\\.env\\lib\\site-packages\\seaborn\\distributions.py:2125: UserWarning: `displot` is a figure-level function and does not accept the ax= parameter. You may wish to try kdeplot.\n",
      "  warnings.warn(msg, UserWarning)\n"
     ]
    },
    {
     "data": {
      "text/plain": [
       "<Figure size 1000x600 with 0 Axes>"
      ]
     },
     "metadata": {},
     "output_type": "display_data"
    },
    {
     "data": {
      "image/png": "[encoded data removed]",
      "text/plain": [
       "<Figure size 613.875x500 with 1 Axes>"
      ]
     },
     "metadata": {},
     "output_type": "display_data"
    },
    {
     "data": {
      "text/plain": [
       "<Figure size 1000x600 with 0 Axes>"
      ]
     },
     "metadata": {},
     "output_type": "display_data"
    },
    {
     "data": {
      "image/png": "[encoded data removed]",
      "text/plain": [
       "<Figure size 613.875x500 with 1 Axes>"
      ]
     },
     "metadata": {},
     "output_type": "display_data"
    },
    {
     "data": {
      "text/plain": [
       "<Figure size 1000x600 with 0 Axes>"
      ]
     },
     "metadata": {},
     "output_type": "display_data"
    },
    {
     "data": {
      "image/png": "[encoded data removed]",
      "text/plain": [
       "<Figure size 613.875x500 with 1 Axes>"
      ]
     },
     "metadata": {},
     "output_type": "display_data"
    }
   ],
   "source": [
    "# features_to_plot = list(test_df.columns)\n",
    "features_to_plot = [\"FLOW_DURATION_MILLISECONDS\", \"OUT_PKTS\", \"BYTES_PER_PACKET\"]\n",
    "\n",
    "# Filter only the benign samples to evaluate\n",
    "test_df = netflow_dataset.get_test_distribution()\n",
    "test_df = test_df[test_df[\"Label\"] == 0]\n",
    "\n",
    "test_df[\"BYTES_PER_PACKET\"] = test_df[\"IN_BYTES\"] / test_df[\"IN_PKTS\"]\n",
    "synthetic_dataset[\"BYTES_PER_PACKET\"] = synthetic_dataset[\"IN_BYTES\"] / synthetic_dataset[\"IN_PKTS\"]\n",
    "\n",
    "for i, feature in enumerate(features_to_plot):\n",
    "    generate_dist_plot(\n",
    "        series=test_df[feature][:number_of_samples], \n",
    "        comparison_series=synthetic_dataset[feature], \n",
    "        title=f\"{dataset_name}-{feature}\", \n",
    "        save_to_file=True,\n",
    "        ax=None\n",
    "    )"
   ]
  }
 ],
 "metadata": {
  "kernelspec": {
   "display_name": ".env",
   "language": "python",
   "name": "python3"
  },
  "language_info": {
   "codemirror_mode": {
    "name": "ipython",
    "version": 3
   },
   "file_extension": ".py",
   "mimetype": "text/x-python",
   "name": "python",
   "nbconvert_exporter": "python",
   "pygments_lexer": "ipython3",
   "version": "3.10.8"
  },
  "orig_nbformat": 4
 },
 "nbformat": 4,
 "nbformat_minor": 2
}
