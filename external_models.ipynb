{
 "cells": [
  {
   "cell_type": "code",
   "execution_count": 1,
   "metadata": {},
   "outputs": [
    {
     "name": "stdout",
     "output_type": "stream",
     "text": [
      "WARNING:tensorflow:From l:\\Experimentos\\anomaly-flow\\.env\\lib\\site-packages\\keras\\src\\losses.py:2976: The name tf.losses.sparse_softmax_cross_entropy is deprecated. Please use tf.compat.v1.losses.sparse_softmax_cross_entropy instead.\n",
      "\n"
     ]
    }
   ],
   "source": [
    "import pandas as pd\n",
    "import numpy as np\n",
    "\n",
    "from sklearn.model_selection import train_test_split\n",
    "from sklearn.ensemble import RandomForestClassifier\n",
    "from sklearn.ensemble import IsolationForest\n",
    "from sklearn.metrics import f1_score\n",
    "\n",
    "\n",
    "from sklearn.neural_network import MLPClassifier\n",
    "from sklearn.preprocessing import MinMaxScaler\n",
    "import xgboost as xgb\n",
    "\n",
    "from anomaly_flow.utils.binary_processing import split_flag_columns\n",
    "from anomaly_flow.model.autoencoder_flow_nids import AutoEncoder\n"
   ]
  },
  {
   "cell_type": "code",
   "execution_count": 2,
   "metadata": {},
   "outputs": [],
   "source": [
    "APPLY_SYNTHETIC = False\n",
    "APPLY_REAL = False\n",
    "SAME_SCALE = True\n",
    "DATASET = \"NF-ToN-IoT-v2-DDoS\""
   ]
  },
  {
   "cell_type": "code",
   "execution_count": 3,
   "metadata": {},
   "outputs": [],
   "source": [
    "threshold = np.finfo(np.float32).max"
   ]
  },
  {
   "cell_type": "code",
   "execution_count": 4,
   "metadata": {},
   "outputs": [],
   "source": [
    "FEATURES_TO_DROP = [\n",
    "    'IPV4_SRC_ADDR', \n",
    "    'IPV4_DST_ADDR', \n",
    "    'L7_PROTO', \n",
    "    'L4_SRC_PORT', \n",
    "    'L4_DST_PORT', \n",
    "    'FTP_COMMAND_RET_CODE',\n",
    "    'Attack'\n",
    "]"
   ]
  },
  {
   "cell_type": "code",
   "execution_count": 5,
   "metadata": {},
   "outputs": [],
   "source": [
    "dtypes_netflow = {\n",
    "    \"IPV4_SRC_ADDR\":                \"object\",\n",
    "    \"L4_SRC_PORT\":                  \"float32\",\n",
    "    \"IPV4_DST_ADDR\":                \"object\",\n",
    "    \"L4_DST_PORT\":                  \"float32\",\n",
    "    \"PROTOCOL\":                     \"float32\",\n",
    "    \"L7_PROTO\":                     \"float64\",\n",
    "    \"IN_BYTES\":                     \"float32\",\n",
    "    \"IN_PKTS\":                      \"float32\",\n",
    "    \"OUT_BYTES\":                    \"float32\",\n",
    "    \"OUT_PKTS\":                     \"float32\",\n",
    "    \"TCP_FLAGS\":                    \"int32\",\n",
    "    \"CLIENT_TCP_FLAGS\":             \"int32\",\n",
    "    \"SERVER_TCP_FLAGS\":             \"int32\",\n",
    "    \"FLOW_DURATION_MILLISECONDS\":   \"float32\",\n",
    "    \"DURATION_IN\":                  \"float32\",\n",
    "    \"DURATION_OUT\":                 \"float32\",\n",
    "    \"MIN_TTL\":                      \"float32\",\n",
    "    \"MAX_TTL\":                      \"float32\",\n",
    "    \"LONGEST_FLOW_PKT\":             \"float32\",\n",
    "    \"SHORTEST_FLOW_PKT\":            \"float32\",\n",
    "    \"MIN_IP_PKT_LEN\":               \"float32\",\n",
    "    \"MAX_IP_PKT_LEN\":               \"float32\",\n",
    "    \"SRC_TO_DST_SECOND_BYTES\":      \"float64\",\n",
    "    \"DST_TO_SRC_SECOND_BYTES\":      \"float64\",\n",
    "    \"RETRANSMITTED_IN_BYTES\":       \"float32\",\n",
    "    \"RETRANSMITTED_IN_PKTS\":        \"float32\",\n",
    "    \"RETRANSMITTED_OUT_BYTES\":      \"float32\",\n",
    "    \"RETRANSMITTED_OUT_PKTS\":       \"float32\",\n",
    "    \"SRC_TO_DST_AVG_THROUGHPUT\":    \"float32\",\n",
    "    \"DST_TO_SRC_AVG_THROUGHPUT\":    \"float32\",\n",
    "    \"NUM_PKTS_UP_TO_128_BYTES\":     \"float32\",\n",
    "    \"NUM_PKTS_128_TO_256_BYTES\":    \"float32\",\n",
    "    \"NUM_PKTS_256_TO_512_BYTES\":    \"float32\",\n",
    "    \"NUM_PKTS_512_TO_1024_BYTES\":   \"float32\",\n",
    "    \"NUM_PKTS_1024_TO_1514_BYTES\":  \"float32\",\n",
    "    \"TCP_WIN_MAX_IN\":               \"float32\",\n",
    "    \"TCP_WIN_MAX_OUT\":              \"float32\",\n",
    "    \"ICMP_TYPE\":                    \"float32\",\n",
    "    \"ICMP_IPV4_TYPE\":               \"float32\",\n",
    "    \"DNS_QUERY_ID\":                 \"float32\",\n",
    "    \"DNS_QUERY_TYPE\":               \"float32\",\n",
    "    \"DNS_TTL_ANSWER\":               \"float32\",\n",
    "    \"FTP_COMMAND_RET_CODE\":         \"float32\",\n",
    "    \"Attack\":                       \"object\",\n",
    "    \"Label\":                        \"float32\",\n",
    "}"
   ]
  },
  {
   "cell_type": "code",
   "execution_count": 6,
   "metadata": {},
   "outputs": [],
   "source": [
    "\"\"\"\n",
    "    Function used to load the Anomaly-flow Synthetic Data \n",
    "\n",
    "    @args: dataset_name: String \n",
    "    @output: synthetic_x: np.nd_array, synthetic_y: np.nd_array\n",
    "    \n",
    "\"\"\"\n",
    "def load_synthetic_dataset(dataset_name: str, apply_scaler: bool = False): \n",
    "    synthetic_df = pd.read_parquet(\n",
    "        f\"./datasets/{dataset_name}\"\n",
    "    )\n",
    "    synthetic_df[\"Label\"] = 0\n",
    "    synthetic_x, synthetic_y = synthetic_df.drop(['Label'], axis=1), synthetic_df['Label']\n",
    "    synthetic_x = synthetic_x.to_numpy()\n",
    "\n",
    "    if (apply_scaler is True): \n",
    "        synthetic_scaler = MinMaxScaler()\n",
    "        synthetic_x = synthetic_scaler.fit_transform(synthetic_x)\n",
    "    \n",
    "    return synthetic_x, synthetic_y"
   ]
  },
  {
   "cell_type": "code",
   "execution_count": 7,
   "metadata": {},
   "outputs": [],
   "source": [
    "synthetic_x, synthetic_y = load_synthetic_dataset(\"Anomaly-Flow-Synthetic.parquet\", True)"
   ]
  },
  {
   "cell_type": "code",
   "execution_count": 8,
   "metadata": {},
   "outputs": [
    {
     "name": "stdout",
     "output_type": "stream",
     "text": [
      "WARNING:tensorflow:From l:\\Experimentos\\anomaly-flow\\.env\\lib\\site-packages\\keras\\src\\backend.py:1398: The name tf.executing_eagerly_outside_functions is deprecated. Please use tf.compat.v1.executing_eagerly_outside_functions instead.\n",
      "\n",
      "WARNING:tensorflow:From l:\\Experimentos\\anomaly-flow\\.env\\lib\\site-packages\\keras\\src\\optimizers\\__init__.py:309: The name tf.train.Optimizer is deprecated. Please use tf.compat.v1.train.Optimizer instead.\n",
      "\n"
     ]
    }
   ],
   "source": [
    "rf_classifier = RandomForestClassifier(warm_start=True, n_estimators=100, max_depth=20, min_samples_split=5)\n",
    "if_classifier = IsolationForest(random_state=42, warm_start=True, n_estimators=50, contamination=0.01)\n",
    "xgb_classifier = xgb.XGBClassifier(n_estimators=150, max_depth=9, learning_rate=0.1)\n",
    "mlp_classifier = MLPClassifier(random_state=42, warm_start=False, hidden_layer_sizes=(50, 25), activation=\"tanh\", max_iter=200)\n",
    "ae_classifier = AutoEncoder(num_features=synthetic_x.shape[1])"
   ]
  },
  {
   "cell_type": "code",
   "execution_count": 9,
   "metadata": {},
   "outputs": [
    {
     "name": "stdout",
     "output_type": "stream",
     "text": [
      "Training Started...\n",
      "> Loaded Unknown Dataset  | Trainset: (100000, 52)\n",
      "> Train samples: 100000\n",
      "Epoch 1/10\n",
      "WARNING:tensorflow:From l:\\Experimentos\\anomaly-flow\\.env\\lib\\site-packages\\keras\\src\\utils\\tf_utils.py:492: The name tf.ragged.RaggedTensorValue is deprecated. Please use tf.compat.v1.ragged.RaggedTensorValue instead.\n",
      "\n",
      "782/782 [==============================] - 4s 2ms/step - loss: 0.0524\n",
      "Epoch 2/10\n",
      "782/782 [==============================] - 2s 2ms/step - loss: 0.0260\n",
      "Epoch 3/10\n",
      "782/782 [==============================] - 2s 2ms/step - loss: 0.0225\n",
      "Epoch 4/10\n",
      "782/782 [==============================] - 2s 2ms/step - loss: 0.0207\n",
      "Epoch 5/10\n",
      "782/782 [==============================] - 2s 2ms/step - loss: 0.0196\n",
      "Epoch 6/10\n",
      "782/782 [==============================] - 2s 2ms/step - loss: 0.0188\n",
      "Epoch 7/10\n",
      "782/782 [==============================] - 2s 2ms/step - loss: 0.0173\n",
      "Epoch 8/10\n",
      "782/782 [==============================] - 2s 2ms/step - loss: 0.0163\n",
      "Epoch 9/10\n",
      "782/782 [==============================] - 2s 2ms/step - loss: 0.0154\n",
      "Epoch 10/10\n",
      "782/782 [==============================] - 2s 2ms/step - loss: 0.0148\n",
      ">>> Threshold: 0.014781216159462929\n",
      "Training Finished...\n"
     ]
    }
   ],
   "source": [
    "print(\"Training Started...\")\n",
    "\n",
    "rf_classifier.fit(synthetic_x, synthetic_y)\n",
    "if_classifier.fit(synthetic_x, synthetic_y)\n",
    "xgb_classifier.fit(synthetic_x, synthetic_y)\n",
    "mlp_classifier.partial_fit(synthetic_x, synthetic_y, classes=[0, 1])\n",
    "ae_classifier.fit((synthetic_x, synthetic_y), epochs=10, batch_size=128, shuffle=True)\n",
    "\n",
    "print(\"Training Finished...\")"
   ]
  },
  {
   "cell_type": "code",
   "execution_count": 10,
   "metadata": {},
   "outputs": [],
   "source": [
    "df = pd.read_csv(\n",
    "    \"./datasets/NF-UNSW-NB15-v2-downsample.csv.gz\",\n",
    "    dtype=dtypes_netflow\n",
    ")"
   ]
  },
  {
   "cell_type": "code",
   "execution_count": 11,
   "metadata": {},
   "outputs": [
    {
     "name": "stdout",
     "output_type": "stream",
     "text": [
      "<class 'pandas.core.frame.DataFrame'>\n",
      "RangeIndex: 478055 entries, 0 to 478054\n",
      "Data columns (total 45 columns):\n",
      " #   Column                       Non-Null Count   Dtype  \n",
      "---  ------                       --------------   -----  \n",
      " 0   IPV4_SRC_ADDR                478055 non-null  object \n",
      " 1   L4_SRC_PORT                  478055 non-null  float32\n",
      " 2   IPV4_DST_ADDR                478055 non-null  object \n",
      " 3   L4_DST_PORT                  478055 non-null  float32\n",
      " 4   PROTOCOL                     478055 non-null  float32\n",
      " 5   L7_PROTO                     478055 non-null  float64\n",
      " 6   IN_BYTES                     478055 non-null  float32\n",
      " 7   IN_PKTS                      478055 non-null  float32\n",
      " 8   OUT_BYTES                    478055 non-null  float32\n",
      " 9   OUT_PKTS                     478055 non-null  float32\n",
      " 10  TCP_FLAGS                    478055 non-null  int32  \n",
      " 11  CLIENT_TCP_FLAGS             478055 non-null  int32  \n",
      " 12  SERVER_TCP_FLAGS             478055 non-null  int32  \n",
      " 13  FLOW_DURATION_MILLISECONDS   478055 non-null  float32\n",
      " 14  DURATION_IN                  478055 non-null  float32\n",
      " 15  DURATION_OUT                 478055 non-null  float32\n",
      " 16  MIN_TTL                      478055 non-null  float32\n",
      " 17  MAX_TTL                      478055 non-null  float32\n",
      " 18  LONGEST_FLOW_PKT             478055 non-null  float32\n",
      " 19  SHORTEST_FLOW_PKT            478055 non-null  float32\n",
      " 20  MIN_IP_PKT_LEN               478055 non-null  float32\n",
      " 21  MAX_IP_PKT_LEN               478055 non-null  float32\n",
      " 22  SRC_TO_DST_SECOND_BYTES      478055 non-null  float64\n",
      " 23  DST_TO_SRC_SECOND_BYTES      478055 non-null  float64\n",
      " 24  RETRANSMITTED_IN_BYTES       478055 non-null  float32\n",
      " 25  RETRANSMITTED_IN_PKTS        478055 non-null  float32\n",
      " 26  RETRANSMITTED_OUT_BYTES      478055 non-null  float32\n",
      " 27  RETRANSMITTED_OUT_PKTS       478055 non-null  float32\n",
      " 28  SRC_TO_DST_AVG_THROUGHPUT    478055 non-null  float32\n",
      " 29  DST_TO_SRC_AVG_THROUGHPUT    478055 non-null  float32\n",
      " 30  NUM_PKTS_UP_TO_128_BYTES     478055 non-null  float32\n",
      " 31  NUM_PKTS_128_TO_256_BYTES    478055 non-null  float32\n",
      " 32  NUM_PKTS_256_TO_512_BYTES    478055 non-null  float32\n",
      " 33  NUM_PKTS_512_TO_1024_BYTES   478055 non-null  float32\n",
      " 34  NUM_PKTS_1024_TO_1514_BYTES  478055 non-null  float32\n",
      " 35  TCP_WIN_MAX_IN               478055 non-null  float32\n",
      " 36  TCP_WIN_MAX_OUT              478055 non-null  float32\n",
      " 37  ICMP_TYPE                    478055 non-null  float32\n",
      " 38  ICMP_IPV4_TYPE               478055 non-null  float32\n",
      " 39  DNS_QUERY_ID                 478055 non-null  float32\n",
      " 40  DNS_QUERY_TYPE               478055 non-null  float32\n",
      " 41  DNS_TTL_ANSWER               478055 non-null  float32\n",
      " 42  FTP_COMMAND_RET_CODE         478055 non-null  float32\n",
      " 43  Label                        478055 non-null  float32\n",
      " 44  Attack                       478055 non-null  object \n",
      "dtypes: float32(36), float64(3), int32(3), object(3)\n",
      "memory usage: 93.0+ MB\n",
      "None\n"
     ]
    }
   ],
   "source": [
    "# Show information about the dataset \n",
    "print(df.info())"
   ]
  },
  {
   "cell_type": "code",
   "execution_count": 12,
   "metadata": {},
   "outputs": [
    {
     "name": "stdout",
     "output_type": "stream",
     "text": [
      "Attack\n",
      "Benign            459044\n",
      "Exploits            6310\n",
      "Fuzzers             4462\n",
      "Generic             3312\n",
      "Reconnaissance      2556\n",
      "DoS                 1159\n",
      "Analysis             460\n",
      "Backdoor             434\n",
      "Shellcode            285\n",
      "Worms                 33\n",
      "Name: count, dtype: int64\n",
      "Using cached file: 2e1b49bdf7ef775ccf86409f36645a01.\n"
     ]
    }
   ],
   "source": [
    "df.replace([np.inf, -np.inf], np.nan, inplace=True)\n",
    "df.dropna(inplace=True)\n",
    "print(df['Attack'].value_counts())\n",
    "df.drop(FEATURES_TO_DROP, axis=1, inplace=True)\n",
    "df = df[df < threshold]\n",
    "df = split_flag_columns(df)\n",
    "df.dropna(inplace=True)"
   ]
  },
  {
   "cell_type": "code",
   "execution_count": 13,
   "metadata": {},
   "outputs": [],
   "source": [
    "X, y = df.drop(['Label'], axis=1), df['Label']\n",
    "\n",
    "X_train, X_test, y_train, y_test = train_test_split(\n",
    "                                        X, y, stratify=y,\n",
    "                                        test_size=0.33, random_state=42\n",
    "                                   )\n",
    "\n",
    "\n",
    "# Reescale the models to train and test\n",
    "scaler = MinMaxScaler()\n",
    "X_train = scaler.fit_transform(X_train)\n",
    "X_test = scaler.transform(X_test)"
   ]
  },
  {
   "cell_type": "code",
   "execution_count": 14,
   "metadata": {},
   "outputs": [
    {
     "name": "stdout",
     "output_type": "stream",
     "text": [
      "Incremental Training Started...\n",
      "> Loaded Unknown Dataset  | Trainset: (320296, 52)\n",
      "> Train samples: 320296\n",
      "Epoch 1/10\n",
      "2403/2403 [==============================] - 6s 2ms/step - loss: 0.0049\n",
      "Epoch 2/10\n",
      "2403/2403 [==============================] - 6s 2ms/step - loss: 9.7623e-04\n",
      "Epoch 3/10\n",
      "2403/2403 [==============================] - 6s 2ms/step - loss: 8.7619e-04\n",
      "Epoch 4/10\n",
      "2403/2403 [==============================] - 6s 2ms/step - loss: 8.4991e-04\n",
      "Epoch 5/10\n",
      "2403/2403 [==============================] - 6s 2ms/step - loss: 8.3011e-04\n",
      "Epoch 6/10\n",
      "2403/2403 [==============================] - 6s 2ms/step - loss: 8.2137e-04\n",
      "Epoch 7/10\n",
      "2403/2403 [==============================] - 6s 2ms/step - loss: 8.1272e-04\n",
      "Epoch 8/10\n",
      "2403/2403 [==============================] - 7s 3ms/step - loss: 8.0390e-04\n",
      "Epoch 9/10\n",
      "2403/2403 [==============================] - 7s 3ms/step - loss: 7.9590e-04\n",
      "Epoch 10/10\n",
      "2403/2403 [==============================] - 6s 3ms/step - loss: 7.9139e-04\n",
      ">>> Threshold: 0.0007913918816484511\n",
      "Incremental Training Finished...\n"
     ]
    }
   ],
   "source": [
    "print(\"Incremental Training Started...\")\n",
    "rf_classifier.n_estimators += 100\n",
    "rf_classifier.fit(X_train, y_train)\n",
    "\n",
    "if_classifier.n_estimators += 50\n",
    "if_classifier.fit(X_train, y_train)\n",
    "\n",
    "xgb_classifier.fit(X_train, y_train, xgb_model=xgb_classifier)\n",
    "mlp_classifier.partial_fit(X_train, y_train)\n",
    "\n",
    "ae_classifier.fit((X_train, y_train), epochs=10, batch_size=128, shuffle=True)\n",
    "print(\"Incremental Training Finished...\")"
   ]
  },
  {
   "cell_type": "code",
   "execution_count": 15,
   "metadata": {},
   "outputs": [],
   "source": [
    "def evaluate_models(X_test, y_test, rf_classifier, if_classifier, xgb_classifier, mlp_classifier, ae_classifier):\n",
    "    y_pred_rf = rf_classifier.predict(X_test)\n",
    "    y_pred_if = if_classifier.predict(X_test)\n",
    "    y_pred_if[y_pred_if == 1] = 0\n",
    "    y_pred_if[y_pred_if == -1] = 1\n",
    "    y_pred_xgb = xgb_classifier.predict(X_test)\n",
    "    y_pred_mlp = mlp_classifier.predict(X_test)\n",
    "\n",
    "    print(f\"Random Forest:\\t\\t{f1_score(y_test, y_pred_rf)}\")\n",
    "    print(f\"Isolation Forest:\\t{f1_score(y_test, y_pred_if)}\")\n",
    "    print(f\"XGB:\\t\\t{f1_score(y_test, y_pred_xgb)}\")\n",
    "    print(f\"MLP:\\t\\t{f1_score(y_test, y_pred_mlp)}\")\n",
    "\n",
    "    ae_classifier.evaluate((X_test, y_test))"
   ]
  },
  {
   "cell_type": "code",
   "execution_count": 16,
   "metadata": {},
   "outputs": [
    {
     "name": "stdout",
     "output_type": "stream",
     "text": [
      "Random Forest:\t\t0.9655876807039598\n",
      "Isolation Forest:\t0.017904425671415963\n",
      "XGB:\t\t0.07649680247267318\n",
      "MLP:\t\t0.9407186999313343\n",
      "> Loaded Unknown Dataset  | Testset: (157759, 52)\n",
      "> Test samples: Label, 0.0    151485, 1.0      6274\n",
      "4930/4930 [==============================] - 8s 2ms/step\n",
      "4930/4930 [==============================] - 9s 2ms/step - loss: 0.0011\n",
      "Test Results:\n",
      "{'acc': 0.039769521865630486, 'rec': 1.0, 'prec': 0.039769521865630486, 'f1': 0.07649680247267318, 'mcc': 0.0, 'missrate': 0.0, 'fallout': 1.0, 'auc': 0.5, 'f2-score': 0.17155669793005388}\n"
     ]
    }
   ],
   "source": [
    "evaluate_models(\n",
    "    X_test=X_test, \n",
    "    y_test=y_test, \n",
    "    rf_classifier=rf_classifier, \n",
    "    if_classifier=if_classifier, \n",
    "    xgb_classifier= xgb_classifier, \n",
    "    mlp_classifier= mlp_classifier, \n",
    "    ae_classifier=ae_classifier\n",
    ")"
   ]
  },
  {
   "cell_type": "code",
   "execution_count": 24,
   "metadata": {},
   "outputs": [],
   "source": [
    "def load_cross_df(dataset_name, scaler=None): \n",
    "\n",
    "    print(f\"Loading the dataset: {dataset_name}\")\n",
    "    cross_df = pd.read_csv(\n",
    "        f\"./datasets/{dataset_name}-downsample.csv.gz\",\n",
    "        dtype=dtypes_netflow\n",
    "    )\n",
    "\n",
    "    cross_df.replace([np.inf, -np.inf], np.nan, inplace=True)\n",
    "    cross_df.dropna(inplace=True)\n",
    "    print(cross_df['Attack'].value_counts())\n",
    "    cross_df.drop(FEATURES_TO_DROP, axis=1, inplace=True)\n",
    "    cross_df = cross_df[cross_df < threshold]\n",
    "    cross_df = split_flag_columns(cross_df)\n",
    "    cross_df.dropna(inplace=True)\n",
    "    cross_x, cross_y = cross_df.drop(['Label', 'Unnamed: 0'], axis=1), cross_df['Label']\n",
    "\n",
    "    cross_x_train, cross_x_test, cross_y_train, cross_y_test = train_test_split(\n",
    "                                                                cross_x, cross_y,\n",
    "                                                                stratify=cross_y,\n",
    "                                                                test_size=0.9,\n",
    "                                                                random_state=42\n",
    "                                                           )\n",
    "    \n",
    "    if(scaler is not None):\n",
    "        cross_x_train = scaler.transform(cross_x_train)\n",
    "        cross_x_test = scaler.transform(cross_x_test)\n",
    "\n",
    "    return cross_x_train, cross_y_train, cross_x_test, cross_y_test\n"
   ]
  },
  {
   "cell_type": "code",
   "execution_count": 25,
   "metadata": {},
   "outputs": [
    {
     "name": "stdout",
     "output_type": "stream",
     "text": [
      "Loading the dataset: NF-ToN-IoT-v2-DDoS\n",
      "Attack\n",
      "Benign    811289\n",
      "ddos      598938\n",
      "Name: count, dtype: int64\n",
      "Using cached file: 4eaaa3e4e07e7f8fa7cab94728e15582.\n",
      "Random Forest:\t\t0.0002889611674031163\n",
      "Isolation Forest:\t0.00013347075878126366\n",
      "XGB:\t\t0.5962114353752369\n",
      "MLP:\t\t0.001511192035649389\n",
      "> Loaded Unknown Dataset  | Testset: (1269187, 52)\n",
      "> Test samples: Label, 0.0    730143, 1.0    539044\n",
      "39663/39663 [==============================] - 68s 2ms/step\n",
      "39663/39663 [==============================] - 72s 2ms/step - loss: inf\n",
      "Test Results:\n",
      "{'acc': 0.42471597959953894, 'rec': 1.0, 'prec': 0.42471597959953894, 'f1': 0.5962114353752369, 'mcc': 0.0, 'missrate': 0.0, 'fallout': 1.0, 'auc': 0.5, 'f2-score': 0.7868421536637139}\n"
     ]
    }
   ],
   "source": [
    "_, _, cross_x_test, cross_y_test = load_cross_df(\"NF-ToN-IoT-v2-DDoS\", scaler=scaler)\n",
    "evaluate_models(cross_x_test, cross_y_test, rf_classifier, if_classifier, xgb_classifier, mlp_classifier, ae_classifier=ae_classifier)"
   ]
  },
  {
   "cell_type": "code",
   "execution_count": 26,
   "metadata": {},
   "outputs": [
    {
     "name": "stdout",
     "output_type": "stream",
     "text": [
      "Loading the dataset: NF-CSE-CIC-IDS2018-v2-DDoS\n",
      "Attack\n",
      "Benign                    4990670\n",
      "DDOS attack-HOIC           324257\n",
      "DDoS attacks-LOIC-HTTP      92190\n",
      "DDOS attack-LOIC-UDP          634\n",
      "Name: count, dtype: int64\n",
      "Using cached file: 38e466053581bb706ccdb35435c58a35.\n",
      "Random Forest:\t\t2.1017322477185697e-06\n",
      "Isolation Forest:\t0.0\n",
      "XGB:\t\t0.1432055197462168\n",
      "MLP:\t\t0.0\n",
      "> Loaded Unknown Dataset  | Testset: (4866909, 52)\n",
      "> Test samples: Label, 0.0    4491548, 1.0     375361\n",
      "152091/152091 [==============================] - 284s 2ms/step\n",
      "152091/152091 [==============================] - 293s 2ms/step - loss: inf\n",
      "Test Results:\n",
      "{'acc': 0.07712513219375994, 'rec': 1.0, 'prec': 0.07712513219375994, 'f1': 0.1432055197462168, 'mcc': 0.0, 'missrate': 0.0, 'fallout': 1.0, 'auc': 0.5, 'f2-score': 0.29470806659115784}\n"
     ]
    }
   ],
   "source": [
    "_, _, cross_x_test, cross_y_test = load_cross_df(\"NF-CSE-CIC-IDS2018-v2-DDoS\", scaler=scaler)\n",
    "evaluate_models(cross_x_test, cross_y_test, rf_classifier, if_classifier, xgb_classifier, mlp_classifier, ae_classifier=ae_classifier)"
   ]
  },
  {
   "cell_type": "code",
   "execution_count": 27,
   "metadata": {},
   "outputs": [
    {
     "name": "stdout",
     "output_type": "stream",
     "text": [
      "Loading the dataset: NF-BoT-IoT-v2-DDoS\n",
      "Attack\n",
      "DDoS      5499554\n",
      "Benign      40511\n",
      "Name: count, dtype: int64\n",
      "Using cached file: e5195c9e25f808ae61dba0f520d09999.\n",
      "Random Forest:\t\t0.8552305217240332\n",
      "Isolation Forest:\t0.0\n",
      "XGB:\t\t0.996330388988832\n",
      "MLP:\t\t0.0\n",
      "> Loaded Unknown Dataset  | Testset: (4986059, 52)\n",
      "> Test samples: Label, 1.0    4949599, 0.0      36460\n",
      "155815/155815 [==============================] - 336s 2ms/step\n",
      "155815/155815 [==============================] - 284s 2ms/step - loss: 193780300906496.0000\n",
      "Test Results:\n",
      "{'acc': 0.9926876115986594, 'rec': 1.0, 'prec': 0.9926876115986594, 'f1': 0.996330388988832, 'mcc': 0.0, 'missrate': 0.0, 'fallout': 1.0, 'auc': 0.5, 'f2-score': 0.9985289166132563}\n"
     ]
    }
   ],
   "source": [
    "_, _, cross_x_test, cross_y_test = load_cross_df(\"NF-BoT-IoT-v2-DDoS\", scaler=scaler)\n",
    "evaluate_models(cross_x_test, cross_y_test, rf_classifier, if_classifier, xgb_classifier, mlp_classifier, ae_classifier=ae_classifier)"
   ]
  },
  {
   "cell_type": "code",
   "execution_count": null,
   "metadata": {},
   "outputs": [],
   "source": []
  }
 ],
 "metadata": {
  "kernelspec": {
   "display_name": ".env",
   "language": "python",
   "name": "python3"
  },
  "language_info": {
   "codemirror_mode": {
    "name": "ipython",
    "version": 3
   },
   "file_extension": ".py",
   "mimetype": "text/x-python",
   "name": "python",
   "nbconvert_exporter": "python",
   "pygments_lexer": "ipython3",
   "version": "3.10.8"
  },
  "orig_nbformat": 4
 },
 "nbformat": 4,
 "nbformat_minor": 2
}
